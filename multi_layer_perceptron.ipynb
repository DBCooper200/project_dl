{
  "nbformat": 4,
  "nbformat_minor": 0,
  "metadata": {
    "colab": {
      "provenance": [],
      "authorship_tag": "ABX9TyPqbmPNy87j6nk3lmZ+Ko8Q",
      "include_colab_link": true
    },
    "kernelspec": {
      "name": "python3",
      "display_name": "Python 3"
    },
    "language_info": {
      "name": "python"
    }
  },
  "cells": [
    {
      "cell_type": "markdown",
      "metadata": {
        "id": "view-in-github",
        "colab_type": "text"
      },
      "source": [
        "<a href=\"https://colab.research.google.com/github/DBCooper200/project_dl/blob/main/multi_layer_perceptron.ipynb\" target=\"_parent\"><img src=\"https://colab.research.google.com/assets/colab-badge.svg\" alt=\"Open In Colab\"/></a>"
      ]
    },
    {
      "cell_type": "code",
      "execution_count": null,
      "metadata": {
        "id": "g3pDl_f4Ytph"
      },
      "outputs": [],
      "source": [
        "# The Kaggle API client expects this file to be in ~/.kaggle,\n",
        "# so move it there.\n",
        "!mkdir -p ~/.kaggle\n",
        "!cp /content/kaggle.json ~/.kaggle/\n",
        "\n",
        "# This permissions change avoids a warning on Kaggle tool startup.\n",
        "!chmod 600 ~/.kaggle/kaggle.json"
      ]
    },
    {
      "cell_type": "code",
      "source": [
        "!ls -lha /root/.kaggle/kaggle.json"
      ],
      "metadata": {
        "colab": {
          "base_uri": "https://localhost:8080/"
        },
        "id": "COoUoONcZadr",
        "outputId": "df7a1564-1232-4373-d085-8bda76179e3a"
      },
      "execution_count": null,
      "outputs": [
        {
          "output_type": "stream",
          "name": "stdout",
          "text": [
            "-rw------- 1 root root 67 May 24 15:54 /root/.kaggle/kaggle.json\n"
          ]
        }
      ]
    },
    {
      "cell_type": "code",
      "source": [
        "!pip install -q kaggle"
      ],
      "metadata": {
        "id": "fTQSZgYeZa-6"
      },
      "execution_count": null,
      "outputs": []
    },
    {
      "cell_type": "code",
      "source": [
        "!kaggle datasets download -d himanshuagarwal1998/glaucomadataset"
      ],
      "metadata": {
        "colab": {
          "base_uri": "https://localhost:8080/"
        },
        "id": "m2UNjur2Zgjp",
        "outputId": "4b0c8603-2a01-4a35-84e6-a861e2ceac76"
      },
      "execution_count": null,
      "outputs": [
        {
          "output_type": "stream",
          "name": "stdout",
          "text": [
            "Downloading glaucomadataset.zip to /content\n",
            "100% 2.54G/2.54G [00:31<00:00, 147MB/s]\n",
            "100% 2.54G/2.54G [00:31<00:00, 87.4MB/s]\n"
          ]
        }
      ]
    },
    {
      "cell_type": "code",
      "source": [
        "!mkdir -p /content/Data_set\n",
        "!unzip -q /content/glaucomadataset.zip -d /content/Data_set"
      ],
      "metadata": {
        "id": "E4KOldYyZmJF"
      },
      "execution_count": null,
      "outputs": []
    },
    {
      "cell_type": "code",
      "source": [
        "import tensorflow \n",
        "import keras\n",
        "from keras.models import Sequential\n",
        "from keras.layers import Conv2D\n",
        "from keras.layers import MaxPooling2D\n",
        "from keras.layers import Flatten\n",
        "from keras.layers import Dense\n",
        "import matplotlib.pyplot as plt\n",
        "from tensorflow.keras.preprocessing import image\n",
        "from tensorflow.keras.optimizers import Adam\n",
        "import os\n",
        "import cv2\n",
        "import numpy as np\n",
        "from tqdm import tqdm\n",
        "import warnings\n",
        "warnings.filterwarnings('ignore')"
      ],
      "metadata": {
        "id": "PrJFITQIZoa5"
      },
      "execution_count": null,
      "outputs": []
    },
    {
      "cell_type": "code",
      "source": [
        "path = ['/content/Data_set/Non Glaucoma', '/content/Data_set/Glaucoma']\n",
        "images = []\n",
        "labels = []\n",
        "for n,i in enumerate(path):\n",
        "    for j in tqdm(os.listdir(i)):\n",
        "        img_path = os.path.join(i,j)\n",
        "        img = cv2.imread(img_path)\n",
        "        img = cv2.resize(img, (64,64))\n",
        "        images.append(img)\n",
        "        labels.append(n)\n",
        "images = np.array(images)/255\n",
        "labels = np.array(labels)"
      ],
      "metadata": {
        "colab": {
          "base_uri": "https://localhost:8080/"
        },
        "id": "Rfc0ng2EZqhm",
        "outputId": "928cee6f-951a-4169-eb49-db4022e84a2c"
      },
      "execution_count": null,
      "outputs": [
        {
          "output_type": "stream",
          "name": "stderr",
          "text": [
            "100%|██████████| 511/511 [00:58<00:00,  8.68it/s]\n",
            "100%|██████████| 511/511 [00:13<00:00, 37.08it/s]\n"
          ]
        }
      ]
    },
    {
      "cell_type": "code",
      "source": [
        "for n in enumerate(path):\n",
        "  print(n)\n",
        "\n",
        "#the labels assigned are \n",
        "# 0 for non glaucomic images\n",
        "# 1 for glaucomic images"
      ],
      "metadata": {
        "colab": {
          "base_uri": "https://localhost:8080/"
        },
        "id": "WKWwoI9HZsf6",
        "outputId": "d31577d7-07a3-485c-8a3b-47eef1b4b816"
      },
      "execution_count": null,
      "outputs": [
        {
          "output_type": "stream",
          "name": "stdout",
          "text": [
            "(0, '/content/Data_set/Non Glaucoma')\n",
            "(1, '/content/Data_set/Glaucoma')\n"
          ]
        }
      ]
    },
    {
      "cell_type": "code",
      "source": [
        "from sklearn.utils import shuffle\n",
        "from sklearn.model_selection import train_test_split\n",
        "\n",
        "images, labels = shuffle(images, labels, random_state=32)\n",
        "x_train, x_valid, y_train, y_valid = train_test_split(images, labels, test_size=0.15, random_state=44)\n",
        "x_train, x_test, y_train, y_test = train_test_split(x_train, y_train, test_size=0.15, random_state=40)\n",
        "     "
      ],
      "metadata": {
        "id": "gJ5SFhNTZuv0"
      },
      "execution_count": null,
      "outputs": []
    },
    {
      "cell_type": "code",
      "source": [
        "from keras.preprocessing.image import ImageDataGenerator\n",
        "datagen = ImageDataGenerator(zoom_range=0.2, horizontal_flip=True, vertical_flip=True,\n",
        "                            fill_mode='constant', cval=0.)\n",
        "train_gen = datagen.flow(x_train, y_train, batch_size=32)\n",
        "#Using TensorFlow backend.\n",
        "\n",
        "#for test set\n",
        "test_gen = datagen.flow(x_test, y_test, batch_size = 32)"
      ],
      "metadata": {
        "id": "Va8yUgRzZyO4"
      },
      "execution_count": null,
      "outputs": []
    },
    {
      "cell_type": "code",
      "source": [
        "initializer = tensorflow.keras.initializers.HeNormal()"
      ],
      "metadata": {
        "id": "xgIsy3eumU7e"
      },
      "execution_count": null,
      "outputs": []
    },
    {
      "cell_type": "code",
      "source": [
        "model = Sequential()\n",
        "model.add(Flatten())\n",
        "model.add(Dense(256, input_shape=(64,64), activation='relu',kernel_initializer=initializer))\n",
        "model.add(Dense(128, activation='relu',kernel_initializer=initializer))\n",
        "model.add(Dense(1, activation='sigmoid'))\n",
        "model.compile(optimizer='adam',loss='binary_crossentropy', metrics=['accuracy'])\n",
        "tb_callback = tensorflow.keras.callbacks.TensorBoard(log_dir=\"logs/\", histogram_freq=1)\n",
        "#the above is done to get tensorboard logs which are then referred by callback parameter below\n",
        "model.fit_generator(train_gen, epochs=100, steps_per_epoch=1,verbose=1, validation_data=(x_valid,y_valid),callbacks=[tb_callback])"
      ],
      "metadata": {
        "colab": {
          "base_uri": "https://localhost:8080/"
        },
        "id": "l6IjqeQJZ2lb",
        "outputId": "4220aca2-e8b9-4b66-a4c6-f3d0db992a2b"
      },
      "execution_count": null,
      "outputs": [
        {
          "output_type": "stream",
          "name": "stdout",
          "text": [
            "Epoch 1/100\n",
            "1/1 [==============================] - 2s 2s/step - loss: 0.9198 - accuracy: 0.3750 - val_loss: 2.7589 - val_accuracy: 0.4610\n",
            "Epoch 2/100\n",
            "1/1 [==============================] - 1s 988ms/step - loss: 2.9197 - accuracy: 0.5000 - val_loss: 0.5454 - val_accuracy: 0.6753\n",
            "Epoch 3/100\n",
            "1/1 [==============================] - 1s 919ms/step - loss: 0.5406 - accuracy: 0.6250 - val_loss: 0.6900 - val_accuracy: 0.5584\n",
            "Epoch 4/100\n",
            "1/1 [==============================] - 1s 935ms/step - loss: 0.9092 - accuracy: 0.4375 - val_loss: 0.4769 - val_accuracy: 0.9351\n",
            "Epoch 5/100\n",
            "1/1 [==============================] - 1s 901ms/step - loss: 0.3790 - accuracy: 0.8125 - val_loss: 0.5730 - val_accuracy: 0.9286\n",
            "Epoch 6/100\n",
            "1/1 [==============================] - 1s 942ms/step - loss: 0.2920 - accuracy: 0.8125 - val_loss: 0.5367 - val_accuracy: 0.9286\n",
            "Epoch 7/100\n",
            "1/1 [==============================] - 1s 917ms/step - loss: 0.7797 - accuracy: 0.8438 - val_loss: 0.4168 - val_accuracy: 0.9026\n",
            "Epoch 8/100\n",
            "1/1 [==============================] - 1s 1s/step - loss: 0.4485 - accuracy: 0.8750 - val_loss: 0.4156 - val_accuracy: 0.9026\n",
            "Epoch 9/100\n",
            "1/1 [==============================] - 1s 1s/step - loss: 0.5701 - accuracy: 0.8750 - val_loss: 0.6454 - val_accuracy: 0.7208\n",
            "Epoch 10/100\n",
            "1/1 [==============================] - 1s 966ms/step - loss: 0.9593 - accuracy: 0.5625 - val_loss: 0.5678 - val_accuracy: 0.7857\n",
            "Epoch 11/100\n",
            "1/1 [==============================] - 1s 1s/step - loss: 0.7817 - accuracy: 0.7188 - val_loss: 0.4296 - val_accuracy: 0.8831\n",
            "Epoch 12/100\n",
            "1/1 [==============================] - 1s 958ms/step - loss: 0.3823 - accuracy: 0.9062 - val_loss: 0.4016 - val_accuracy: 0.9026\n",
            "Epoch 13/100\n",
            "1/1 [==============================] - 1s 941ms/step - loss: 0.3740 - accuracy: 0.8438 - val_loss: 0.4285 - val_accuracy: 0.9026\n",
            "Epoch 14/100\n",
            "1/1 [==============================] - 1s 926ms/step - loss: 1.0307 - accuracy: 0.8750 - val_loss: 0.4129 - val_accuracy: 0.9026\n",
            "Epoch 15/100\n",
            "1/1 [==============================] - 1s 938ms/step - loss: 0.7366 - accuracy: 0.7812 - val_loss: 0.3847 - val_accuracy: 0.9026\n",
            "Epoch 16/100\n",
            "1/1 [==============================] - 1s 911ms/step - loss: 0.5835 - accuracy: 0.7812 - val_loss: 0.3489 - val_accuracy: 0.9026\n",
            "Epoch 17/100\n",
            "1/1 [==============================] - 1s 1s/step - loss: 0.8357 - accuracy: 0.7812 - val_loss: 0.3106 - val_accuracy: 0.8831\n",
            "Epoch 18/100\n",
            "1/1 [==============================] - 1s 1s/step - loss: 0.4749 - accuracy: 0.7812 - val_loss: 0.4584 - val_accuracy: 0.8182\n",
            "Epoch 19/100\n",
            "1/1 [==============================] - 1s 1s/step - loss: 0.5452 - accuracy: 0.7188 - val_loss: 0.5164 - val_accuracy: 0.7922\n",
            "Epoch 20/100\n",
            "1/1 [==============================] - 1s 933ms/step - loss: 0.8939 - accuracy: 0.5625 - val_loss: 0.3321 - val_accuracy: 0.8701\n",
            "Epoch 21/100\n",
            "1/1 [==============================] - 1s 922ms/step - loss: 0.6293 - accuracy: 0.6875 - val_loss: 0.3173 - val_accuracy: 0.8896\n",
            "Epoch 22/100\n",
            "1/1 [==============================] - 1s 928ms/step - loss: 0.6110 - accuracy: 0.7500 - val_loss: 0.3436 - val_accuracy: 0.9156\n",
            "Epoch 23/100\n",
            "1/1 [==============================] - 1s 937ms/step - loss: 0.5417 - accuracy: 0.8750 - val_loss: 0.3326 - val_accuracy: 0.9026\n",
            "Epoch 24/100\n",
            "1/1 [==============================] - 1s 1s/step - loss: 0.4847 - accuracy: 0.8125 - val_loss: 0.3117 - val_accuracy: 0.8636\n",
            "Epoch 25/100\n",
            "1/1 [==============================] - 1s 963ms/step - loss: 0.3847 - accuracy: 0.8750 - val_loss: 0.3195 - val_accuracy: 0.8636\n",
            "Epoch 26/100\n",
            "1/1 [==============================] - 1s 1s/step - loss: 0.4697 - accuracy: 0.7812 - val_loss: 0.3485 - val_accuracy: 0.8571\n",
            "Epoch 27/100\n",
            "1/1 [==============================] - 2s 2s/step - loss: 0.4172 - accuracy: 0.7500 - val_loss: 0.3286 - val_accuracy: 0.8701\n",
            "Epoch 28/100\n",
            "1/1 [==============================] - 1s 1s/step - loss: 0.4379 - accuracy: 0.8750 - val_loss: 0.3043 - val_accuracy: 0.8636\n",
            "Epoch 29/100\n",
            "1/1 [==============================] - 1s 1s/step - loss: 0.2568 - accuracy: 0.9375 - val_loss: 0.3113 - val_accuracy: 0.9026\n",
            "Epoch 30/100\n",
            "1/1 [==============================] - 1s 951ms/step - loss: 0.2990 - accuracy: 0.9062 - val_loss: 0.3315 - val_accuracy: 0.9026\n",
            "Epoch 31/100\n",
            "1/1 [==============================] - 1s 897ms/step - loss: 0.4048 - accuracy: 0.8438 - val_loss: 0.3297 - val_accuracy: 0.9026\n",
            "Epoch 32/100\n",
            "1/1 [==============================] - 1s 918ms/step - loss: 0.2684 - accuracy: 0.9375 - val_loss: 0.3270 - val_accuracy: 0.9026\n",
            "Epoch 33/100\n",
            "1/1 [==============================] - 1s 897ms/step - loss: 0.4611 - accuracy: 0.7500 - val_loss: 0.3243 - val_accuracy: 0.9026\n",
            "Epoch 34/100\n",
            "1/1 [==============================] - 1s 870ms/step - loss: 0.4629 - accuracy: 0.9062 - val_loss: 0.3220 - val_accuracy: 0.8896\n",
            "Epoch 35/100\n",
            "1/1 [==============================] - 1s 891ms/step - loss: 0.3524 - accuracy: 0.8750 - val_loss: 0.3262 - val_accuracy: 0.8896\n",
            "Epoch 36/100\n",
            "1/1 [==============================] - 1s 946ms/step - loss: 0.3147 - accuracy: 0.9375 - val_loss: 0.3327 - val_accuracy: 0.8636\n",
            "Epoch 37/100\n",
            "1/1 [==============================] - 1s 1s/step - loss: 0.4531 - accuracy: 0.8125 - val_loss: 0.3267 - val_accuracy: 0.8636\n",
            "Epoch 38/100\n",
            "1/1 [==============================] - 3s 3s/step - loss: 0.5023 - accuracy: 0.7500 - val_loss: 0.3117 - val_accuracy: 0.8896\n",
            "Epoch 39/100\n",
            "1/1 [==============================] - 2s 2s/step - loss: 0.4648 - accuracy: 0.7812 - val_loss: 0.2971 - val_accuracy: 0.8961\n",
            "Epoch 40/100\n",
            "1/1 [==============================] - 3s 3s/step - loss: 0.4618 - accuracy: 0.8438 - val_loss: 0.2883 - val_accuracy: 0.8961\n",
            "Epoch 41/100\n",
            "1/1 [==============================] - 1s 990ms/step - loss: 0.1451 - accuracy: 0.9375 - val_loss: 0.2874 - val_accuracy: 0.9026\n",
            "Epoch 42/100\n",
            "1/1 [==============================] - 1s 927ms/step - loss: 0.7458 - accuracy: 0.7812 - val_loss: 0.2857 - val_accuracy: 0.8831\n",
            "Epoch 43/100\n",
            "1/1 [==============================] - 2s 2s/step - loss: 0.4696 - accuracy: 0.8438 - val_loss: 0.3053 - val_accuracy: 0.8701\n",
            "Epoch 44/100\n",
            "1/1 [==============================] - 1s 1s/step - loss: 0.3437 - accuracy: 0.8125 - val_loss: 0.3260 - val_accuracy: 0.8701\n",
            "Epoch 45/100\n",
            "1/1 [==============================] - 1s 931ms/step - loss: 0.4135 - accuracy: 0.8125 - val_loss: 0.3045 - val_accuracy: 0.8831\n",
            "Epoch 46/100\n",
            "1/1 [==============================] - 1s 939ms/step - loss: 0.3570 - accuracy: 0.8750 - val_loss: 0.2825 - val_accuracy: 0.9026\n",
            "Epoch 47/100\n",
            "1/1 [==============================] - 1s 917ms/step - loss: 0.2241 - accuracy: 0.9688 - val_loss: 0.2769 - val_accuracy: 0.9026\n",
            "Epoch 48/100\n",
            "1/1 [==============================] - 1s 1s/step - loss: 0.5784 - accuracy: 0.7500 - val_loss: 0.2759 - val_accuracy: 0.9026\n",
            "Epoch 49/100\n",
            "1/1 [==============================] - 1s 1s/step - loss: 0.4349 - accuracy: 0.8125 - val_loss: 0.2767 - val_accuracy: 0.9091\n",
            "Epoch 50/100\n",
            "1/1 [==============================] - 1s 1s/step - loss: 0.3535 - accuracy: 0.8750 - val_loss: 0.2759 - val_accuracy: 0.9026\n",
            "Epoch 51/100\n",
            "1/1 [==============================] - 1s 1s/step - loss: 0.3987 - accuracy: 0.8125 - val_loss: 0.2750 - val_accuracy: 0.9026\n",
            "Epoch 52/100\n",
            "1/1 [==============================] - 1s 1s/step - loss: 0.5176 - accuracy: 0.7500 - val_loss: 0.2679 - val_accuracy: 0.9026\n",
            "Epoch 53/100\n",
            "1/1 [==============================] - 2s 2s/step - loss: 0.5208 - accuracy: 0.7500 - val_loss: 0.2724 - val_accuracy: 0.9026\n",
            "Epoch 54/100\n",
            "1/1 [==============================] - 1s 932ms/step - loss: 0.2696 - accuracy: 0.9375 - val_loss: 0.2679 - val_accuracy: 0.9026\n",
            "Epoch 55/100\n",
            "1/1 [==============================] - 1s 915ms/step - loss: 0.3330 - accuracy: 0.9062 - val_loss: 0.2638 - val_accuracy: 0.9026\n",
            "Epoch 56/100\n",
            "1/1 [==============================] - 1s 958ms/step - loss: 0.3775 - accuracy: 0.8438 - val_loss: 0.2611 - val_accuracy: 0.9091\n",
            "Epoch 57/100\n",
            "1/1 [==============================] - 1s 928ms/step - loss: 0.3612 - accuracy: 0.8438 - val_loss: 0.2576 - val_accuracy: 0.9026\n",
            "Epoch 58/100\n",
            "1/1 [==============================] - 1s 1s/step - loss: 0.3514 - accuracy: 0.8750 - val_loss: 0.2562 - val_accuracy: 0.9026\n",
            "Epoch 59/100\n",
            "1/1 [==============================] - 1s 954ms/step - loss: 0.3935 - accuracy: 0.8750 - val_loss: 0.2559 - val_accuracy: 0.9091\n",
            "Epoch 60/100\n",
            "1/1 [==============================] - 1s 963ms/step - loss: 0.1961 - accuracy: 0.9375 - val_loss: 0.2618 - val_accuracy: 0.9026\n",
            "Epoch 61/100\n",
            "1/1 [==============================] - 1s 903ms/step - loss: 0.2349 - accuracy: 0.9062 - val_loss: 0.2592 - val_accuracy: 0.9026\n",
            "Epoch 62/100\n",
            "1/1 [==============================] - 1s 1s/step - loss: 0.4862 - accuracy: 0.7812 - val_loss: 0.2580 - val_accuracy: 0.8961\n",
            "Epoch 63/100\n",
            "1/1 [==============================] - 1s 1s/step - loss: 0.2135 - accuracy: 0.9062 - val_loss: 0.2550 - val_accuracy: 0.9091\n",
            "Epoch 64/100\n",
            "1/1 [==============================] - 1s 1s/step - loss: 1.8591 - accuracy: 0.0000e+00 - val_loss: 0.6752 - val_accuracy: 0.6818\n",
            "Epoch 65/100\n",
            "1/1 [==============================] - 1s 918ms/step - loss: 0.9398 - accuracy: 0.5312 - val_loss: 1.2199 - val_accuracy: 0.5455\n",
            "Epoch 66/100\n",
            "1/1 [==============================] - 1s 916ms/step - loss: 1.6035 - accuracy: 0.5000 - val_loss: 1.2185 - val_accuracy: 0.5455\n",
            "Epoch 67/100\n",
            "1/1 [==============================] - 1s 914ms/step - loss: 0.8468 - accuracy: 0.6875 - val_loss: 0.8401 - val_accuracy: 0.6558\n",
            "Epoch 68/100\n",
            "1/1 [==============================] - 1s 910ms/step - loss: 0.7655 - accuracy: 0.6875 - val_loss: 0.4504 - val_accuracy: 0.8442\n",
            "Epoch 69/100\n",
            "1/1 [==============================] - 1s 906ms/step - loss: 0.7761 - accuracy: 0.7500 - val_loss: 0.3785 - val_accuracy: 0.9026\n",
            "Epoch 70/100\n",
            "1/1 [==============================] - 1s 926ms/step - loss: 0.6625 - accuracy: 0.8125 - val_loss: 0.4120 - val_accuracy: 0.9026\n",
            "Epoch 71/100\n",
            "1/1 [==============================] - 1s 952ms/step - loss: 0.1238 - accuracy: 1.0000 - val_loss: 0.4992 - val_accuracy: 0.9156\n",
            "Epoch 72/100\n",
            "1/1 [==============================] - 1s 939ms/step - loss: 0.4476 - accuracy: 0.9062 - val_loss: 0.5836 - val_accuracy: 0.9545\n",
            "Epoch 73/100\n",
            "1/1 [==============================] - 1s 997ms/step - loss: 1.1107 - accuracy: 0.6875 - val_loss: 0.5421 - val_accuracy: 0.9351\n",
            "Epoch 74/100\n",
            "1/1 [==============================] - 1s 1s/step - loss: 0.8152 - accuracy: 0.9062 - val_loss: 0.4868 - val_accuracy: 0.9026\n",
            "Epoch 75/100\n",
            "1/1 [==============================] - 1s 937ms/step - loss: 0.3970 - accuracy: 0.8438 - val_loss: 0.4505 - val_accuracy: 0.9026\n",
            "Epoch 76/100\n",
            "1/1 [==============================] - 1s 1s/step - loss: 0.7564 - accuracy: 0.9062 - val_loss: 0.4498 - val_accuracy: 0.9026\n",
            "Epoch 77/100\n",
            "1/1 [==============================] - 1s 958ms/step - loss: 0.9304 - accuracy: 0.8438 - val_loss: 0.4536 - val_accuracy: 0.8961\n",
            "Epoch 78/100\n",
            "1/1 [==============================] - 1s 958ms/step - loss: 0.5995 - accuracy: 0.8750 - val_loss: 0.4577 - val_accuracy: 0.8896\n",
            "Epoch 79/100\n",
            "1/1 [==============================] - 1s 894ms/step - loss: 0.5516 - accuracy: 0.7500 - val_loss: 0.4520 - val_accuracy: 0.8636\n",
            "Epoch 80/100\n",
            "1/1 [==============================] - 1s 935ms/step - loss: 0.5841 - accuracy: 0.7812 - val_loss: 0.3797 - val_accuracy: 0.8896\n",
            "Epoch 81/100\n",
            "1/1 [==============================] - 1s 924ms/step - loss: 0.3666 - accuracy: 0.8438 - val_loss: 0.3133 - val_accuracy: 0.9026\n",
            "Epoch 82/100\n",
            "1/1 [==============================] - 1s 946ms/step - loss: 0.5731 - accuracy: 0.8438 - val_loss: 0.2938 - val_accuracy: 0.9026\n",
            "Epoch 83/100\n",
            "1/1 [==============================] - 1s 1s/step - loss: 0.2702 - accuracy: 0.9375 - val_loss: 0.2943 - val_accuracy: 0.9026\n",
            "Epoch 84/100\n",
            "1/1 [==============================] - 1s 1s/step - loss: 0.3796 - accuracy: 0.8438 - val_loss: 0.3058 - val_accuracy: 0.9026\n",
            "Epoch 85/100\n",
            "1/1 [==============================] - 1s 1s/step - loss: 0.4384 - accuracy: 0.8125 - val_loss: 0.3236 - val_accuracy: 0.9026\n",
            "Epoch 86/100\n",
            "1/1 [==============================] - 1s 881ms/step - loss: 0.3075 - accuracy: 0.9062 - val_loss: 0.3297 - val_accuracy: 0.9026\n",
            "Epoch 87/100\n",
            "1/1 [==============================] - 1s 946ms/step - loss: 0.4431 - accuracy: 0.8125 - val_loss: 0.3418 - val_accuracy: 0.8766\n",
            "Epoch 88/100\n",
            "1/1 [==============================] - 1s 1s/step - loss: 0.3447 - accuracy: 0.9062 - val_loss: 0.3307 - val_accuracy: 0.9026\n",
            "Epoch 89/100\n",
            "1/1 [==============================] - 1s 968ms/step - loss: 0.3379 - accuracy: 0.9062 - val_loss: 0.3097 - val_accuracy: 0.9091\n",
            "Epoch 90/100\n",
            "1/1 [==============================] - 1s 939ms/step - loss: 0.3935 - accuracy: 0.8125 - val_loss: 0.2949 - val_accuracy: 0.9026\n",
            "Epoch 91/100\n",
            "1/1 [==============================] - 1s 913ms/step - loss: 0.2692 - accuracy: 0.9375 - val_loss: 0.2971 - val_accuracy: 0.9091\n",
            "Epoch 92/100\n",
            "1/1 [==============================] - 1s 940ms/step - loss: 0.4288 - accuracy: 0.8125 - val_loss: 0.2965 - val_accuracy: 0.9091\n",
            "Epoch 93/100\n",
            "1/1 [==============================] - 1s 933ms/step - loss: 0.4863 - accuracy: 0.8125 - val_loss: 0.2691 - val_accuracy: 0.9026\n",
            "Epoch 94/100\n",
            "1/1 [==============================] - 1s 1s/step - loss: 0.1618 - accuracy: 0.9688 - val_loss: 0.2639 - val_accuracy: 0.9026\n",
            "Epoch 95/100\n",
            "1/1 [==============================] - 1s 1s/step - loss: 0.5571 - accuracy: 0.8438 - val_loss: 0.2688 - val_accuracy: 0.9026\n",
            "Epoch 96/100\n",
            "1/1 [==============================] - 1s 1s/step - loss: 0.2009 - accuracy: 0.9375 - val_loss: 0.2798 - val_accuracy: 0.9026\n",
            "Epoch 97/100\n",
            "1/1 [==============================] - 1s 1s/step - loss: 0.4010 - accuracy: 0.8438 - val_loss: 0.2875 - val_accuracy: 0.9026\n",
            "Epoch 98/100\n",
            "1/1 [==============================] - 1s 919ms/step - loss: 0.3912 - accuracy: 0.8750 - val_loss: 0.2832 - val_accuracy: 0.9026\n",
            "Epoch 99/100\n",
            "1/1 [==============================] - 1s 952ms/step - loss: 0.4255 - accuracy: 0.8438 - val_loss: 0.2745 - val_accuracy: 0.9026\n",
            "Epoch 100/100\n",
            "1/1 [==============================] - 1s 898ms/step - loss: 0.3944 - accuracy: 0.9062 - val_loss: 0.2653 - val_accuracy: 0.9026\n"
          ]
        },
        {
          "output_type": "execute_result",
          "data": {
            "text/plain": [
              "<keras.callbacks.History at 0x7f14ac93de70>"
            ]
          },
          "metadata": {},
          "execution_count": 18
        }
      ]
    },
    {
      "cell_type": "code",
      "source": [
        "model.summary()"
      ],
      "metadata": {
        "id": "6nGY7mZnaitt",
        "outputId": "ca777226-76ad-4a77-d039-87c73ae9762f",
        "colab": {
          "base_uri": "https://localhost:8080/"
        }
      },
      "execution_count": null,
      "outputs": [
        {
          "output_type": "stream",
          "name": "stdout",
          "text": [
            "Model: \"sequential\"\n",
            "_________________________________________________________________\n",
            " Layer (type)                Output Shape              Param #   \n",
            "=================================================================\n",
            " flatten (Flatten)           (None, None)              0         \n",
            "                                                                 \n",
            " dense (Dense)               (None, 256)               3145984   \n",
            "                                                                 \n",
            " dense_1 (Dense)             (None, 128)               32896     \n",
            "                                                                 \n",
            " dense_2 (Dense)             (None, 1)                 129       \n",
            "                                                                 \n",
            "=================================================================\n",
            "Total params: 3,179,009\n",
            "Trainable params: 3,179,009\n",
            "Non-trainable params: 0\n",
            "_________________________________________________________________\n"
          ]
        }
      ]
    },
    {
      "cell_type": "code",
      "source": [
        "!tensorboard dev upload --logdir logs "
      ],
      "metadata": {
        "id": "xrSN6azncaJN",
        "outputId": "9ec6e843-4eff-4dce-f04b-257893f64556",
        "colab": {
          "base_uri": "https://localhost:8080/"
        }
      },
      "execution_count": null,
      "outputs": [
        {
          "output_type": "stream",
          "name": "stdout",
          "text": [
            "2023-05-24 15:59:32.376133: W tensorflow/compiler/tf2tensorrt/utils/py_utils.cc:38] TF-TRT Warning: Could not find TensorRT\n",
            "\n",
            "***** TensorBoard Uploader *****\n",
            "\n",
            "This will upload your TensorBoard logs to https://tensorboard.dev/ from\n",
            "the following directory:\n",
            "\n",
            "logs\n",
            "\n",
            "This TensorBoard will be visible to everyone. Do not upload sensitive\n",
            "data.\n",
            "\n",
            "Your use of this service is subject to Google's Terms of Service\n",
            "<https://policies.google.com/terms> and Privacy Policy\n",
            "<https://policies.google.com/privacy>, and TensorBoard.dev's Terms of Service\n",
            "<https://tensorboard.dev/policy/terms/>.\n",
            "\n",
            "This notice will not be shown again while you are logged into the uploader.\n",
            "To log out, run `tensorboard dev auth revoke`.\n",
            "\n",
            "Continue? (yes/NO) Traceback (most recent call last):\n",
            "  File \"/usr/local/lib/python3.10/dist-packages/absl/app.py\", line 308, in run\n",
            "    _run_main(main, args)\n",
            "  File \"/usr/local/lib/python3.10/dist-packages/absl/app.py\", line 254, in _run_main\n",
            "    sys.exit(main(argv))\n",
            "  File \"/usr/local/lib/python3.10/dist-packages/tensorboard/program.py\", line 276, in main\n",
            "    return runner(self.flags) or 0\n",
            "  File \"/usr/local/lib/python3.10/dist-packages/tensorboard/uploader/uploader_subcommand.py\", line 691, in run\n",
            "    return _run(flags, self._experiment_url_callback)\n",
            "  File \"/usr/local/lib/python3.10/dist-packages/tensorboard/uploader/uploader_subcommand.py\", line 93, in _run\n",
            "    _prompt_for_user_ack(intent)\n",
            "  File \"/usr/local/lib/python3.10/dist-packages/tensorboard/uploader/uploader_subcommand.py\", line 66, in _prompt_for_user_ack\n",
            "    response = input(\"Continue? (yes/NO) \")\n",
            "KeyboardInterrupt\n",
            "\n",
            "During handling of the above exception, another exception occurred:\n",
            "\n",
            "Traceback (most recent call last):\n",
            "  File \"/usr/local/bin/tensorboard\", line 8, in <module>\n",
            "    sys.exit(run_main())\n",
            "  File \"/usr/local/lib/python3.10/dist-packages/tensorboard/main.py\", line 46, in run_main\n",
            "    app.run(tensorboard.main, flags_parser=tensorboard.configure)\n",
            "  File \"/usr/local/lib/python3.10/dist-packages/absl/app.py\", line 321, in run\n",
            "    if FLAGS.pdb_post_mortem and sys.stdout.isatty():\n",
            "  File \"/usr/local/lib/python3.10/dist-packages/absl/flags/_flagvalues.py\", line 470, in __getattr__\n",
            "    def __getattr__(self, name):\n",
            "KeyboardInterrupt\n",
            "^C\n"
          ]
        }
      ]
    },
    {
      "cell_type": "code",
      "source": [
        "pred = model.evaluate(x_test, y_test)"
      ],
      "metadata": {
        "id": "Xl9-2nMGZlLp",
        "outputId": "d4da46b6-b9f3-439e-8859-29414c29ba9e",
        "colab": {
          "base_uri": "https://localhost:8080/"
        }
      },
      "execution_count": null,
      "outputs": [
        {
          "output_type": "stream",
          "name": "stdout",
          "text": [
            "5/5 [==============================] - 0s 9ms/step - loss: 0.2908 - accuracy: 0.8931\n"
          ]
        }
      ]
    },
    {
      "cell_type": "code",
      "source": [
        "'''y_test_predicted=[]\n",
        "for i in range(len(x_test)):\n",
        "  res_test_imag = image.img_to_array(x_test[i])\n",
        "  res_test_imag = np.expand_dims(res_test_imag, axis = 0)\n",
        "  y_test_predicted.append(model.predict(res_test_imag,verbose=None))\n",
        "y_test_predicted=np.array(y_test_predicted)\n",
        "\n",
        "%matplotlib inline\n",
        "import matplotlib.pyplot as plt\n",
        "fig = plt.figure(figsize=(20.0,10.0))\n",
        "x_axis = len(x_test)\n",
        "y_test_predicted_flattened=y_test_predicted.ravel()\n",
        "y_test_flattened=y_test.ravel()\n",
        "plt.plot(y_test_predicted_flattened,marker='o',color='red')\n",
        "plt.plot(y_test_flattened,color='green');\n",
        "plt.xlabel('number of images from test dataset')\n",
        "plt.ylabel(\"value indicating true or false(green->actual value, red->predicted value by model)\")\n",
        "#green->actual value\n",
        "#red->predicted value by model\n",
        "'''"
      ],
      "metadata": {
        "id": "kxjGTijnar7X",
        "colab": {
          "base_uri": "https://localhost:8080/",
          "height": 179
        },
        "outputId": "c79e74e6-39b2-434d-bcc3-8156f8960950"
      },
      "execution_count": null,
      "outputs": [
        {
          "output_type": "execute_result",
          "data": {
            "text/plain": [
              "'y_test_predicted=[]\\nfor i in range(len(x_test)):\\n  res_test_imag = image.img_to_array(x_test[i])\\n  res_test_imag = np.expand_dims(res_test_imag, axis = 0)\\n  y_test_predicted.append(model.predict(res_test_imag,verbose=None))\\ny_test_predicted=np.array(y_test_predicted)\\n\\n%matplotlib inline\\nimport matplotlib.pyplot as plt\\nfig = plt.figure(figsize=(20.0,10.0))\\nx_axis = len(x_test)\\ny_test_predicted_flattened=y_test_predicted.ravel()\\ny_test_flattened=y_test.ravel()\\nplt.plot(y_test_predicted_flattened,marker=\\'o\\',color=\\'red\\')\\nplt.plot(y_test_flattened,color=\\'green\\');\\nplt.xlabel(\\'number of images from test dataset\\')\\nplt.ylabel(\"value indicating true or false(green->actual value, red->predicted value by model)\")\\n#green->actual value\\n#red->predicted value by model\\n'"
            ],
            "application/vnd.google.colaboratory.intrinsic+json": {
              "type": "string"
            }
          },
          "metadata": {},
          "execution_count": 16
        }
      ]
    },
    {
      "cell_type": "markdown",
      "source": [],
      "metadata": {
        "id": "qrcQxxxtZ_lR"
      }
    }
  ]
}