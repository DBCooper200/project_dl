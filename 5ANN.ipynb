{
  "nbformat": 4,
  "nbformat_minor": 0,
  "metadata": {
    "colab": {
      "provenance": [],
      "authorship_tag": "ABX9TyP46x4HpPio2KuFaR+9FL1o",
      "include_colab_link": true
    },
    "kernelspec": {
      "name": "python3",
      "display_name": "Python 3"
    },
    "language_info": {
      "name": "python"
    }
  },
  "cells": [
    {
      "cell_type": "markdown",
      "metadata": {
        "id": "view-in-github",
        "colab_type": "text"
      },
      "source": [
        "<a href=\"https://colab.research.google.com/github/DBCooper200/project_dl/blob/main/5ANN.ipynb\" target=\"_parent\"><img src=\"https://colab.research.google.com/assets/colab-badge.svg\" alt=\"Open In Colab\"/></a>"
      ]
    },
    {
      "cell_type": "code",
      "execution_count": 1,
      "metadata": {
        "id": "fx846wdLWzHD"
      },
      "outputs": [],
      "source": [
        "import tensorflow as tf\n",
        "from tensorflow import keras\n",
        "import matplotlib.pyplot as plt\n",
        "import numpy as np\n",
        "# Version Information\n",
        "# tensorflow 2.2.0 , Cudnn7.6.5 and Cuda 10.1 , python 3.8"
      ]
    },
    {
      "cell_type": "code",
      "source": [
        "tf.config.experimental.list_physical_devices()"
      ],
      "metadata": {
        "colab": {
          "base_uri": "https://localhost:8080/"
        },
        "id": "utAQ1VC6W-p5",
        "outputId": "b3254bd3-3388-432f-81c6-6809faa16801"
      },
      "execution_count": 2,
      "outputs": [
        {
          "output_type": "execute_result",
          "data": {
            "text/plain": [
              "[PhysicalDevice(name='/physical_device:CPU:0', device_type='CPU')]"
            ]
          },
          "metadata": {},
          "execution_count": 2
        }
      ]
    },
    {
      "cell_type": "markdown",
      "source": [
        "The CIFAR-10 dataset\n",
        "The CIFAR-10 dataset consists of 60000 32x32 colour images in 10 classes, with 6000 images per class. There are 50000 training images and 10000 test images.\n",
        "\n",
        "The dataset is divided into five training batches and one test batch, each with 10000 images. The test batch contains exactly 1000 randomly-selected images from each class. The training batches contain the remaining images in random order, but some training batches may contain more images from one class than another. Between them, the training batches contain exactly 5000 images from each class.\n",
        "\n",
        "Here are the classes in the dataset, as well as 10 random images from each:\n",
        "airplane\t\t\t\t\t\t\t\t\t\t\n",
        "automobile\t\t\t\t\t\t\t\t\t\t\n",
        "bird\t\t\t\t\t\t\t\t\t\t\n",
        "cat\t\t\t\t\t\t\t\t\t\t\n",
        "deer\t\t\t\t\t\t\t\t\t\t\n",
        "dog\t\t\t\t\t\t\t\t\t\t\n",
        "frog\t\t\t\t\t\t\t\t\t\t\n",
        "horse\t\t\t\t\t\t\t\t\t\t\n",
        "ship\t\t\t\t\t\t\t\t\t\t\n",
        "truck\t\t\t\t\t\t\t\t\t\t\n",
        "\n",
        "The classes are completely mutually exclusive. There is no overlap between automobiles and trucks. \"Automobile\" includes sedans, SUVs, things of that sort. \"Truck\" includes only big trucks. Neither includes pickup trucks.\n",
        "Download\n",
        "If you're going to use this dataset, please cite the tech report at the bottom of this page.\n",
        "Version\tSize\tmd5sum\n",
        "CIFAR-10 python version\t163 MB\tc58f30108f718f92721af3b95e74349a\n",
        "CIFAR-10 Matlab version\t175 MB\t70270af85842c9e89bb428ec9976c926\n",
        "CIFAR-10 binary version (suitable for C programs)\t162 MB\tc32a1d4ab5d03f1284b67883e8d87530\n",
        "Baseline results\n",
        "You can find some baseline replicable results on this dataset on the project page for cuda-convnet. These results were obtained with a convolutional neural network. Briefly, they are 18% test error without data augmentation and 11% with. Additionally, Jasper Snoek has a new paper in which he used Bayesian hyperparameter optimization to find nice settings of the weight decay and other hyperparameters, which allowed him to obtain a test error rate of 15% (without data augmentation) using the architecture of the net that got 18%.\n",
        "Other results\n",
        "Rodrigo Benenson has been kind enough to collect results on CIFAR-10/100 and other datasets on his website; click here to view.\n",
        "Dataset layout\n",
        "Python / Matlab versions\n",
        "I will describe the layout of the Python version of the dataset. The layout of the Matlab version is identical.\n",
        "\n",
        "The archive contains the files data_batch_1, data_batch_2, ..., data_batch_5, as well as test_batch. Each of these files is a Python \"pickled\" object produced with cPickle. Here is a python2 routine which will open such a file and return a dictionary:\n",
        "def unpickle(file):\n",
        "    import cPickle\n",
        "    with open(file, 'rb') as fo:\n",
        "        dict = cPickle.load(fo)\n",
        "    return dict\n",
        "And a python3 version:\n",
        "def unpickle(file):\n",
        "    import pickle\n",
        "    with open(file, 'rb') as fo:\n",
        "        dict = pickle.load(fo, encoding='bytes')\n",
        "    return dict\n",
        "Loaded in this way, each of the batch files contains a dictionary with the following elements:\n",
        "data -- a 10000x3072 numpy array of uint8s. Each row of the array stores a 32x32 colour image. The first 1024 entries contain the red channel values, the next 1024 the green, and the final 1024 the blue. The image is stored in row-major order, so that the first 32 entries of the array are the red channel values of the first row of the image.\n",
        "labels -- a list of 10000 numbers in the range 0-9. The number at index i indicates the label of the ith image in the array data.\n",
        "\n",
        "The dataset contains another file, called batches.meta. It too contains a Python dictionary object. It has the following entries:\n",
        "label_names -- a 10-element list which gives meaningful names to the numeric labels in the labels array described above. For example, label_names[0] == \"airplane\", label_names[1] == \"automobile\", etc.\n",
        "Binary version\n",
        "The binary version contains the files data_batch_1.bin, data_batch_2.bin, ..., data_batch_5.bin, as well as test_batch.bin. Each of these files is formatted as follows:\n",
        "<1 x label><3072 x pixel>\n",
        "...\n",
        "<1 x label><3072 x pixel>\n",
        "In other words, the first byte is the label of the first image, which is a number in the range 0-9. The next 3072 bytes are the values of the pixels of the image. The first 1024 bytes are the red channel values, the next 1024 the green, and the final 1024 the blue. The values are stored in row-major order, so the first 32 bytes are the red channel values of the first row of the image.\n",
        "\n",
        "Each file contains 10000 such 3073-byte \"rows\" of images, although there is nothing delimiting the rows. Therefore each file should be exactly 30730000 bytes long.\n",
        "\n",
        "There is another file, called batches.meta.txt. This is an ASCII file that maps numeric labels in the range 0-9 to meaningful class names. It is merely a list of the 10 class names, one per row. The class name on row i corresponds to numeric label i.\n",
        "The CIFAR-100 dataset\n",
        "This dataset is just like the CIFAR-10, except it has 100 classes containing 600 images each. There are 500 training images and 100 testing images per class. The 100 classes in the CIFAR-100 are grouped into 20 superclasses. Each image comes with a \"fine\" label (the class to which it belongs) and a \"coarse\" label (the superclass to which it belongs).\n",
        "Here is the list of classes in the CIFAR-100:\n",
        "\n",
        "Superclass\tClasses\n",
        "aquatic mammals\tbeaver, dolphin, otter, seal, whale\n",
        "fish\taquarium fish, flatfish, ray, shark, trout\n",
        "flowers\torchids, poppies, roses, sunflowers, tulips\n",
        "food containers\tbottles, bowls, cans, cups, plates\n",
        "fruit and vegetables\tapples, mushrooms, oranges, pears, sweet peppers\n",
        "household electrical devices\tclock, computer keyboard, lamp, telephone, television\n",
        "household furniture\tbed, chair, couch, table, wardrobe\n",
        "insects\tbee, beetle, butterfly, caterpillar, cockroach\n",
        "large carnivores\tbear, leopard, lion, tiger, wolf\n",
        "large man-made outdoor things\tbridge, castle, house, road, skyscraper\n",
        "large natural outdoor scenes\tcloud, forest, mountain, plain, sea\n",
        "large omnivores and herbivores\tcamel, cattle, chimpanzee, elephant, kangaroo\n",
        "medium-sized mammals\tfox, porcupine, possum, raccoon, skunk\n",
        "non-insect invertebrates\tcrab, lobster, snail, spider, worm\n",
        "people\tbaby, boy, girl, man, woman\n",
        "reptiles\tcrocodile, dinosaur, lizard, snake, turtle\n",
        "small mammals\thamster, mouse, rabbit, shrew, squirrel\n",
        "trees\tmaple, oak, palm, pine, willow\n",
        "vehicles 1\tbicycle, bus, motorcycle, pickup truck, train\n",
        "vehicles 2\tlawn-mower, rocket, streetcar, tank, tractor\n",
        "\n",
        "Yes, I know mushrooms aren't really fruit or vegetables and bears aren't really carnivores.\n",
        "Download\n",
        "Version\tSize\tmd5sum\n",
        "CIFAR-100 python version\t161 MB\teb9058c3a382ffc7106e4002c42a8d85\n",
        "CIFAR-100 Matlab version\t175 MB\t6a4bfa1dcd5c9453dda6bb54194911f4\n",
        "CIFAR-100 binary version (suitable for C programs)\t161 MB\t03b5dce01913d631647c71ecec9e9cb8\n",
        "Dataset layout\n",
        "Python / Matlab versions\n",
        "The python and Matlab versions are identical in layout to the CIFAR-10, so I won't waste space describing them here.\n",
        "Binary version\n",
        "The binary version of the CIFAR-100 is just like the binary version of the CIFAR-10, except that each image has two label bytes (coarse and fine) and 3072 pixel bytes, so the binary files look like this:\n",
        "<1 x coarse label><1 x fine label><3072 x pixel>\n",
        "...\n",
        "<1 x coarse label><1 x fine label><3072 x pixel>\n",
        "Indices into the original 80 million tiny images dataset\n",
        "Sivan Sabato was kind enough to provide this file, which maps CIFAR-100 images to images in the 80 million tiny images dataset. Sivan Writes:\n",
        "The file has 60000 rows, each row contains a single index into the tiny db,\n",
        "where the first image in the tiny db is indexed \"1\". \"0\" stands for an image that is not from the tiny db.\n",
        "The first 50000 lines correspond to the training set, and the last 10000 lines correspond\n",
        "to the test set."
      ],
      "metadata": {
        "id": "45djgyfDXqGi"
      }
    },
    {
      "cell_type": "code",
      "source": [
        "(X_train, y_train), (X_test,y_test) = tf.keras.datasets.cifar10.load_data()"
      ],
      "metadata": {
        "colab": {
          "base_uri": "https://localhost:8080/"
        },
        "id": "B6fxg1YiXuM-",
        "outputId": "b705ab87-65bc-48ce-a7b9-0dc1dea100ae"
      },
      "execution_count": 3,
      "outputs": [
        {
          "output_type": "stream",
          "name": "stdout",
          "text": [
            "Downloading data from https://www.cs.toronto.edu/~kriz/cifar-10-python.tar.gz\n",
            "170498071/170498071 [==============================] - 11s 0us/step\n"
          ]
        }
      ]
    },
    {
      "cell_type": "code",
      "source": [
        "X_train.shape    #3-rgb channels of image"
      ],
      "metadata": {
        "colab": {
          "base_uri": "https://localhost:8080/"
        },
        "id": "qL7gqWrdYAK2",
        "outputId": "4694d863-85dc-4b66-818f-fdfa5e70887b"
      },
      "execution_count": 4,
      "outputs": [
        {
          "output_type": "execute_result",
          "data": {
            "text/plain": [
              "(50000, 32, 32, 3)"
            ]
          },
          "metadata": {},
          "execution_count": 4
        }
      ]
    },
    {
      "cell_type": "code",
      "source": [
        "y_train.shape"
      ],
      "metadata": {
        "colab": {
          "base_uri": "https://localhost:8080/"
        },
        "id": "J1b2qtyZYJrn",
        "outputId": "d341a1e6-6fa0-4550-d2fd-883c470d0014"
      },
      "execution_count": 5,
      "outputs": [
        {
          "output_type": "execute_result",
          "data": {
            "text/plain": [
              "(50000, 1)"
            ]
          },
          "metadata": {},
          "execution_count": 5
        }
      ]
    },
    {
      "cell_type": "code",
      "source": [
        "def plot_sample(index):\n",
        "    plt.figure(figsize = (10,1))\n",
        "    plt.imshow(X_train[index])\n",
        "plot_sample(0)"
      ],
      "metadata": {
        "colab": {
          "base_uri": "https://localhost:8080/",
          "height": 105
        },
        "id": "7waY7DnvYOFk",
        "outputId": "fbd4b751-5903-41c9-84f0-7b81154048c7"
      },
      "execution_count": 6,
      "outputs": [
        {
          "output_type": "display_data",
          "data": {
            "text/plain": [
              "<Figure size 720x72 with 1 Axes>"
            ],
            "image/png": "[encoded data removed]"
          },
          "metadata": {
            "needs_background": "light"
          }
        }
      ]
    },
    {
      "cell_type": "code",
      "source": [
        "classes = [\"airplane\",\"automobile\",\"bird\",\"cat\",\"deer\",\"dog\",\"frog\",\"horse\",\"ship\",\"truck\"]"
      ],
      "metadata": {
        "id": "RTBGJNKKYuLV"
      },
      "execution_count": 7,
      "outputs": []
    },
    {
      "cell_type": "code",
      "source": [
        "classes[y_train[3][0]]"
      ],
      "metadata": {
        "colab": {
          "base_uri": "https://localhost:8080/",
          "height": 36
        },
        "id": "zjcjRLeAY0YT",
        "outputId": "b4893025-c54f-4647-a17e-2dd2694159af"
      },
      "execution_count": 8,
      "outputs": [
        {
          "output_type": "execute_result",
          "data": {
            "text/plain": [
              "'deer'"
            ],
            "application/vnd.google.colaboratory.intrinsic+json": {
              "type": "string"
            }
          },
          "metadata": {},
          "execution_count": 8
        }
      ]
    },
    {
      "cell_type": "code",
      "source": [
        "X_train_scaled = X_train / 255\n",
        "X_test_scaled = X_test / 255\n",
        "#255 because the range of values of all the pixels i.e. rgb values are 0-255"
      ],
      "metadata": {
        "id": "Ajq5PXkuZRRZ"
      },
      "execution_count": 9,
      "outputs": []
    },
    {
      "cell_type": "code",
      "source": [
        "y_train_categorical = keras.utils.to_categorical(\n",
        "    y_train, num_classes=10, dtype='float32'\n",
        ")\n",
        "#one hot encoding i.e. 10 features are created and if y=6 then 6th new feature has one all the others r 0"
      ],
      "metadata": {
        "id": "OD7bhR6VZZn4"
      },
      "execution_count": 10,
      "outputs": []
    },
    {
      "cell_type": "code",
      "source": [
        "y_test_categorical = keras.utils.to_categorical(\n",
        "    y_test, num_classes=10, dtype='float32'\n",
        ")"
      ],
      "metadata": {
        "id": "FVYaURlCbfe5"
      },
      "execution_count": 12,
      "outputs": []
    },
    {
      "cell_type": "code",
      "source": [
        "model = keras.Sequential([\n",
        "        keras.layers.Flatten(input_shape=(32,32,3)),\n",
        "        keras.layers.Dense(3000, activation='relu'),\n",
        "        keras.layers.Dense(1000, activation='relu'),\n",
        "        keras.layers.Dense(10, activation='sigmoid')    \n",
        "    ])\n",
        "\n",
        "model.compile(optimizer='SGD',\n",
        "              loss='categorical_crossentropy',#because of one hot encoding\n",
        "              metrics=['accuracy'])\n",
        "\n",
        "model.fit(X_train_scaled, y_train_categorical, epochs=2)"
      ],
      "metadata": {
        "colab": {
          "base_uri": "https://localhost:8080/"
        },
        "id": "Dvan9RNUdlaH",
        "outputId": "f8d9918b-0d5d-48ba-b7c8-a8c74f7c73af"
      },
      "execution_count": 14,
      "outputs": [
        {
          "output_type": "stream",
          "name": "stdout",
          "text": [
            "Epoch 1/2\n",
            "1563/1563 [==============================] - 158s 101ms/step - loss: 1.8129 - accuracy: 0.3536\n",
            "Epoch 2/2\n",
            "1563/1563 [==============================] - 148s 95ms/step - loss: 1.6250 - accuracy: 0.4264\n"
          ]
        },
        {
          "output_type": "execute_result",
          "data": {
            "text/plain": [
              "<keras.callbacks.History at 0x7f599a7cba00>"
            ]
          },
          "metadata": {},
          "execution_count": 14
        }
      ]
    },
    {
      "cell_type": "code",
      "source": [
        "model.predict(X_test_scaled)"
      ],
      "metadata": {
        "id": "WVowsHEoj1j7",
        "outputId": "bc084b8f-aed7-4d24-8300-f1bc348fd037",
        "colab": {
          "base_uri": "https://localhost:8080/"
        }
      },
      "execution_count": 15,
      "outputs": [
        {
          "output_type": "stream",
          "name": "stdout",
          "text": [
            "313/313 [==============================] - 11s 34ms/step\n"
          ]
        },
        {
          "output_type": "execute_result",
          "data": {
            "text/plain": [
              "array([[0.35384235, 0.49960753, 0.70963204, ..., 0.1607965 , 0.5046864 ,\n",
              "        0.11155824],\n",
              "       [0.84196216, 0.811322  , 0.35696462, ..., 0.15253003, 0.92430866,\n",
              "        0.9660271 ],\n",
              "       [0.9119605 , 0.787034  , 0.4195868 , ..., 0.24310873, 0.95393485,\n",
              "        0.8764436 ],\n",
              "       ...,\n",
              "       [0.1419806 , 0.11594832, 0.70484954, ..., 0.6310729 , 0.27247298,\n",
              "        0.1862891 ],\n",
              "       [0.33407584, 0.21297072, 0.7252103 , ..., 0.5203595 , 0.18230902,\n",
              "        0.22395933],\n",
              "       [0.4898644 , 0.12718555, 0.6764025 , ..., 0.9138311 , 0.1810166 ,\n",
              "        0.29027882]], dtype=float32)"
            ]
          },
          "metadata": {},
          "execution_count": 15
        }
      ]
    },
    {
      "cell_type": "code",
      "source": [
        "model.predict(X_test_scaled)[0]"
      ],
      "metadata": {
        "id": "0rXdohpEj7Gp",
        "outputId": "fc2c91b3-320d-4121-e5ff-45fda2ef4081",
        "colab": {
          "base_uri": "https://localhost:8080/"
        }
      },
      "execution_count": 16,
      "outputs": [
        {
          "output_type": "stream",
          "name": "stdout",
          "text": [
            "313/313 [==============================] - 10s 32ms/step\n"
          ]
        },
        {
          "output_type": "execute_result",
          "data": {
            "text/plain": [
              "array([0.35384235, 0.49960753, 0.70963204, 0.8960905 , 0.3911842 ,\n",
              "       0.860072  , 0.80907226, 0.1607965 , 0.5046864 , 0.11155824],\n",
              "      dtype=float32)"
            ]
          },
          "metadata": {},
          "execution_count": 16
        }
      ]
    },
    {
      "cell_type": "code",
      "source": [
        "np.argmax(model.predict(X_test_scaled)[0])"
      ],
      "metadata": {
        "id": "zX0wzjH_kBWk",
        "outputId": "dd7539f0-2e72-4b12-a573-592105300713",
        "colab": {
          "base_uri": "https://localhost:8080/"
        }
      },
      "execution_count": 17,
      "outputs": [
        {
          "output_type": "stream",
          "name": "stdout",
          "text": [
            "313/313 [==============================] - 10s 32ms/step\n"
          ]
        },
        {
          "output_type": "execute_result",
          "data": {
            "text/plain": [
              "3"
            ]
          },
          "metadata": {},
          "execution_count": 17
        }
      ]
    },
    {
      "cell_type": "code",
      "source": [
        "model.evaluate(X_test_scaled,y_test_categorical)"
      ],
      "metadata": {
        "id": "QRWsLPyKklt4",
        "outputId": "ec5653d3-7e8c-4304-cb02-84a7e67fa095",
        "colab": {
          "base_uri": "https://localhost:8080/"
        }
      },
      "execution_count": 21,
      "outputs": [
        {
          "output_type": "stream",
          "name": "stdout",
          "text": [
            "313/313 [==============================] - 10s 32ms/step - loss: 1.5981 - accuracy: 0.4394\n"
          ]
        },
        {
          "output_type": "execute_result",
          "data": {
            "text/plain": [
              "[1.598070740699768, 0.43939998745918274]"
            ]
          },
          "metadata": {},
          "execution_count": 21
        }
      ]
    }
  ]
}