{
  "cells": [
    {
      "cell_type": "markdown",
      "metadata": {
        "id": "view-in-github",
        "colab_type": "text"
      },
      "source": [
        "<a href=\"https://colab.research.google.com/github/DBCooper200/project_dl/blob/main/resnet_modified_code.ipynb\" target=\"_parent\"><img src=\"https://colab.research.google.com/assets/colab-badge.svg\" alt=\"Open In Colab\"/></a>"
      ]
    },
    {
      "cell_type": "code",
      "execution_count": 8,
      "metadata": {
        "colab": {
          "base_uri": "https://localhost:8080/"
        },
        "id": "n5Fy2zx9Cadm",
        "outputId": "996bbd30-7d15-4e45-f330-97f1147a88c8"
      },
      "outputs": [
        {
          "output_type": "stream",
          "name": "stdout",
          "text": [
            "-rw-r--r-- 1 root root 67 May 21 17:06 kaggle.json\n"
          ]
        }
      ],
      "source": [
        "# Let's make sure the kaggle.json file is present.\n",
        "!ls -lha kaggle.json"
      ]
    },
    {
      "cell_type": "code",
      "source": [
        "from google.colab import drive\n",
        "drive.mount('/content/drive')"
      ],
      "metadata": {
        "colab": {
          "base_uri": "https://localhost:8080/"
        },
        "id": "qLtR-mfenxR4",
        "outputId": "c7de61cd-c8a4-479a-e49c-5db8f19d088f"
      },
      "execution_count": 9,
      "outputs": [
        {
          "output_type": "stream",
          "name": "stdout",
          "text": [
            "Mounted at /content/drive\n"
          ]
        }
      ]
    },
    {
      "cell_type": "code",
      "execution_count": 10,
      "metadata": {
        "id": "fq-NW9y-Cumx"
      },
      "outputs": [],
      "source": [
        "# Next, install the Kaggle API client.\n",
        "!pip install -q kaggle"
      ]
    },
    {
      "cell_type": "code",
      "execution_count": 11,
      "metadata": {
        "id": "IfmTvpajCusO"
      },
      "outputs": [],
      "source": [
        "# The Kaggle API client expects this file to be in ~/.kaggle,\n",
        "# so move it there.\n",
        "!mkdir -p ~/.kaggle\n",
        "!cp kaggle.json ~/.kaggle/\n",
        "\n",
        "# This permissions change avoids a warning on Kaggle tool startup.\n",
        "!chmod 600 ~/.kaggle/kaggle.json"
      ]
    },
    {
      "cell_type": "code",
      "execution_count": 12,
      "metadata": {
        "colab": {
          "base_uri": "https://localhost:8080/"
        },
        "id": "O6ddBcGoCu5r",
        "outputId": "c77a8895-3e80-4e7d-a842-404b30e92a95"
      },
      "outputs": [
        {
          "output_type": "stream",
          "name": "stdout",
          "text": [
            "Downloading glaucomadataset.zip to /content\n",
            " 99% 2.52G/2.54G [00:27<00:00, 122MB/s] \n",
            "100% 2.54G/2.54G [00:28<00:00, 97.4MB/s]\n"
          ]
        }
      ],
      "source": [
        "!kaggle datasets download -d himanshuagarwal1998/glaucomadataset"
      ]
    },
    {
      "cell_type": "code",
      "execution_count": 13,
      "metadata": {
        "id": "PL6UuhLRIqAT"
      },
      "outputs": [],
      "source": [
        "!unzip -q /content/glaucomadataset.zip"
      ]
    },
    {
      "cell_type": "code",
      "execution_count": 14,
      "metadata": {
        "id": "SFPNY8oo9tre"
      },
      "outputs": [],
      "source": [
        "!mkdir 'Data_set'"
      ]
    },
    {
      "cell_type": "code",
      "execution_count": 15,
      "metadata": {
        "colab": {
          "base_uri": "https://localhost:8080/",
          "height": 36
        },
        "id": "fIqPFpSja2Oe",
        "outputId": "f8db9805-f4c6-45eb-d3b5-e0c363caa118"
      },
      "outputs": [
        {
          "output_type": "execute_result",
          "data": {
            "text/plain": [
              "'/content/Data_set/Non Glaucoma'"
            ],
            "application/vnd.google.colaboratory.intrinsic+json": {
              "type": "string"
            }
          },
          "metadata": {},
          "execution_count": 15
        }
      ],
      "source": [
        "import shutil, sys\n",
        "shutil.move(\"/content/Non Glaucoma\", \"/content/Data_set\")"
      ]
    },
    {
      "cell_type": "code",
      "execution_count": 16,
      "metadata": {
        "colab": {
          "base_uri": "https://localhost:8080/",
          "height": 36
        },
        "id": "h4rcWqciAGey",
        "outputId": "92038b4c-fd35-4305-f821-fb49ef331dea"
      },
      "outputs": [
        {
          "output_type": "execute_result",
          "data": {
            "text/plain": [
              "'/content/Data_set/Glaucoma'"
            ],
            "application/vnd.google.colaboratory.intrinsic+json": {
              "type": "string"
            }
          },
          "metadata": {},
          "execution_count": 16
        }
      ],
      "source": [
        "shutil.move(\"/content/Glaucoma\", \"/content/Data_set\")"
      ]
    },
    {
      "cell_type": "code",
      "execution_count": 17,
      "metadata": {
        "id": "6uInZfkzm7f6",
        "colab": {
          "base_uri": "https://localhost:8080/",
          "height": 54
        },
        "outputId": "6070bc8f-38b5-4720-a02c-b0dbc2aaf0e7"
      },
      "outputs": [
        {
          "output_type": "execute_result",
          "data": {
            "text/plain": [
              "'FAST_RUN = False\\nIMAGE_WIDTH=128\\nIMAGE_HEIGHT=128\\nIMAGE_SIZE=(IMAGE_WIDTH, IMAGE_HEIGHT)\\nIMAGE_CHANNELS=3\\n'"
            ],
            "application/vnd.google.colaboratory.intrinsic+json": {
              "type": "string"
            }
          },
          "metadata": {},
          "execution_count": 17
        }
      ],
      "source": [
        "'''FAST_RUN = False\n",
        "IMAGE_WIDTH=128\n",
        "IMAGE_HEIGHT=128\n",
        "IMAGE_SIZE=(IMAGE_WIDTH, IMAGE_HEIGHT)\n",
        "IMAGE_CHANNELS=3\n",
        "'''"
      ]
    },
    {
      "cell_type": "code",
      "execution_count": 18,
      "metadata": {
        "id": "HsSydybym7lS"
      },
      "outputs": [],
      "source": [
        "import tensorflow as tf\n",
        "import keras\n",
        "from keras.models import Sequential\n",
        "from keras.layers import Conv2D\n",
        "from keras.layers import MaxPooling2D\n",
        "from keras.layers import Flatten\n",
        "from keras.layers import Dense\n",
        "from tensorflow.keras.preprocessing import image\n",
        "import os\n",
        "import cv2\n",
        "import numpy as np\n",
        "from tqdm import tqdm\n",
        "import warnings\n",
        "warnings.filterwarnings('ignore')\n",
        "import warnings\n",
        "warnings.filterwarnings('ignore')"
      ]
    },
    {
      "cell_type": "code",
      "source": [
        "path = ['/content/Data_set/Non Glaucoma', '/content/Data_set/Glaucoma']\n",
        "images = []\n",
        "labels = []\n",
        "for n,i in enumerate(path):\n",
        "    for j in tqdm(os.listdir(i)):\n",
        "        img_path = os.path.join(i,j)\n",
        "        img = cv2.imread(img_path)\n",
        "        img = cv2.resize(img, (64,64))\n",
        "        images.append(img)\n",
        "        labels.append(n)\n",
        "images = np.array(images)/255\n",
        "labels = np.array(labels)"
      ],
      "metadata": {
        "colab": {
          "base_uri": "https://localhost:8080/"
        },
        "id": "Yfl6PfG_KX59",
        "outputId": "bdc6fb69-75cc-4c5f-de67-bcb64abe2097"
      },
      "execution_count": 19,
      "outputs": [
        {
          "output_type": "stream",
          "name": "stderr",
          "text": [
            "100%|██████████| 511/511 [00:48<00:00, 10.56it/s]\n",
            "100%|██████████| 511/511 [00:09<00:00, 51.30it/s]\n"
          ]
        }
      ]
    },
    {
      "cell_type": "code",
      "source": [
        "for n in enumerate(path):\n",
        "  print(n)\n",
        "\n",
        "#the labels assigned are \n",
        "# 0 for non glaucomic images\n",
        "# 1 for glaucomic images"
      ],
      "metadata": {
        "colab": {
          "base_uri": "https://localhost:8080/"
        },
        "id": "xtlP5DBELUiG",
        "outputId": "57c13df9-c896-445d-9ed0-3a1b40f037d2"
      },
      "execution_count": 20,
      "outputs": [
        {
          "output_type": "stream",
          "name": "stdout",
          "text": [
            "(0, '/content/Data_set/Non Glaucoma')\n",
            "(1, '/content/Data_set/Glaucoma')\n"
          ]
        }
      ]
    },
    {
      "cell_type": "code",
      "source": [
        "from sklearn.utils import shuffle\n",
        "from sklearn.model_selection import train_test_split\n",
        "\n",
        "images, labels = shuffle(images, labels, random_state=32)\n",
        "x_train, x_valid, y_train, y_valid = train_test_split(images, labels, test_size=0.15, random_state=44)\n",
        "x_train, x_test, y_train, y_test = train_test_split(x_train, y_train, test_size=0.15, random_state=40)"
      ],
      "metadata": {
        "id": "tKGiNtJwLYY3"
      },
      "execution_count": 21,
      "outputs": []
    },
    {
      "cell_type": "code",
      "source": [
        "\n",
        "from keras.preprocessing.image import ImageDataGenerator\n",
        "datagen = ImageDataGenerator(zoom_range=0.2, horizontal_flip=True, vertical_flip=True,\n",
        "                            fill_mode='constant', cval=0.)\n",
        "train_gen = datagen.flow(x_train, y_train, batch_size=32)\n",
        "#Using TensorFlow backend.\n",
        "\n",
        "#for test set\n",
        "test_gen = datagen.flow(x_test, y_test, batch_size = 32)"
      ],
      "metadata": {
        "id": "imMvY6vnM_v8"
      },
      "execution_count": 22,
      "outputs": []
    },
    {
      "cell_type": "code",
      "execution_count": 23,
      "metadata": {
        "colab": {
          "base_uri": "https://localhost:8080/",
          "height": 215
        },
        "id": "2KnmzOlmrPWb",
        "outputId": "2b4b0111-ee56-4642-ad12-b77e5a0d5354"
      },
      "outputs": [
        {
          "output_type": "execute_result",
          "data": {
            "text/plain": [
              "'\\nclass_list = [\"class_1\", \"class_2\"]\\nFC_LAYERS = [1024, 512, 256]\\ndropout = 0.5\\nNUM_EPOCHS = 10\\nBATCH_SIZE = 32\\n\\ndef build_model(base_model, dropout, fc_layers, num_classes):\\n    for layer in base_model.layers:\\n        layer.trainable = False\\n\\n    x = base_model.output\\n    x = Flatten()(x)\\n    for fc in fc_layers:\\n        print(fc)\\n        x = Dense(fc, activation=\\'relu\\')(x)\\n        x = Dropout(dropout)(x)\\n    preditions = Dense(num_classes, activation=\\'softmax\\')(x)\\n    finetune_model = Model(inputs = base_model.input, outputs = preditions)\\n    return finetune_model\\n\\nbase_model_1 = ResNet50(weights = None,\\n                       include_top = False,\\n                       input_shape = (HEIGHT, WIDTH, 3))\\n\\ntrain_datagen = ImageDataGenerator(preprocessing_function = preprocess_input,\\n                                   rotation_range = 90,\\n                                   horizontal_flip = True,\\n                                   vertical_flip = True,\\n                                   width_shift_range=0.2,\\n                                   height_shift_range=0.2,\\n                                   zoom_range=0.1,)\\n\\ntest_datagen = ImageDataGenerator(preprocessing_function = preprocess_input,\\n                                  rotation_range = 90,\\n                                  horizontal_flip = True,\\n                                  vertical_flip = False)\\n\\n# training_set = train_datagen.flow_from_directory(\\'/content/Data_set\\',\\n#                                                  target_size = (64, 64),\\n#                                                  batch_size = 32,\\n#                                                  class_mode = \\'binary\\')\\n\\n# test_set = test_datagen.flow_from_directory(\\'/content/Data_set\\',\\n#                                             target_size = (64, 64),\\n#                                             batch_size = 32,\\n#                                             class_mode = \\'binary\\')\\n\\n\\ntrain_generator = train_datagen.flow_from_directory(\\'/content/Data_set\\',\\n                                                    target_size = (HEIGHT, WIDTH),\\n                                                    batch_size = BATCH_SIZE)\\n\\ntest_generator = test_datagen.flow_from_directory(\\'/content/Data_set\\',\\n                                                  target_size = (HEIGHT, WIDTH),\\n                                                  batch_size = BATCH_SIZE)\\n\\n\\n\\n\\nresnet50_model = build_model(base_model_1,\\n                                      dropout = dropout,\\n                                      fc_layers = FC_LAYERS,\\n                                      num_classes = len(class_list))\\n\\nadam = Adam()\\nresnet50_model.compile(adam, loss=\"binary_crossentropy\", metrics=[\"accuracy\"])\\n\\nfilepath = \"./checkpoints\" + \"RestNet50\" + \"_model_weights.h5\"\\ncheckpoint = keras.callbacks.ModelCheckpoint(filepath, monitor = [\"acc\"], verbose= 1, mode = \"max\")\\n# cb=TensorBoard(log_dir=(\"/home/ubuntu/\"))\\ncallbacks_list = [checkpoint]\\n\\n#print(train_generator.class_indices)\\n\\n#resnet50_model.summary()\\n'"
            ],
            "application/vnd.google.colaboratory.intrinsic+json": {
              "type": "string"
            }
          },
          "metadata": {},
          "execution_count": 23
        }
      ],
      "source": [
        "HEIGHT = 64\n",
        "WIDTH = 64\n",
        "BATCH_SIZE = 32"
      ]
    },
    {
      "cell_type": "code",
      "execution_count": 24,
      "metadata": {
        "id": "p04NnVR5rbGu"
      },
      "outputs": [],
      "source": [
        "import tensorflow as tf\n",
        "from tensorflow.keras import Sequential, layers, Model\n",
        "from tensorflow.keras.applications.resnet50 import ResNet50\n",
        "'''\n",
        "from tensorflow.keras.applications.vgg16 import VGG16\n",
        "from tensorflow.keras.applications.xception import Xception\n",
        "from tensorflow.keras.applications.resnet import ResNet101\n",
        "from tensorflow.keras.applications.inception_v3 import InceptionV3\n",
        "from tensorflow.keras.applications.mobilenet_v2 import MobileNetV2\n",
        "from tensorflow.keras.applications.efficientnet import EfficientNetB7\n",
        "'''\n",
        "from sklearn.metrics import classification_report\n",
        "import plotly.express as px\n",
        "import pandas as pd"
      ]
    },
    {
      "cell_type": "code",
      "execution_count": 25,
      "metadata": {
        "id": "_NEUyo-XOq_i"
      },
      "outputs": [],
      "source": [
        "IMAGE_SIZE = (64,64)"
      ]
    },
    {
      "cell_type": "code",
      "execution_count": 26,
      "metadata": {
        "id": "LtUwq5oyOKS-"
      },
      "outputs": [],
      "source": [
        "resnet =ResNet50(weights= None, include_top=False, input_shape= (HEIGHT,WIDTH,3))\n",
        "#vgg = VGG16(input_shape=IMAGE_SIZE+(3,), weights='imagenet', include_top=False)\n",
        "#xception = Xception(input_shape=IMAGE_SIZE+(3,), weights='imagenet', include_top=False)\n",
        "#resnet101 = ResNet101(input_shape=IMAGE_SIZE+(3,), weights='imagenet', include_top=False)\n",
        "#inception = InceptionV3(input_shape=IMAGE_SIZE+(3,), weights='imagenet', include_top=False)\n",
        "#mobilenet = MobileNetV2(input_shape=IMAGE_SIZE+(3,), weights='imagenet', include_top=False)\n",
        "#efficientnet = EfficientNetB7(input_shape=IMAGE_SIZE+(3,), weights='imagenet', include_top=False)"
      ]
    },
    {
      "cell_type": "code",
      "execution_count": 44,
      "metadata": {
        "colab": {
          "base_uri": "https://localhost:8080/",
          "height": 1000
        },
        "id": "Viwn3iH5PdvC",
        "outputId": "11e39353-c8c5-4994-c703-23be57905571"
      },
      "outputs": [
        {
          "output_type": "stream",
          "name": "stdout",
          "text": [
            "Model: \"model_4\"\n",
            "__________________________________________________________________________________________________\n",
            " Layer (type)                   Output Shape         Param #     Connected to                     \n",
            "==================================================================================================\n",
            " input_1 (InputLayer)           [(None, 64, 64, 3)]  0           []                               \n",
            "                                                                                                  \n",
            " conv1_pad (ZeroPadding2D)      (None, 70, 70, 3)    0           ['input_1[0][0]']                \n",
            "                                                                                                  \n",
            " conv1_conv (Conv2D)            (None, 32, 32, 64)   9472        ['conv1_pad[0][0]']              \n",
            "                                                                                                  \n",
            " conv1_bn (BatchNormalization)  (None, 32, 32, 64)   256         ['conv1_conv[0][0]']             \n",
            "                                                                                                  \n",
            " conv1_relu (Activation)        (None, 32, 32, 64)   0           ['conv1_bn[0][0]']               \n",
            "                                                                                                  \n",
            " pool1_pad (ZeroPadding2D)      (None, 34, 34, 64)   0           ['conv1_relu[0][0]']             \n",
            "                                                                                                  \n",
            " pool1_pool (MaxPooling2D)      (None, 16, 16, 64)   0           ['pool1_pad[0][0]']              \n",
            "                                                                                                  \n",
            " conv2_block1_1_conv (Conv2D)   (None, 16, 16, 64)   4160        ['pool1_pool[0][0]']             \n",
            "                                                                                                  \n",
            " conv2_block1_1_bn (BatchNormal  (None, 16, 16, 64)  256         ['conv2_block1_1_conv[0][0]']    \n",
            " ization)                                                                                         \n",
            "                                                                                                  \n",
            " conv2_block1_1_relu (Activatio  (None, 16, 16, 64)  0           ['conv2_block1_1_bn[0][0]']      \n",
            " n)                                                                                               \n",
            "                                                                                                  \n",
            " conv2_block1_2_conv (Conv2D)   (None, 16, 16, 64)   36928       ['conv2_block1_1_relu[0][0]']    \n",
            "                                                                                                  \n",
            " conv2_block1_2_bn (BatchNormal  (None, 16, 16, 64)  256         ['conv2_block1_2_conv[0][0]']    \n",
            " ization)                                                                                         \n",
            "                                                                                                  \n",
            " conv2_block1_2_relu (Activatio  (None, 16, 16, 64)  0           ['conv2_block1_2_bn[0][0]']      \n",
            " n)                                                                                               \n",
            "                                                                                                  \n",
            " conv2_block1_0_conv (Conv2D)   (None, 16, 16, 256)  16640       ['pool1_pool[0][0]']             \n",
            "                                                                                                  \n",
            " conv2_block1_3_conv (Conv2D)   (None, 16, 16, 256)  16640       ['conv2_block1_2_relu[0][0]']    \n",
            "                                                                                                  \n",
            " conv2_block1_0_bn (BatchNormal  (None, 16, 16, 256)  1024       ['conv2_block1_0_conv[0][0]']    \n",
            " ization)                                                                                         \n",
            "                                                                                                  \n",
            " conv2_block1_3_bn (BatchNormal  (None, 16, 16, 256)  1024       ['conv2_block1_3_conv[0][0]']    \n",
            " ization)                                                                                         \n",
            "                                                                                                  \n",
            " conv2_block1_add (Add)         (None, 16, 16, 256)  0           ['conv2_block1_0_bn[0][0]',      \n",
            "                                                                  'conv2_block1_3_bn[0][0]']      \n",
            "                                                                                                  \n",
            " conv2_block1_out (Activation)  (None, 16, 16, 256)  0           ['conv2_block1_add[0][0]']       \n",
            "                                                                                                  \n",
            " conv2_block2_1_conv (Conv2D)   (None, 16, 16, 64)   16448       ['conv2_block1_out[0][0]']       \n",
            "                                                                                                  \n",
            " conv2_block2_1_bn (BatchNormal  (None, 16, 16, 64)  256         ['conv2_block2_1_conv[0][0]']    \n",
            " ization)                                                                                         \n",
            "                                                                                                  \n",
            " conv2_block2_1_relu (Activatio  (None, 16, 16, 64)  0           ['conv2_block2_1_bn[0][0]']      \n",
            " n)                                                                                               \n",
            "                                                                                                  \n",
            " conv2_block2_2_conv (Conv2D)   (None, 16, 16, 64)   36928       ['conv2_block2_1_relu[0][0]']    \n",
            "                                                                                                  \n",
            " conv2_block2_2_bn (BatchNormal  (None, 16, 16, 64)  256         ['conv2_block2_2_conv[0][0]']    \n",
            " ization)                                                                                         \n",
            "                                                                                                  \n",
            " conv2_block2_2_relu (Activatio  (None, 16, 16, 64)  0           ['conv2_block2_2_bn[0][0]']      \n",
            " n)                                                                                               \n",
            "                                                                                                  \n",
            " conv2_block2_3_conv (Conv2D)   (None, 16, 16, 256)  16640       ['conv2_block2_2_relu[0][0]']    \n",
            "                                                                                                  \n",
            " conv2_block2_3_bn (BatchNormal  (None, 16, 16, 256)  1024       ['conv2_block2_3_conv[0][0]']    \n",
            " ization)                                                                                         \n",
            "                                                                                                  \n",
            " conv2_block2_add (Add)         (None, 16, 16, 256)  0           ['conv2_block1_out[0][0]',       \n",
            "                                                                  'conv2_block2_3_bn[0][0]']      \n",
            "                                                                                                  \n",
            " conv2_block2_out (Activation)  (None, 16, 16, 256)  0           ['conv2_block2_add[0][0]']       \n",
            "                                                                                                  \n",
            " conv2_block3_1_conv (Conv2D)   (None, 16, 16, 64)   16448       ['conv2_block2_out[0][0]']       \n",
            "                                                                                                  \n",
            " conv2_block3_1_bn (BatchNormal  (None, 16, 16, 64)  256         ['conv2_block3_1_conv[0][0]']    \n",
            " ization)                                                                                         \n",
            "                                                                                                  \n",
            " conv2_block3_1_relu (Activatio  (None, 16, 16, 64)  0           ['conv2_block3_1_bn[0][0]']      \n",
            " n)                                                                                               \n",
            "                                                                                                  \n",
            " conv2_block3_2_conv (Conv2D)   (None, 16, 16, 64)   36928       ['conv2_block3_1_relu[0][0]']    \n",
            "                                                                                                  \n",
            " conv2_block3_2_bn (BatchNormal  (None, 16, 16, 64)  256         ['conv2_block3_2_conv[0][0]']    \n",
            " ization)                                                                                         \n",
            "                                                                                                  \n",
            " conv2_block3_2_relu (Activatio  (None, 16, 16, 64)  0           ['conv2_block3_2_bn[0][0]']      \n",
            " n)                                                                                               \n",
            "                                                                                                  \n",
            " conv2_block3_3_conv (Conv2D)   (None, 16, 16, 256)  16640       ['conv2_block3_2_relu[0][0]']    \n",
            "                                                                                                  \n",
            " conv2_block3_3_bn (BatchNormal  (None, 16, 16, 256)  1024       ['conv2_block3_3_conv[0][0]']    \n",
            " ization)                                                                                         \n",
            "                                                                                                  \n",
            " conv2_block3_add (Add)         (None, 16, 16, 256)  0           ['conv2_block2_out[0][0]',       \n",
            "                                                                  'conv2_block3_3_bn[0][0]']      \n",
            "                                                                                                  \n",
            " conv2_block3_out (Activation)  (None, 16, 16, 256)  0           ['conv2_block3_add[0][0]']       \n",
            "                                                                                                  \n",
            " conv3_block1_1_conv (Conv2D)   (None, 8, 8, 128)    32896       ['conv2_block3_out[0][0]']       \n",
            "                                                                                                  \n",
            " conv3_block1_1_bn (BatchNormal  (None, 8, 8, 128)   512         ['conv3_block1_1_conv[0][0]']    \n",
            " ization)                                                                                         \n",
            "                                                                                                  \n",
            " conv3_block1_1_relu (Activatio  (None, 8, 8, 128)   0           ['conv3_block1_1_bn[0][0]']      \n",
            " n)                                                                                               \n",
            "                                                                                                  \n",
            " conv3_block1_2_conv (Conv2D)   (None, 8, 8, 128)    147584      ['conv3_block1_1_relu[0][0]']    \n",
            "                                                                                                  \n",
            " conv3_block1_2_bn (BatchNormal  (None, 8, 8, 128)   512         ['conv3_block1_2_conv[0][0]']    \n",
            " ization)                                                                                         \n",
            "                                                                                                  \n",
            " conv3_block1_2_relu (Activatio  (None, 8, 8, 128)   0           ['conv3_block1_2_bn[0][0]']      \n",
            " n)                                                                                               \n",
            "                                                                                                  \n",
            " conv3_block1_0_conv (Conv2D)   (None, 8, 8, 512)    131584      ['conv2_block3_out[0][0]']       \n",
            "                                                                                                  \n",
            " conv3_block1_3_conv (Conv2D)   (None, 8, 8, 512)    66048       ['conv3_block1_2_relu[0][0]']    \n",
            "                                                                                                  \n",
            " conv3_block1_0_bn (BatchNormal  (None, 8, 8, 512)   2048        ['conv3_block1_0_conv[0][0]']    \n",
            " ization)                                                                                         \n",
            "                                                                                                  \n",
            " conv3_block1_3_bn (BatchNormal  (None, 8, 8, 512)   2048        ['conv3_block1_3_conv[0][0]']    \n",
            " ization)                                                                                         \n",
            "                                                                                                  \n",
            " conv3_block1_add (Add)         (None, 8, 8, 512)    0           ['conv3_block1_0_bn[0][0]',      \n",
            "                                                                  'conv3_block1_3_bn[0][0]']      \n",
            "                                                                                                  \n",
            " conv3_block1_out (Activation)  (None, 8, 8, 512)    0           ['conv3_block1_add[0][0]']       \n",
            "                                                                                                  \n",
            " conv3_block2_1_conv (Conv2D)   (None, 8, 8, 128)    65664       ['conv3_block1_out[0][0]']       \n",
            "                                                                                                  \n",
            " conv3_block2_1_bn (BatchNormal  (None, 8, 8, 128)   512         ['conv3_block2_1_conv[0][0]']    \n",
            " ization)                                                                                         \n",
            "                                                                                                  \n",
            " conv3_block2_1_relu (Activatio  (None, 8, 8, 128)   0           ['conv3_block2_1_bn[0][0]']      \n",
            " n)                                                                                               \n",
            "                                                                                                  \n",
            " conv3_block2_2_conv (Conv2D)   (None, 8, 8, 128)    147584      ['conv3_block2_1_relu[0][0]']    \n",
            "                                                                                                  \n",
            " conv3_block2_2_bn (BatchNormal  (None, 8, 8, 128)   512         ['conv3_block2_2_conv[0][0]']    \n",
            " ization)                                                                                         \n",
            "                                                                                                  \n",
            " conv3_block2_2_relu (Activatio  (None, 8, 8, 128)   0           ['conv3_block2_2_bn[0][0]']      \n",
            " n)                                                                                               \n",
            "                                                                                                  \n",
            " conv3_block2_3_conv (Conv2D)   (None, 8, 8, 512)    66048       ['conv3_block2_2_relu[0][0]']    \n",
            "                                                                                                  \n",
            " conv3_block2_3_bn (BatchNormal  (None, 8, 8, 512)   2048        ['conv3_block2_3_conv[0][0]']    \n",
            " ization)                                                                                         \n",
            "                                                                                                  \n",
            " conv3_block2_add (Add)         (None, 8, 8, 512)    0           ['conv3_block1_out[0][0]',       \n",
            "                                                                  'conv3_block2_3_bn[0][0]']      \n",
            "                                                                                                  \n",
            " conv3_block2_out (Activation)  (None, 8, 8, 512)    0           ['conv3_block2_add[0][0]']       \n",
            "                                                                                                  \n",
            " conv3_block3_1_conv (Conv2D)   (None, 8, 8, 128)    65664       ['conv3_block2_out[0][0]']       \n",
            "                                                                                                  \n",
            " conv3_block3_1_bn (BatchNormal  (None, 8, 8, 128)   512         ['conv3_block3_1_conv[0][0]']    \n",
            " ization)                                                                                         \n",
            "                                                                                                  \n",
            " conv3_block3_1_relu (Activatio  (None, 8, 8, 128)   0           ['conv3_block3_1_bn[0][0]']      \n",
            " n)                                                                                               \n",
            "                                                                                                  \n",
            " conv3_block3_2_conv (Conv2D)   (None, 8, 8, 128)    147584      ['conv3_block3_1_relu[0][0]']    \n",
            "                                                                                                  \n",
            " conv3_block3_2_bn (BatchNormal  (None, 8, 8, 128)   512         ['conv3_block3_2_conv[0][0]']    \n",
            " ization)                                                                                         \n",
            "                                                                                                  \n",
            " conv3_block3_2_relu (Activatio  (None, 8, 8, 128)   0           ['conv3_block3_2_bn[0][0]']      \n",
            " n)                                                                                               \n",
            "                                                                                                  \n",
            " conv3_block3_3_conv (Conv2D)   (None, 8, 8, 512)    66048       ['conv3_block3_2_relu[0][0]']    \n",
            "                                                                                                  \n",
            " conv3_block3_3_bn (BatchNormal  (None, 8, 8, 512)   2048        ['conv3_block3_3_conv[0][0]']    \n",
            " ization)                                                                                         \n",
            "                                                                                                  \n",
            " conv3_block3_add (Add)         (None, 8, 8, 512)    0           ['conv3_block2_out[0][0]',       \n",
            "                                                                  'conv3_block3_3_bn[0][0]']      \n",
            "                                                                                                  \n",
            " conv3_block3_out (Activation)  (None, 8, 8, 512)    0           ['conv3_block3_add[0][0]']       \n",
            "                                                                                                  \n",
            " conv3_block4_1_conv (Conv2D)   (None, 8, 8, 128)    65664       ['conv3_block3_out[0][0]']       \n",
            "                                                                                                  \n",
            " conv3_block4_1_bn (BatchNormal  (None, 8, 8, 128)   512         ['conv3_block4_1_conv[0][0]']    \n",
            " ization)                                                                                         \n",
            "                                                                                                  \n",
            " conv3_block4_1_relu (Activatio  (None, 8, 8, 128)   0           ['conv3_block4_1_bn[0][0]']      \n",
            " n)                                                                                               \n",
            "                                                                                                  \n",
            " conv3_block4_2_conv (Conv2D)   (None, 8, 8, 128)    147584      ['conv3_block4_1_relu[0][0]']    \n",
            "                                                                                                  \n",
            " conv3_block4_2_bn (BatchNormal  (None, 8, 8, 128)   512         ['conv3_block4_2_conv[0][0]']    \n",
            " ization)                                                                                         \n",
            "                                                                                                  \n",
            " conv3_block4_2_relu (Activatio  (None, 8, 8, 128)   0           ['conv3_block4_2_bn[0][0]']      \n",
            " n)                                                                                               \n",
            "                                                                                                  \n",
            " conv3_block4_3_conv (Conv2D)   (None, 8, 8, 512)    66048       ['conv3_block4_2_relu[0][0]']    \n",
            "                                                                                                  \n",
            " conv3_block4_3_bn (BatchNormal  (None, 8, 8, 512)   2048        ['conv3_block4_3_conv[0][0]']    \n",
            " ization)                                                                                         \n",
            "                                                                                                  \n",
            " conv3_block4_add (Add)         (None, 8, 8, 512)    0           ['conv3_block3_out[0][0]',       \n",
            "                                                                  'conv3_block4_3_bn[0][0]']      \n",
            "                                                                                                  \n",
            " conv3_block4_out (Activation)  (None, 8, 8, 512)    0           ['conv3_block4_add[0][0]']       \n",
            "                                                                                                  \n",
            " conv4_block1_1_conv (Conv2D)   (None, 4, 4, 256)    131328      ['conv3_block4_out[0][0]']       \n",
            "                                                                                                  \n",
            " conv4_block1_1_bn (BatchNormal  (None, 4, 4, 256)   1024        ['conv4_block1_1_conv[0][0]']    \n",
            " ization)                                                                                         \n",
            "                                                                                                  \n",
            " conv4_block1_1_relu (Activatio  (None, 4, 4, 256)   0           ['conv4_block1_1_bn[0][0]']      \n",
            " n)                                                                                               \n",
            "                                                                                                  \n",
            " conv4_block1_2_conv (Conv2D)   (None, 4, 4, 256)    590080      ['conv4_block1_1_relu[0][0]']    \n",
            "                                                                                                  \n",
            " conv4_block1_2_bn (BatchNormal  (None, 4, 4, 256)   1024        ['conv4_block1_2_conv[0][0]']    \n",
            " ization)                                                                                         \n",
            "                                                                                                  \n",
            " conv4_block1_2_relu (Activatio  (None, 4, 4, 256)   0           ['conv4_block1_2_bn[0][0]']      \n",
            " n)                                                                                               \n",
            "                                                                                                  \n",
            " conv4_block1_0_conv (Conv2D)   (None, 4, 4, 1024)   525312      ['conv3_block4_out[0][0]']       \n",
            "                                                                                                  \n",
            " conv4_block1_3_conv (Conv2D)   (None, 4, 4, 1024)   263168      ['conv4_block1_2_relu[0][0]']    \n",
            "                                                                                                  \n",
            " conv4_block1_0_bn (BatchNormal  (None, 4, 4, 1024)  4096        ['conv4_block1_0_conv[0][0]']    \n",
            " ization)                                                                                         \n",
            "                                                                                                  \n",
            " conv4_block1_3_bn (BatchNormal  (None, 4, 4, 1024)  4096        ['conv4_block1_3_conv[0][0]']    \n",
            " ization)                                                                                         \n",
            "                                                                                                  \n",
            " conv4_block1_add (Add)         (None, 4, 4, 1024)   0           ['conv4_block1_0_bn[0][0]',      \n",
            "                                                                  'conv4_block1_3_bn[0][0]']      \n",
            "                                                                                                  \n",
            " conv4_block1_out (Activation)  (None, 4, 4, 1024)   0           ['conv4_block1_add[0][0]']       \n",
            "                                                                                                  \n",
            " conv4_block2_1_conv (Conv2D)   (None, 4, 4, 256)    262400      ['conv4_block1_out[0][0]']       \n",
            "                                                                                                  \n",
            " conv4_block2_1_bn (BatchNormal  (None, 4, 4, 256)   1024        ['conv4_block2_1_conv[0][0]']    \n",
            " ization)                                                                                         \n",
            "                                                                                                  \n",
            " conv4_block2_1_relu (Activatio  (None, 4, 4, 256)   0           ['conv4_block2_1_bn[0][0]']      \n",
            " n)                                                                                               \n",
            "                                                                                                  \n",
            " conv4_block2_2_conv (Conv2D)   (None, 4, 4, 256)    590080      ['conv4_block2_1_relu[0][0]']    \n",
            "                                                                                                  \n",
            " conv4_block2_2_bn (BatchNormal  (None, 4, 4, 256)   1024        ['conv4_block2_2_conv[0][0]']    \n",
            " ization)                                                                                         \n",
            "                                                                                                  \n",
            " conv4_block2_2_relu (Activatio  (None, 4, 4, 256)   0           ['conv4_block2_2_bn[0][0]']      \n",
            " n)                                                                                               \n",
            "                                                                                                  \n",
            " conv4_block2_3_conv (Conv2D)   (None, 4, 4, 1024)   263168      ['conv4_block2_2_relu[0][0]']    \n",
            "                                                                                                  \n",
            " conv4_block2_3_bn (BatchNormal  (None, 4, 4, 1024)  4096        ['conv4_block2_3_conv[0][0]']    \n",
            " ization)                                                                                         \n",
            "                                                                                                  \n",
            " conv4_block2_add (Add)         (None, 4, 4, 1024)   0           ['conv4_block1_out[0][0]',       \n",
            "                                                                  'conv4_block2_3_bn[0][0]']      \n",
            "                                                                                                  \n",
            " conv4_block2_out (Activation)  (None, 4, 4, 1024)   0           ['conv4_block2_add[0][0]']       \n",
            "                                                                                                  \n",
            " conv4_block3_1_conv (Conv2D)   (None, 4, 4, 256)    262400      ['conv4_block2_out[0][0]']       \n",
            "                                                                                                  \n",
            " conv4_block3_1_bn (BatchNormal  (None, 4, 4, 256)   1024        ['conv4_block3_1_conv[0][0]']    \n",
            " ization)                                                                                         \n",
            "                                                                                                  \n",
            " conv4_block3_1_relu (Activatio  (None, 4, 4, 256)   0           ['conv4_block3_1_bn[0][0]']      \n",
            " n)                                                                                               \n",
            "                                                                                                  \n",
            " conv4_block3_2_conv (Conv2D)   (None, 4, 4, 256)    590080      ['conv4_block3_1_relu[0][0]']    \n",
            "                                                                                                  \n",
            " conv4_block3_2_bn (BatchNormal  (None, 4, 4, 256)   1024        ['conv4_block3_2_conv[0][0]']    \n",
            " ization)                                                                                         \n",
            "                                                                                                  \n",
            " conv4_block3_2_relu (Activatio  (None, 4, 4, 256)   0           ['conv4_block3_2_bn[0][0]']      \n",
            " n)                                                                                               \n",
            "                                                                                                  \n",
            " conv4_block3_3_conv (Conv2D)   (None, 4, 4, 1024)   263168      ['conv4_block3_2_relu[0][0]']    \n",
            "                                                                                                  \n",
            " conv4_block3_3_bn (BatchNormal  (None, 4, 4, 1024)  4096        ['conv4_block3_3_conv[0][0]']    \n",
            " ization)                                                                                         \n",
            "                                                                                                  \n",
            " conv4_block3_add (Add)         (None, 4, 4, 1024)   0           ['conv4_block2_out[0][0]',       \n",
            "                                                                  'conv4_block3_3_bn[0][0]']      \n",
            "                                                                                                  \n",
            " conv4_block3_out (Activation)  (None, 4, 4, 1024)   0           ['conv4_block3_add[0][0]']       \n",
            "                                                                                                  \n",
            " conv4_block4_1_conv (Conv2D)   (None, 4, 4, 256)    262400      ['conv4_block3_out[0][0]']       \n",
            "                                                                                                  \n",
            " conv4_block4_1_bn (BatchNormal  (None, 4, 4, 256)   1024        ['conv4_block4_1_conv[0][0]']    \n",
            " ization)                                                                                         \n",
            "                                                                                                  \n",
            " conv4_block4_1_relu (Activatio  (None, 4, 4, 256)   0           ['conv4_block4_1_bn[0][0]']      \n",
            " n)                                                                                               \n",
            "                                                                                                  \n",
            " conv4_block4_2_conv (Conv2D)   (None, 4, 4, 256)    590080      ['conv4_block4_1_relu[0][0]']    \n",
            "                                                                                                  \n",
            " conv4_block4_2_bn (BatchNormal  (None, 4, 4, 256)   1024        ['conv4_block4_2_conv[0][0]']    \n",
            " ization)                                                                                         \n",
            "                                                                                                  \n",
            " conv4_block4_2_relu (Activatio  (None, 4, 4, 256)   0           ['conv4_block4_2_bn[0][0]']      \n",
            " n)                                                                                               \n",
            "                                                                                                  \n",
            " conv4_block4_3_conv (Conv2D)   (None, 4, 4, 1024)   263168      ['conv4_block4_2_relu[0][0]']    \n",
            "                                                                                                  \n",
            " conv4_block4_3_bn (BatchNormal  (None, 4, 4, 1024)  4096        ['conv4_block4_3_conv[0][0]']    \n",
            " ization)                                                                                         \n",
            "                                                                                                  \n",
            " conv4_block4_add (Add)         (None, 4, 4, 1024)   0           ['conv4_block3_out[0][0]',       \n",
            "                                                                  'conv4_block4_3_bn[0][0]']      \n",
            "                                                                                                  \n",
            " conv4_block4_out (Activation)  (None, 4, 4, 1024)   0           ['conv4_block4_add[0][0]']       \n",
            "                                                                                                  \n",
            " conv4_block5_1_conv (Conv2D)   (None, 4, 4, 256)    262400      ['conv4_block4_out[0][0]']       \n",
            "                                                                                                  \n",
            " conv4_block5_1_bn (BatchNormal  (None, 4, 4, 256)   1024        ['conv4_block5_1_conv[0][0]']    \n",
            " ization)                                                                                         \n",
            "                                                                                                  \n",
            " conv4_block5_1_relu (Activatio  (None, 4, 4, 256)   0           ['conv4_block5_1_bn[0][0]']      \n",
            " n)                                                                                               \n",
            "                                                                                                  \n",
            " conv4_block5_2_conv (Conv2D)   (None, 4, 4, 256)    590080      ['conv4_block5_1_relu[0][0]']    \n",
            "                                                                                                  \n",
            " conv4_block5_2_bn (BatchNormal  (None, 4, 4, 256)   1024        ['conv4_block5_2_conv[0][0]']    \n",
            " ization)                                                                                         \n",
            "                                                                                                  \n",
            " conv4_block5_2_relu (Activatio  (None, 4, 4, 256)   0           ['conv4_block5_2_bn[0][0]']      \n",
            " n)                                                                                               \n",
            "                                                                                                  \n",
            " conv4_block5_3_conv (Conv2D)   (None, 4, 4, 1024)   263168      ['conv4_block5_2_relu[0][0]']    \n",
            "                                                                                                  \n",
            " conv4_block5_3_bn (BatchNormal  (None, 4, 4, 1024)  4096        ['conv4_block5_3_conv[0][0]']    \n",
            " ization)                                                                                         \n",
            "                                                                                                  \n",
            " conv4_block5_add (Add)         (None, 4, 4, 1024)   0           ['conv4_block4_out[0][0]',       \n",
            "                                                                  'conv4_block5_3_bn[0][0]']      \n",
            "                                                                                                  \n",
            " conv4_block5_out (Activation)  (None, 4, 4, 1024)   0           ['conv4_block5_add[0][0]']       \n",
            "                                                                                                  \n",
            " conv4_block6_1_conv (Conv2D)   (None, 4, 4, 256)    262400      ['conv4_block5_out[0][0]']       \n",
            "                                                                                                  \n",
            " conv4_block6_1_bn (BatchNormal  (None, 4, 4, 256)   1024        ['conv4_block6_1_conv[0][0]']    \n",
            " ization)                                                                                         \n",
            "                                                                                                  \n",
            " conv4_block6_1_relu (Activatio  (None, 4, 4, 256)   0           ['conv4_block6_1_bn[0][0]']      \n",
            " n)                                                                                               \n",
            "                                                                                                  \n",
            " conv4_block6_2_conv (Conv2D)   (None, 4, 4, 256)    590080      ['conv4_block6_1_relu[0][0]']    \n",
            "                                                                                                  \n",
            " conv4_block6_2_bn (BatchNormal  (None, 4, 4, 256)   1024        ['conv4_block6_2_conv[0][0]']    \n",
            " ization)                                                                                         \n",
            "                                                                                                  \n",
            " conv4_block6_2_relu (Activatio  (None, 4, 4, 256)   0           ['conv4_block6_2_bn[0][0]']      \n",
            " n)                                                                                               \n",
            "                                                                                                  \n",
            " conv4_block6_3_conv (Conv2D)   (None, 4, 4, 1024)   263168      ['conv4_block6_2_relu[0][0]']    \n",
            "                                                                                                  \n",
            " conv4_block6_3_bn (BatchNormal  (None, 4, 4, 1024)  4096        ['conv4_block6_3_conv[0][0]']    \n",
            " ization)                                                                                         \n",
            "                                                                                                  \n",
            " conv4_block6_add (Add)         (None, 4, 4, 1024)   0           ['conv4_block5_out[0][0]',       \n",
            "                                                                  'conv4_block6_3_bn[0][0]']      \n",
            "                                                                                                  \n",
            " conv4_block6_out (Activation)  (None, 4, 4, 1024)   0           ['conv4_block6_add[0][0]']       \n",
            "                                                                                                  \n",
            " conv5_block1_1_conv (Conv2D)   (None, 2, 2, 512)    524800      ['conv4_block6_out[0][0]']       \n",
            "                                                                                                  \n",
            " conv5_block1_1_bn (BatchNormal  (None, 2, 2, 512)   2048        ['conv5_block1_1_conv[0][0]']    \n",
            " ization)                                                                                         \n",
            "                                                                                                  \n",
            " conv5_block1_1_relu (Activatio  (None, 2, 2, 512)   0           ['conv5_block1_1_bn[0][0]']      \n",
            " n)                                                                                               \n",
            "                                                                                                  \n",
            " conv5_block1_2_conv (Conv2D)   (None, 2, 2, 512)    2359808     ['conv5_block1_1_relu[0][0]']    \n",
            "                                                                                                  \n",
            " conv5_block1_2_bn (BatchNormal  (None, 2, 2, 512)   2048        ['conv5_block1_2_conv[0][0]']    \n",
            " ization)                                                                                         \n",
            "                                                                                                  \n",
            " conv5_block1_2_relu (Activatio  (None, 2, 2, 512)   0           ['conv5_block1_2_bn[0][0]']      \n",
            " n)                                                                                               \n",
            "                                                                                                  \n",
            " conv5_block1_0_conv (Conv2D)   (None, 2, 2, 2048)   2099200     ['conv4_block6_out[0][0]']       \n",
            "                                                                                                  \n",
            " conv5_block1_3_conv (Conv2D)   (None, 2, 2, 2048)   1050624     ['conv5_block1_2_relu[0][0]']    \n",
            "                                                                                                  \n",
            " conv5_block1_0_bn (BatchNormal  (None, 2, 2, 2048)  8192        ['conv5_block1_0_conv[0][0]']    \n",
            " ization)                                                                                         \n",
            "                                                                                                  \n",
            " conv5_block1_3_bn (BatchNormal  (None, 2, 2, 2048)  8192        ['conv5_block1_3_conv[0][0]']    \n",
            " ization)                                                                                         \n",
            "                                                                                                  \n",
            " conv5_block1_add (Add)         (None, 2, 2, 2048)   0           ['conv5_block1_0_bn[0][0]',      \n",
            "                                                                  'conv5_block1_3_bn[0][0]']      \n",
            "                                                                                                  \n",
            " conv5_block1_out (Activation)  (None, 2, 2, 2048)   0           ['conv5_block1_add[0][0]']       \n",
            "                                                                                                  \n",
            " conv5_block2_1_conv (Conv2D)   (None, 2, 2, 512)    1049088     ['conv5_block1_out[0][0]']       \n",
            "                                                                                                  \n",
            " conv5_block2_1_bn (BatchNormal  (None, 2, 2, 512)   2048        ['conv5_block2_1_conv[0][0]']    \n",
            " ization)                                                                                         \n",
            "                                                                                                  \n",
            " conv5_block2_1_relu (Activatio  (None, 2, 2, 512)   0           ['conv5_block2_1_bn[0][0]']      \n",
            " n)                                                                                               \n",
            "                                                                                                  \n",
            " conv5_block2_2_conv (Conv2D)   (None, 2, 2, 512)    2359808     ['conv5_block2_1_relu[0][0]']    \n",
            "                                                                                                  \n",
            " conv5_block2_2_bn (BatchNormal  (None, 2, 2, 512)   2048        ['conv5_block2_2_conv[0][0]']    \n",
            " ization)                                                                                         \n",
            "                                                                                                  \n",
            " conv5_block2_2_relu (Activatio  (None, 2, 2, 512)   0           ['conv5_block2_2_bn[0][0]']      \n",
            " n)                                                                                               \n",
            "                                                                                                  \n",
            " conv5_block2_3_conv (Conv2D)   (None, 2, 2, 2048)   1050624     ['conv5_block2_2_relu[0][0]']    \n",
            "                                                                                                  \n",
            " conv5_block2_3_bn (BatchNormal  (None, 2, 2, 2048)  8192        ['conv5_block2_3_conv[0][0]']    \n",
            " ization)                                                                                         \n",
            "                                                                                                  \n",
            " conv5_block2_add (Add)         (None, 2, 2, 2048)   0           ['conv5_block1_out[0][0]',       \n",
            "                                                                  'conv5_block2_3_bn[0][0]']      \n",
            "                                                                                                  \n",
            " conv5_block2_out (Activation)  (None, 2, 2, 2048)   0           ['conv5_block2_add[0][0]']       \n",
            "                                                                                                  \n",
            " conv5_block3_1_conv (Conv2D)   (None, 2, 2, 512)    1049088     ['conv5_block2_out[0][0]']       \n",
            "                                                                                                  \n",
            " conv5_block3_1_bn (BatchNormal  (None, 2, 2, 512)   2048        ['conv5_block3_1_conv[0][0]']    \n",
            " ization)                                                                                         \n",
            "                                                                                                  \n",
            " conv5_block3_1_relu (Activatio  (None, 2, 2, 512)   0           ['conv5_block3_1_bn[0][0]']      \n",
            " n)                                                                                               \n",
            "                                                                                                  \n",
            " conv5_block3_2_conv (Conv2D)   (None, 2, 2, 512)    2359808     ['conv5_block3_1_relu[0][0]']    \n",
            "                                                                                                  \n",
            " conv5_block3_2_bn (BatchNormal  (None, 2, 2, 512)   2048        ['conv5_block3_2_conv[0][0]']    \n",
            " ization)                                                                                         \n",
            "                                                                                                  \n",
            " conv5_block3_2_relu (Activatio  (None, 2, 2, 512)   0           ['conv5_block3_2_bn[0][0]']      \n",
            " n)                                                                                               \n",
            "                                                                                                  \n",
            " conv5_block3_3_conv (Conv2D)   (None, 2, 2, 2048)   1050624     ['conv5_block3_2_relu[0][0]']    \n",
            "                                                                                                  \n",
            " conv5_block3_3_bn (BatchNormal  (None, 2, 2, 2048)  8192        ['conv5_block3_3_conv[0][0]']    \n",
            " ization)                                                                                         \n",
            "                                                                                                  \n",
            " conv5_block3_add (Add)         (None, 2, 2, 2048)   0           ['conv5_block2_out[0][0]',       \n",
            "                                                                  'conv5_block3_3_bn[0][0]']      \n",
            "                                                                                                  \n",
            " conv5_block3_out (Activation)  (None, 2, 2, 2048)   0           ['conv5_block3_add[0][0]']       \n",
            "                                                                                                  \n",
            " flatten (Flatten)              (None, 8192)         0           ['conv5_block3_out[0][0]']       \n",
            "                                                                                                  \n",
            " dense_4 (Dense)                (None, 1)            8193        ['flatten[0][0]']                \n",
            "                                                                                                  \n",
            "==================================================================================================\n",
            "Total params: 23,595,905\n",
            "Trainable params: 23,542,785\n",
            "Non-trainable params: 53,120\n",
            "__________________________________________________________________________________________________\n"
          ]
        },
        {
          "output_type": "execute_result",
          "data": {
            "text/plain": [
              "'.fit is used when the entire training dataset can fit into the memory \\nand no data augmentation is applied.\\n\\nfit_generator is used when we have a huge dataset to fit into our \\nmemory or when data augmentation needs to be applied.'"
            ],
            "application/vnd.google.colaboratory.intrinsic+json": {
              "type": "string"
            }
          },
          "metadata": {},
          "execution_count": 44
        }
      ],
      "source": [
        "from keras.optimizers import SGD, Adam\n",
        "from keras.layers import Dropout,Dense, GlobalAveragePooling2D\n",
        "x = x = layers.Flatten()(resnet.output)\n",
        "predictions = Dense(1,activation= 'softmax')(x)\n",
        "model = Model(inputs = resnet.input, outputs = predictions)\n",
        "model.compile(optimizer= 'adam', loss='categorical_crossentropy', metrics=['accuracy'])\n",
        "model.summary()"
      ]
    },
    {
      "cell_type": "code",
      "source": [
        "model.fit_generator(train_gen, epochs=100, steps_per_epoch=1,verbose=1, validation_data=(x_valid,y_valid),callbacks=None)"
      ],
      "metadata": {
        "colab": {
          "base_uri": "https://localhost:8080/"
        },
        "id": "W7CDFjxkBcgL",
        "outputId": "25ebc478-d1f4-4d7f-dd1c-c157f15d7606"
      },
      "execution_count": 46,
      "outputs": [
        {
          "output_type": "stream",
          "name": "stdout",
          "text": [
            "Epoch 1/100\n",
            "1/1 [==============================] - 3s 3s/step - loss: 0.0000e+00 - accuracy: 0.4062 - val_loss: 0.0000e+00 - val_accuracy: 0.5390\n",
            "Epoch 2/100\n",
            "1/1 [==============================] - 0s 260ms/step - loss: 0.0000e+00 - accuracy: 0.4062 - val_loss: 0.0000e+00 - val_accuracy: 0.5390\n",
            "Epoch 3/100\n",
            "1/1 [==============================] - 0s 272ms/step - loss: 0.0000e+00 - accuracy: 0.5625 - val_loss: 0.0000e+00 - val_accuracy: 0.5390\n",
            "Epoch 4/100\n",
            "1/1 [==============================] - 0s 265ms/step - loss: 0.0000e+00 - accuracy: 0.5938 - val_loss: 0.0000e+00 - val_accuracy: 0.5390\n",
            "Epoch 5/100\n",
            "1/1 [==============================] - 0s 268ms/step - loss: 0.0000e+00 - accuracy: 0.5625 - val_loss: 0.0000e+00 - val_accuracy: 0.5390\n",
            "Epoch 6/100\n",
            "1/1 [==============================] - 0s 188ms/step - loss: 0.0000e+00 - accuracy: 0.5625 - val_loss: 0.0000e+00 - val_accuracy: 0.5390\n",
            "Epoch 7/100\n",
            "1/1 [==============================] - 0s 186ms/step - loss: 0.0000e+00 - accuracy: 0.5625 - val_loss: 0.0000e+00 - val_accuracy: 0.5390\n",
            "Epoch 8/100\n",
            "1/1 [==============================] - 0s 182ms/step - loss: 0.0000e+00 - accuracy: 0.4688 - val_loss: 0.0000e+00 - val_accuracy: 0.5390\n",
            "Epoch 9/100\n",
            "1/1 [==============================] - 0s 190ms/step - loss: 0.0000e+00 - accuracy: 0.4375 - val_loss: 0.0000e+00 - val_accuracy: 0.5390\n",
            "Epoch 10/100\n",
            "1/1 [==============================] - 0s 262ms/step - loss: 0.0000e+00 - accuracy: 0.3438 - val_loss: 0.0000e+00 - val_accuracy: 0.5390\n",
            "Epoch 11/100\n",
            "1/1 [==============================] - 0s 192ms/step - loss: 0.0000e+00 - accuracy: 0.4062 - val_loss: 0.0000e+00 - val_accuracy: 0.5390\n",
            "Epoch 12/100\n",
            "1/1 [==============================] - 0s 184ms/step - loss: 0.0000e+00 - accuracy: 0.4375 - val_loss: 0.0000e+00 - val_accuracy: 0.5390\n",
            "Epoch 13/100\n",
            "1/1 [==============================] - 1s 908ms/step - loss: 0.0000e+00 - accuracy: 0.0000e+00 - val_loss: 0.0000e+00 - val_accuracy: 0.5390\n",
            "Epoch 14/100\n",
            "1/1 [==============================] - 0s 186ms/step - loss: 0.0000e+00 - accuracy: 0.5312 - val_loss: 0.0000e+00 - val_accuracy: 0.5390\n",
            "Epoch 15/100\n",
            "1/1 [==============================] - 0s 267ms/step - loss: 0.0000e+00 - accuracy: 0.4688 - val_loss: 0.0000e+00 - val_accuracy: 0.5390\n",
            "Epoch 16/100\n",
            "1/1 [==============================] - 0s 196ms/step - loss: 0.0000e+00 - accuracy: 0.4688 - val_loss: 0.0000e+00 - val_accuracy: 0.5390\n",
            "Epoch 17/100\n",
            "1/1 [==============================] - 0s 269ms/step - loss: 0.0000e+00 - accuracy: 0.4375 - val_loss: 0.0000e+00 - val_accuracy: 0.5390\n",
            "Epoch 18/100\n",
            "1/1 [==============================] - 0s 189ms/step - loss: 0.0000e+00 - accuracy: 0.5938 - val_loss: 0.0000e+00 - val_accuracy: 0.5390\n",
            "Epoch 19/100\n",
            "1/1 [==============================] - 0s 184ms/step - loss: 0.0000e+00 - accuracy: 0.3750 - val_loss: 0.0000e+00 - val_accuracy: 0.5390\n",
            "Epoch 20/100\n",
            "1/1 [==============================] - 0s 261ms/step - loss: 0.0000e+00 - accuracy: 0.4688 - val_loss: 0.0000e+00 - val_accuracy: 0.5390\n",
            "Epoch 21/100\n",
            "1/1 [==============================] - 0s 177ms/step - loss: 0.0000e+00 - accuracy: 0.4375 - val_loss: 0.0000e+00 - val_accuracy: 0.5390\n",
            "Epoch 22/100\n",
            "1/1 [==============================] - 0s 181ms/step - loss: 0.0000e+00 - accuracy: 0.5312 - val_loss: 0.0000e+00 - val_accuracy: 0.5390\n",
            "Epoch 23/100\n",
            "1/1 [==============================] - 0s 261ms/step - loss: 0.0000e+00 - accuracy: 0.4688 - val_loss: 0.0000e+00 - val_accuracy: 0.5390\n",
            "Epoch 24/100\n",
            "1/1 [==============================] - 0s 260ms/step - loss: 0.0000e+00 - accuracy: 0.4688 - val_loss: 0.0000e+00 - val_accuracy: 0.5390\n",
            "Epoch 25/100\n",
            "1/1 [==============================] - 0s 262ms/step - loss: 0.0000e+00 - accuracy: 0.6250 - val_loss: 0.0000e+00 - val_accuracy: 0.5390\n",
            "Epoch 26/100\n",
            "1/1 [==============================] - 0s 185ms/step - loss: 0.0000e+00 - accuracy: 0.5312 - val_loss: 0.0000e+00 - val_accuracy: 0.5390\n",
            "Epoch 27/100\n",
            "1/1 [==============================] - 0s 184ms/step - loss: 0.0000e+00 - accuracy: 0.4062 - val_loss: 0.0000e+00 - val_accuracy: 0.5390\n",
            "Epoch 28/100\n",
            "1/1 [==============================] - 0s 271ms/step - loss: 0.0000e+00 - accuracy: 0.5312 - val_loss: 0.0000e+00 - val_accuracy: 0.5390\n",
            "Epoch 29/100\n",
            "1/1 [==============================] - 0s 258ms/step - loss: 0.0000e+00 - accuracy: 0.5000 - val_loss: 0.0000e+00 - val_accuracy: 0.5390\n",
            "Epoch 30/100\n",
            "1/1 [==============================] - 0s 264ms/step - loss: 0.0000e+00 - accuracy: 0.4688 - val_loss: 0.0000e+00 - val_accuracy: 0.5390\n",
            "Epoch 31/100\n",
            "1/1 [==============================] - 0s 187ms/step - loss: 0.0000e+00 - accuracy: 0.5312 - val_loss: 0.0000e+00 - val_accuracy: 0.5390\n",
            "Epoch 32/100\n",
            "1/1 [==============================] - 0s 269ms/step - loss: 0.0000e+00 - accuracy: 0.5312 - val_loss: 0.0000e+00 - val_accuracy: 0.5390\n",
            "Epoch 33/100\n",
            "1/1 [==============================] - 0s 357ms/step - loss: 0.0000e+00 - accuracy: 0.4688 - val_loss: 0.0000e+00 - val_accuracy: 0.5390\n",
            "Epoch 34/100\n",
            "1/1 [==============================] - 0s 305ms/step - loss: 0.0000e+00 - accuracy: 0.5625 - val_loss: 0.0000e+00 - val_accuracy: 0.5390\n",
            "Epoch 35/100\n",
            "1/1 [==============================] - 0s 355ms/step - loss: 0.0000e+00 - accuracy: 0.5625 - val_loss: 0.0000e+00 - val_accuracy: 0.5390\n",
            "Epoch 36/100\n",
            "1/1 [==============================] - 0s 330ms/step - loss: 0.0000e+00 - accuracy: 0.4375 - val_loss: 0.0000e+00 - val_accuracy: 0.5390\n",
            "Epoch 37/100\n",
            "1/1 [==============================] - 0s 329ms/step - loss: 0.0000e+00 - accuracy: 0.5312 - val_loss: 0.0000e+00 - val_accuracy: 0.5390\n",
            "Epoch 38/100\n",
            "1/1 [==============================] - 0s 313ms/step - loss: 0.0000e+00 - accuracy: 0.5000 - val_loss: 0.0000e+00 - val_accuracy: 0.5390\n",
            "Epoch 39/100\n",
            "1/1 [==============================] - 0s 268ms/step - loss: 0.0000e+00 - accuracy: 0.5000 - val_loss: 0.0000e+00 - val_accuracy: 0.5390\n",
            "Epoch 40/100\n",
            "1/1 [==============================] - 0s 188ms/step - loss: 0.0000e+00 - accuracy: 0.3438 - val_loss: 0.0000e+00 - val_accuracy: 0.5390\n",
            "Epoch 41/100\n",
            "1/1 [==============================] - 0s 259ms/step - loss: 0.0000e+00 - accuracy: 0.3750 - val_loss: 0.0000e+00 - val_accuracy: 0.5390\n",
            "Epoch 42/100\n",
            "1/1 [==============================] - 0s 188ms/step - loss: 0.0000e+00 - accuracy: 0.5000 - val_loss: 0.0000e+00 - val_accuracy: 0.5390\n",
            "Epoch 43/100\n",
            "1/1 [==============================] - 0s 262ms/step - loss: 0.0000e+00 - accuracy: 0.5625 - val_loss: 0.0000e+00 - val_accuracy: 0.5390\n",
            "Epoch 44/100\n",
            "1/1 [==============================] - 0s 157ms/step - loss: 0.0000e+00 - accuracy: 1.0000 - val_loss: 0.0000e+00 - val_accuracy: 0.5390\n",
            "Epoch 45/100\n",
            "1/1 [==============================] - 0s 264ms/step - loss: 0.0000e+00 - accuracy: 0.3438 - val_loss: 0.0000e+00 - val_accuracy: 0.5390\n",
            "Epoch 46/100\n",
            "1/1 [==============================] - 0s 191ms/step - loss: 0.0000e+00 - accuracy: 0.6562 - val_loss: 0.0000e+00 - val_accuracy: 0.5390\n",
            "Epoch 47/100\n",
            "1/1 [==============================] - 0s 181ms/step - loss: 0.0000e+00 - accuracy: 0.5625 - val_loss: 0.0000e+00 - val_accuracy: 0.5390\n",
            "Epoch 48/100\n",
            "1/1 [==============================] - 0s 190ms/step - loss: 0.0000e+00 - accuracy: 0.4375 - val_loss: 0.0000e+00 - val_accuracy: 0.5390\n",
            "Epoch 49/100\n",
            "1/1 [==============================] - 0s 198ms/step - loss: 0.0000e+00 - accuracy: 0.3750 - val_loss: 0.0000e+00 - val_accuracy: 0.5390\n",
            "Epoch 50/100\n",
            "1/1 [==============================] - 0s 207ms/step - loss: 0.0000e+00 - accuracy: 0.6250 - val_loss: 0.0000e+00 - val_accuracy: 0.5390\n",
            "Epoch 51/100\n",
            "1/1 [==============================] - 0s 236ms/step - loss: 0.0000e+00 - accuracy: 1.0000 - val_loss: 0.0000e+00 - val_accuracy: 0.5390\n",
            "Epoch 52/100\n",
            "1/1 [==============================] - 0s 264ms/step - loss: 0.0000e+00 - accuracy: 0.4688 - val_loss: 0.0000e+00 - val_accuracy: 0.5390\n",
            "Epoch 53/100\n",
            "1/1 [==============================] - 0s 267ms/step - loss: 0.0000e+00 - accuracy: 0.4688 - val_loss: 0.0000e+00 - val_accuracy: 0.5390\n",
            "Epoch 54/100\n",
            "1/1 [==============================] - 0s 190ms/step - loss: 0.0000e+00 - accuracy: 0.5000 - val_loss: 0.0000e+00 - val_accuracy: 0.5390\n",
            "Epoch 55/100\n",
            "1/1 [==============================] - 0s 186ms/step - loss: 0.0000e+00 - accuracy: 0.6875 - val_loss: 0.0000e+00 - val_accuracy: 0.5390\n",
            "Epoch 56/100\n",
            "1/1 [==============================] - 0s 184ms/step - loss: 0.0000e+00 - accuracy: 0.4062 - val_loss: 0.0000e+00 - val_accuracy: 0.5390\n",
            "Epoch 57/100\n",
            "1/1 [==============================] - 0s 260ms/step - loss: 0.0000e+00 - accuracy: 0.5000 - val_loss: 0.0000e+00 - val_accuracy: 0.5390\n",
            "Epoch 58/100\n",
            "1/1 [==============================] - 0s 192ms/step - loss: 0.0000e+00 - accuracy: 0.4375 - val_loss: 0.0000e+00 - val_accuracy: 0.5390\n",
            "Epoch 59/100\n",
            "1/1 [==============================] - 0s 195ms/step - loss: 0.0000e+00 - accuracy: 0.5000 - val_loss: 0.0000e+00 - val_accuracy: 0.5390\n",
            "Epoch 60/100\n",
            "1/1 [==============================] - 0s 181ms/step - loss: 0.0000e+00 - accuracy: 0.3438 - val_loss: 0.0000e+00 - val_accuracy: 0.5390\n",
            "Epoch 61/100\n",
            "1/1 [==============================] - 0s 259ms/step - loss: 0.0000e+00 - accuracy: 0.4062 - val_loss: 0.0000e+00 - val_accuracy: 0.5390\n",
            "Epoch 62/100\n",
            "1/1 [==============================] - 0s 184ms/step - loss: 0.0000e+00 - accuracy: 0.4375 - val_loss: 0.0000e+00 - val_accuracy: 0.5390\n",
            "Epoch 63/100\n",
            "1/1 [==============================] - 0s 272ms/step - loss: 0.0000e+00 - accuracy: 0.5938 - val_loss: 0.0000e+00 - val_accuracy: 0.5390\n",
            "Epoch 64/100\n",
            "1/1 [==============================] - 0s 193ms/step - loss: 0.0000e+00 - accuracy: 0.4688 - val_loss: 0.0000e+00 - val_accuracy: 0.5390\n",
            "Epoch 65/100\n",
            "1/1 [==============================] - 0s 261ms/step - loss: 0.0000e+00 - accuracy: 0.5000 - val_loss: 0.0000e+00 - val_accuracy: 0.5390\n",
            "Epoch 66/100\n",
            "1/1 [==============================] - 0s 189ms/step - loss: 0.0000e+00 - accuracy: 0.7812 - val_loss: 0.0000e+00 - val_accuracy: 0.5390\n",
            "Epoch 67/100\n",
            "1/1 [==============================] - 0s 204ms/step - loss: 0.0000e+00 - accuracy: 0.5312 - val_loss: 0.0000e+00 - val_accuracy: 0.5390\n",
            "Epoch 68/100\n",
            "1/1 [==============================] - 0s 184ms/step - loss: 0.0000e+00 - accuracy: 0.2812 - val_loss: 0.0000e+00 - val_accuracy: 0.5390\n",
            "Epoch 69/100\n",
            "1/1 [==============================] - 0s 188ms/step - loss: 0.0000e+00 - accuracy: 0.5938 - val_loss: 0.0000e+00 - val_accuracy: 0.5390\n",
            "Epoch 70/100\n",
            "1/1 [==============================] - 0s 259ms/step - loss: 0.0000e+00 - accuracy: 0.4062 - val_loss: 0.0000e+00 - val_accuracy: 0.5390\n",
            "Epoch 71/100\n",
            "1/1 [==============================] - 0s 189ms/step - loss: 0.0000e+00 - accuracy: 0.1875 - val_loss: 0.0000e+00 - val_accuracy: 0.5390\n",
            "Epoch 72/100\n",
            "1/1 [==============================] - 0s 185ms/step - loss: 0.0000e+00 - accuracy: 0.4062 - val_loss: 0.0000e+00 - val_accuracy: 0.5390\n",
            "Epoch 73/100\n",
            "1/1 [==============================] - 0s 193ms/step - loss: 0.0000e+00 - accuracy: 0.4375 - val_loss: 0.0000e+00 - val_accuracy: 0.5390\n",
            "Epoch 74/100\n",
            "1/1 [==============================] - 0s 186ms/step - loss: 0.0000e+00 - accuracy: 0.5312 - val_loss: 0.0000e+00 - val_accuracy: 0.5390\n",
            "Epoch 75/100\n",
            "1/1 [==============================] - 0s 195ms/step - loss: 0.0000e+00 - accuracy: 0.4688 - val_loss: 0.0000e+00 - val_accuracy: 0.5390\n",
            "Epoch 76/100\n",
            "1/1 [==============================] - 0s 260ms/step - loss: 0.0000e+00 - accuracy: 0.4375 - val_loss: 0.0000e+00 - val_accuracy: 0.5390\n",
            "Epoch 77/100\n",
            "1/1 [==============================] - 0s 182ms/step - loss: 0.0000e+00 - accuracy: 0.5312 - val_loss: 0.0000e+00 - val_accuracy: 0.5390\n",
            "Epoch 78/100\n",
            "1/1 [==============================] - 0s 329ms/step - loss: 0.0000e+00 - accuracy: 0.4062 - val_loss: 0.0000e+00 - val_accuracy: 0.5390\n",
            "Epoch 79/100\n",
            "1/1 [==============================] - 0s 342ms/step - loss: 0.0000e+00 - accuracy: 0.5312 - val_loss: 0.0000e+00 - val_accuracy: 0.5390\n",
            "Epoch 80/100\n",
            "1/1 [==============================] - 0s 350ms/step - loss: 0.0000e+00 - accuracy: 0.5625 - val_loss: 0.0000e+00 - val_accuracy: 0.5390\n",
            "Epoch 81/100\n",
            "1/1 [==============================] - 0s 292ms/step - loss: 0.0000e+00 - accuracy: 0.3750 - val_loss: 0.0000e+00 - val_accuracy: 0.5390\n",
            "Epoch 82/100\n",
            "1/1 [==============================] - 0s 331ms/step - loss: 0.0000e+00 - accuracy: 0.5000 - val_loss: 0.0000e+00 - val_accuracy: 0.5390\n",
            "Epoch 83/100\n",
            "1/1 [==============================] - 0s 356ms/step - loss: 0.0000e+00 - accuracy: 0.4375 - val_loss: 0.0000e+00 - val_accuracy: 0.5390\n",
            "Epoch 84/100\n",
            "1/1 [==============================] - 0s 259ms/step - loss: 0.0000e+00 - accuracy: 0.3750 - val_loss: 0.0000e+00 - val_accuracy: 0.5390\n",
            "Epoch 85/100\n",
            "1/1 [==============================] - 0s 176ms/step - loss: 0.0000e+00 - accuracy: 0.0000e+00 - val_loss: 0.0000e+00 - val_accuracy: 0.5390\n",
            "Epoch 86/100\n",
            "1/1 [==============================] - 0s 283ms/step - loss: 0.0000e+00 - accuracy: 0.3750 - val_loss: 0.0000e+00 - val_accuracy: 0.5390\n",
            "Epoch 87/100\n",
            "1/1 [==============================] - 0s 269ms/step - loss: 0.0000e+00 - accuracy: 0.3125 - val_loss: 0.0000e+00 - val_accuracy: 0.5390\n",
            "Epoch 88/100\n",
            "1/1 [==============================] - 0s 271ms/step - loss: 0.0000e+00 - accuracy: 0.4375 - val_loss: 0.0000e+00 - val_accuracy: 0.5390\n",
            "Epoch 89/100\n",
            "1/1 [==============================] - 0s 195ms/step - loss: 0.0000e+00 - accuracy: 0.4688 - val_loss: 0.0000e+00 - val_accuracy: 0.5390\n",
            "Epoch 90/100\n",
            "1/1 [==============================] - 0s 268ms/step - loss: 0.0000e+00 - accuracy: 0.5000 - val_loss: 0.0000e+00 - val_accuracy: 0.5390\n",
            "Epoch 91/100\n",
            "1/1 [==============================] - 0s 183ms/step - loss: 0.0000e+00 - accuracy: 0.5625 - val_loss: 0.0000e+00 - val_accuracy: 0.5390\n",
            "Epoch 92/100\n",
            "1/1 [==============================] - 0s 266ms/step - loss: 0.0000e+00 - accuracy: 0.3750 - val_loss: 0.0000e+00 - val_accuracy: 0.5390\n",
            "Epoch 93/100\n",
            "1/1 [==============================] - 0s 199ms/step - loss: 0.0000e+00 - accuracy: 0.4688 - val_loss: 0.0000e+00 - val_accuracy: 0.5390\n",
            "Epoch 94/100\n",
            "1/1 [==============================] - 0s 192ms/step - loss: 0.0000e+00 - accuracy: 0.5938 - val_loss: 0.0000e+00 - val_accuracy: 0.5390\n",
            "Epoch 95/100\n",
            "1/1 [==============================] - 0s 191ms/step - loss: 0.0000e+00 - accuracy: 0.5000 - val_loss: 0.0000e+00 - val_accuracy: 0.5390\n",
            "Epoch 96/100\n",
            "1/1 [==============================] - 0s 193ms/step - loss: 0.0000e+00 - accuracy: 0.5000 - val_loss: 0.0000e+00 - val_accuracy: 0.5390\n",
            "Epoch 97/100\n",
            "1/1 [==============================] - 0s 272ms/step - loss: 0.0000e+00 - accuracy: 0.3750 - val_loss: 0.0000e+00 - val_accuracy: 0.5390\n",
            "Epoch 98/100\n",
            "1/1 [==============================] - 0s 264ms/step - loss: 0.0000e+00 - accuracy: 0.3438 - val_loss: 0.0000e+00 - val_accuracy: 0.5390\n",
            "Epoch 99/100\n",
            "1/1 [==============================] - 0s 260ms/step - loss: 0.0000e+00 - accuracy: 0.4688 - val_loss: 0.0000e+00 - val_accuracy: 0.5390\n",
            "Epoch 100/100\n",
            "1/1 [==============================] - 0s 193ms/step - loss: 0.0000e+00 - accuracy: 0.4688 - val_loss: 0.0000e+00 - val_accuracy: 0.5390\n"
          ]
        },
        {
          "output_type": "execute_result",
          "data": {
            "text/plain": [
              "<keras.callbacks.History at 0x7fd34a18dcf0>"
            ]
          },
          "metadata": {},
          "execution_count": 46
        }
      ]
    },
    {
      "cell_type": "code",
      "source": [
        "model.save('path_to_my_model.h5')\n",
        "\n",
        "# Recreate the exact same model purely from the file\n",
        "new_model = keras.models.load_model('path_to_my_model.h5')"
      ],
      "metadata": {
        "id": "W1HSccGXA8xa"
      },
      "execution_count": 48,
      "outputs": []
    },
    {
      "cell_type": "code",
      "source": [
        "pred = new_model.evaluate(x_test, y_test)"
      ],
      "metadata": {
        "colab": {
          "base_uri": "https://localhost:8080/"
        },
        "id": "JtVpbIO-V2da",
        "outputId": "d74baf6b-f33b-4e23-88d0-6d54933a1c2a"
      },
      "execution_count": 49,
      "outputs": [
        {
          "output_type": "stream",
          "name": "stderr",
          "text": [
            "Exception ignored in: <function _xla_gc_callback at 0x7fd4221429e0>\n",
            "Traceback (most recent call last):\n",
            "  File \"/usr/local/lib/python3.10/dist-packages/jax/_src/lib/__init__.py\", line 97, in _xla_gc_callback\n",
            "    def _xla_gc_callback(*args):\n",
            "KeyboardInterrupt: \n"
          ]
        },
        {
          "output_type": "stream",
          "name": "stdout",
          "text": [
            "5/5 [==============================] - 57s 127ms/step - loss: 0.0000e+00 - accuracy: 0.5496\n"
          ]
        }
      ]
    },
    {
      "cell_type": "code",
      "source": [],
      "metadata": {
        "id": "y0-yzi901Gs3"
      },
      "execution_count": null,
      "outputs": []
    }
  ],
  "metadata": {
    "colab": {
      "provenance": [],
      "include_colab_link": true
    },
    "kernelspec": {
      "display_name": "Python 3",
      "name": "python3"
    },
    "accelerator": "GPU",
    "gpuClass": "standard"
  },
  "nbformat": 4,
  "nbformat_minor": 0
}