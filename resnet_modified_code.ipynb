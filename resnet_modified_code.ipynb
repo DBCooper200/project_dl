{
  "cells": [
    {
      "cell_type": "markdown",
      "metadata": {
        "id": "view-in-github",
        "colab_type": "text"
      },
      "source": [
        "<a href=\"https://colab.research.google.com/github/DBCooper200/project_dl/blob/main/resnet_modified_code.ipynb\" target=\"_parent\"><img src=\"https://colab.research.google.com/assets/colab-badge.svg\" alt=\"Open In Colab\"/></a>"
      ]
    },
    {
      "cell_type": "code",
      "execution_count": 1,
      "metadata": {
        "colab": {
          "base_uri": "https://localhost:8080/"
        },
        "id": "n5Fy2zx9Cadm",
        "outputId": "af4db380-2466-4d8f-b485-760f5ee98f6a"
      },
      "outputs": [
        {
          "output_type": "stream",
          "name": "stdout",
          "text": [
            "-rw-r--r-- 1 root root 67 May 24 16:22 kaggle.json\n"
          ]
        }
      ],
      "source": [
        "# Let's make sure the kaggle.json file is present.\n",
        "!ls -lha kaggle.json"
      ]
    },
    {
      "cell_type": "code",
      "source": [
        "\n",
        "from google.colab import drive\n",
        "drive.mount('/content/drive')"
      ],
      "metadata": {
        "colab": {
          "base_uri": "https://localhost:8080/"
        },
        "id": "qLtR-mfenxR4",
        "outputId": "8ecbbd57-ddc0-4a1d-e0ef-f2fedefac7e4"
      },
      "execution_count": 2,
      "outputs": [
        {
          "output_type": "stream",
          "name": "stdout",
          "text": [
            "Mounted at /content/drive\n"
          ]
        }
      ]
    },
    {
      "cell_type": "code",
      "execution_count": 3,
      "metadata": {
        "id": "fq-NW9y-Cumx"
      },
      "outputs": [],
      "source": [
        "# Next, install the Kaggle API client.\n",
        "!pip install -q kaggle"
      ]
    },
    {
      "cell_type": "code",
      "execution_count": 4,
      "metadata": {
        "id": "IfmTvpajCusO"
      },
      "outputs": [],
      "source": [
        "# The Kaggle API client expects this file to be in ~/.kaggle,\n",
        "# so move it there.\n",
        "!mkdir -p ~/.kaggle\n",
        "!cp kaggle.json ~/.kaggle/\n",
        "\n",
        "# This permissions change avoids a warning on Kaggle tool startup.\n",
        "!chmod 600 ~/.kaggle/kaggle.json"
      ]
    },
    {
      "cell_type": "code",
      "execution_count": 5,
      "metadata": {
        "colab": {
          "base_uri": "https://localhost:8080/"
        },
        "id": "O6ddBcGoCu5r",
        "outputId": "a8d1dc2a-37d8-4b78-f7a3-c329dc31ae29"
      },
      "outputs": [
        {
          "output_type": "stream",
          "name": "stdout",
          "text": [
            "Downloading glaucomadataset.zip to /content\n",
            "100% 2.53G/2.54G [00:26<00:00, 225MB/s]\n",
            "100% 2.54G/2.54G [00:26<00:00, 103MB/s]\n"
          ]
        }
      ],
      "source": [
        "!kaggle datasets download -d himanshuagarwal1998/glaucomadataset"
      ]
    },
    {
      "cell_type": "code",
      "execution_count": 6,
      "metadata": {
        "id": "PL6UuhLRIqAT"
      },
      "outputs": [],
      "source": [
        "!unzip -q /content/glaucomadataset.zip"
      ]
    },
    {
      "cell_type": "code",
      "execution_count": 7,
      "metadata": {
        "id": "SFPNY8oo9tre"
      },
      "outputs": [],
      "source": [
        "!mkdir 'Data_set'"
      ]
    },
    {
      "cell_type": "code",
      "execution_count": 8,
      "metadata": {
        "colab": {
          "base_uri": "https://localhost:8080/",
          "height": 36
        },
        "id": "fIqPFpSja2Oe",
        "outputId": "b0c113e4-5926-45ba-a04b-0c868a6b3e85"
      },
      "outputs": [
        {
          "output_type": "execute_result",
          "data": {
            "text/plain": [
              "'/content/Data_set/Non Glaucoma'"
            ],
            "application/vnd.google.colaboratory.intrinsic+json": {
              "type": "string"
            }
          },
          "metadata": {},
          "execution_count": 8
        }
      ],
      "source": [
        "import shutil, sys\n",
        "shutil.move(\"/content/Non Glaucoma\", \"/content/Data_set\")"
      ]
    },
    {
      "cell_type": "code",
      "execution_count": 9,
      "metadata": {
        "colab": {
          "base_uri": "https://localhost:8080/",
          "height": 36
        },
        "id": "h4rcWqciAGey",
        "outputId": "34ad313d-6b42-4ffd-91b9-bffd9d48af7b"
      },
      "outputs": [
        {
          "output_type": "execute_result",
          "data": {
            "text/plain": [
              "'/content/Data_set/Glaucoma'"
            ],
            "application/vnd.google.colaboratory.intrinsic+json": {
              "type": "string"
            }
          },
          "metadata": {},
          "execution_count": 9
        }
      ],
      "source": [
        "shutil.move(\"/content/Glaucoma\", \"/content/Data_set\")"
      ]
    },
    {
      "cell_type": "code",
      "execution_count": 10,
      "metadata": {
        "id": "6uInZfkzm7f6",
        "colab": {
          "base_uri": "https://localhost:8080/",
          "height": 54
        },
        "outputId": "f7afb659-ccde-4851-f996-d1c57e0a940b"
      },
      "outputs": [
        {
          "output_type": "execute_result",
          "data": {
            "text/plain": [
              "'FAST_RUN = False\\nIMAGE_WIDTH=128\\nIMAGE_HEIGHT=128\\nIMAGE_SIZE=(IMAGE_WIDTH, IMAGE_HEIGHT)\\nIMAGE_CHANNELS=3\\n'"
            ],
            "application/vnd.google.colaboratory.intrinsic+json": {
              "type": "string"
            }
          },
          "metadata": {},
          "execution_count": 10
        }
      ],
      "source": [
        "'''FAST_RUN = False\n",
        "IMAGE_WIDTH=128\n",
        "IMAGE_HEIGHT=128\n",
        "IMAGE_SIZE=(IMAGE_WIDTH, IMAGE_HEIGHT)\n",
        "IMAGE_CHANNELS=3\n",
        "'''"
      ]
    },
    {
      "cell_type": "code",
      "execution_count": 11,
      "metadata": {
        "id": "HsSydybym7lS"
      },
      "outputs": [],
      "source": [
        "import tensorflow\n",
        "import keras\n",
        "from keras.models import Sequential\n",
        "from keras.layers import Conv2D\n",
        "from keras.layers import MaxPooling2D\n",
        "from keras.layers import Flatten\n",
        "from keras.layers import Dense\n",
        "from tensorflow.keras.preprocessing import image\n",
        "import os\n",
        "import cv2\n",
        "import numpy as np\n",
        "from tqdm import tqdm\n",
        "import warnings\n",
        "warnings.filterwarnings('ignore')\n",
        "import warnings\n",
        "warnings.filterwarnings('ignore')"
      ]
    },
    {
      "cell_type": "code",
      "source": [
        "path = ['/content/Data_set/Non Glaucoma', '/content/Data_set/Glaucoma']\n",
        "images = []\n",
        "labels = []\n",
        "for n,i in enumerate(path):\n",
        "    for j in tqdm(os.listdir(i)):\n",
        "        img_path = os.path.join(i,j)\n",
        "        img = cv2.imread(img_path)\n",
        "        img = cv2.resize(img, (64,64))\n",
        "        images.append(img)\n",
        "        labels.append(n)\n",
        "images = np.array(images)/255\n",
        "labels = np.array(labels)"
      ],
      "metadata": {
        "colab": {
          "base_uri": "https://localhost:8080/"
        },
        "id": "Yfl6PfG_KX59",
        "outputId": "73b78eed-f302-47db-a306-0a28e4166e45"
      },
      "execution_count": 12,
      "outputs": [
        {
          "output_type": "stream",
          "name": "stderr",
          "text": [
            "100%|██████████| 511/511 [00:50<00:00, 10.17it/s]\n",
            "100%|██████████| 511/511 [00:10<00:00, 50.66it/s]\n"
          ]
        }
      ]
    },
    {
      "cell_type": "code",
      "source": [
        "for n in enumerate(path):\n",
        "  print(n)\n",
        "\n",
        "#the labels assigned are \n",
        "# 0 for non glaucomic images\n",
        "# 1 for glaucomic images"
      ],
      "metadata": {
        "colab": {
          "base_uri": "https://localhost:8080/"
        },
        "id": "xtlP5DBELUiG",
        "outputId": "ed6723a2-87ee-44fb-d6b1-5e224f425864"
      },
      "execution_count": 13,
      "outputs": [
        {
          "output_type": "stream",
          "name": "stdout",
          "text": [
            "(0, '/content/Data_set/Non Glaucoma')\n",
            "(1, '/content/Data_set/Glaucoma')\n"
          ]
        }
      ]
    },
    {
      "cell_type": "code",
      "source": [
        "from sklearn.utils import shuffle\n",
        "from sklearn.model_selection import train_test_split\n",
        "\n",
        "images, labels = shuffle(images, labels, random_state=32)\n",
        "x_train, x_valid, y_train, y_valid = train_test_split(images, labels, test_size=0.15, random_state=44)\n",
        "x_train, x_test, y_train, y_test = train_test_split(x_train, y_train, test_size=0.15, random_state=40)"
      ],
      "metadata": {
        "id": "tKGiNtJwLYY3"
      },
      "execution_count": 14,
      "outputs": []
    },
    {
      "cell_type": "code",
      "source": [
        "\n",
        "from keras.preprocessing.image import ImageDataGenerator\n",
        "datagen = ImageDataGenerator(zoom_range=0.2, horizontal_flip=True, vertical_flip=True,\n",
        "                            fill_mode='constant', cval=0.)\n",
        "train_gen = datagen.flow(x_train, y_train, batch_size=32)\n",
        "#Using TensorFlow backend.\n",
        "\n",
        "#for test set\n",
        "test_gen = datagen.flow(x_test, y_test, batch_size = 32)"
      ],
      "metadata": {
        "id": "imMvY6vnM_v8"
      },
      "execution_count": 15,
      "outputs": []
    },
    {
      "cell_type": "code",
      "execution_count": 16,
      "metadata": {
        "id": "2KnmzOlmrPWb"
      },
      "outputs": [],
      "source": [
        "HEIGHT = 64\n",
        "WIDTH = 64\n",
        "BATCH_SIZE = 32"
      ]
    },
    {
      "cell_type": "code",
      "execution_count": 17,
      "metadata": {
        "id": "p04NnVR5rbGu"
      },
      "outputs": [],
      "source": [
        "import tensorflow as tf\n",
        "from tensorflow.keras import Sequential, layers, Model\n",
        "from tensorflow.keras.applications.resnet50 import ResNet50\n",
        "'''\n",
        "from tensorflow.keras.applications.vgg16 import VGG16\n",
        "from tensorflow.keras.applications.xception import Xception\n",
        "from tensorflow.keras.applications.resnet import ResNet101\n",
        "from tensorflow.keras.applications.inception_v3 import InceptionV3\n",
        "from tensorflow.keras.applications.mobilenet_v2 import MobileNetV2\n",
        "from tensorflow.keras.applications.efficientnet import EfficientNetB7\n",
        "'''\n",
        "from sklearn.metrics import classification_report\n",
        "import plotly.express as px\n",
        "import pandas as pd"
      ]
    },
    {
      "cell_type": "code",
      "execution_count": 18,
      "metadata": {
        "id": "_NEUyo-XOq_i"
      },
      "outputs": [],
      "source": [
        "IMAGE_SIZE = (64,64)"
      ]
    },
    {
      "cell_type": "code",
      "execution_count": 19,
      "metadata": {
        "id": "LtUwq5oyOKS-"
      },
      "outputs": [],
      "source": [
        "resnet =ResNet50(weights= None, include_top=False, input_shape= (HEIGHT,WIDTH,3))\n",
        "#vgg = VGG16(input_shape=IMAGE_SIZE+(3,), weights='imagenet', include_top=False)\n",
        "#xception = Xception(input_shape=IMAGE_SIZE+(3,), weights='imagenet', include_top=False)\n",
        "#resnet101 = ResNet101(input_shape=IMAGE_SIZE+(3,), weights='imagenet', include_top=False)\n",
        "#inception = InceptionV3(input_shape=IMAGE_SIZE+(3,), weights='imagenet', include_top=False)\n",
        "#mobilenet = MobileNetV2(input_shape=IMAGE_SIZE+(3,), weights='imagenet', include_top=False)\n",
        "#efficientnet = EfficientNetB7(input_shape=IMAGE_SIZE+(3,), weights='imagenet', include_top=False)"
      ]
    },
    {
      "cell_type": "code",
      "execution_count": 20,
      "metadata": {
        "id": "Viwn3iH5PdvC"
      },
      "outputs": [],
      "source": [
        "from keras.optimizers import SGD, Adam\n",
        "from keras.layers import Dropout,Dense, GlobalAveragePooling2D\n",
        "x = x = layers.Flatten()(resnet.output)\n",
        "predictions = Dense(1,activation= 'sigmoid')(x)\n",
        "model = Model(inputs = resnet.input, outputs = predictions)\n",
        "adam=keras.optimizers.Adam(\n",
        "   learning_rate = 0.0001\n",
        ")\n",
        "model.compile(optimizer= adam, loss='binary_crossentropy', metrics=['accuracy'])"
      ]
    },
    {
      "cell_type": "code",
      "source": [
        "tb_callback = tensorflow.keras.callbacks.TensorBoard(log_dir=\"logs/\", histogram_freq=1)\n",
        "model.fit_generator(train_gen, epochs=100, steps_per_epoch=1,verbose=1, validation_data=(x_valid,y_valid),callbacks=[tb_callback])"
      ],
      "metadata": {
        "id": "EkBMsAG8roWm",
        "outputId": "60a32987-b257-4c4b-b339-2645ff8b97ea",
        "colab": {
          "base_uri": "https://localhost:8080/"
        }
      },
      "execution_count": 21,
      "outputs": [
        {
          "output_type": "stream",
          "name": "stdout",
          "text": [
            "Epoch 1/100\n",
            "1/1 [==============================] - 25s 25s/step - loss: 1.3453 - accuracy: 0.4062 - val_loss: 0.6938 - val_accuracy: 0.4610\n",
            "Epoch 2/100\n",
            "1/1 [==============================] - 6s 6s/step - loss: 1.6586 - accuracy: 0.5938 - val_loss: 0.6924 - val_accuracy: 0.4610\n",
            "Epoch 3/100\n",
            "1/1 [==============================] - 7s 7s/step - loss: 2.0634 - accuracy: 0.4062 - val_loss: 0.6930 - val_accuracy: 0.4610\n",
            "Epoch 4/100\n",
            "1/1 [==============================] - 6s 6s/step - loss: 1.2479 - accuracy: 0.5625 - val_loss: 0.6925 - val_accuracy: 0.5195\n",
            "Epoch 5/100\n",
            "1/1 [==============================] - 7s 7s/step - loss: 0.9257 - accuracy: 0.5938 - val_loss: 0.6919 - val_accuracy: 0.5390\n",
            "Epoch 6/100\n",
            "1/1 [==============================] - 6s 6s/step - loss: 1.4420 - accuracy: 0.5625 - val_loss: 0.6916 - val_accuracy: 0.5390\n",
            "Epoch 7/100\n",
            "1/1 [==============================] - 7s 7s/step - loss: 1.0068 - accuracy: 0.6250 - val_loss: 0.6921 - val_accuracy: 0.7078\n",
            "Epoch 8/100\n",
            "1/1 [==============================] - 7s 7s/step - loss: 0.9715 - accuracy: 0.5312 - val_loss: 0.6930 - val_accuracy: 0.4610\n",
            "Epoch 9/100\n",
            "1/1 [==============================] - 6s 6s/step - loss: 0.6433 - accuracy: 0.7500 - val_loss: 0.6941 - val_accuracy: 0.4610\n",
            "Epoch 10/100\n",
            "1/1 [==============================] - 7s 7s/step - loss: 0.9826 - accuracy: 0.6250 - val_loss: 0.6945 - val_accuracy: 0.4610\n",
            "Epoch 11/100\n",
            "1/1 [==============================] - 7s 7s/step - loss: 0.9728 - accuracy: 0.6562 - val_loss: 0.6942 - val_accuracy: 0.4610\n",
            "Epoch 12/100\n",
            "1/1 [==============================] - 6s 6s/step - loss: 0.8931 - accuracy: 0.5625 - val_loss: 0.6934 - val_accuracy: 0.4610\n",
            "Epoch 13/100\n",
            "1/1 [==============================] - 8s 8s/step - loss: 1.1754 - accuracy: 0.6562 - val_loss: 0.6929 - val_accuracy: 0.4610\n",
            "Epoch 14/100\n",
            "1/1 [==============================] - 6s 6s/step - loss: 0.7421 - accuracy: 0.7188 - val_loss: 0.6927 - val_accuracy: 0.4610\n",
            "Epoch 15/100\n",
            "1/1 [==============================] - 7s 7s/step - loss: 0.5038 - accuracy: 0.8438 - val_loss: 0.6928 - val_accuracy: 0.4610\n",
            "Epoch 16/100\n",
            "1/1 [==============================] - 6s 6s/step - loss: 0.7238 - accuracy: 0.6875 - val_loss: 0.6931 - val_accuracy: 0.4610\n",
            "Epoch 17/100\n",
            "1/1 [==============================] - 7s 7s/step - loss: 0.9528 - accuracy: 0.7812 - val_loss: 0.6932 - val_accuracy: 0.4610\n",
            "Epoch 18/100\n",
            "1/1 [==============================] - 6s 6s/step - loss: 0.8129 - accuracy: 0.7188 - val_loss: 0.6936 - val_accuracy: 0.4610\n",
            "Epoch 19/100\n",
            "1/1 [==============================] - 7s 7s/step - loss: 0.4864 - accuracy: 0.7812 - val_loss: 0.6935 - val_accuracy: 0.4610\n",
            "Epoch 20/100\n",
            "1/1 [==============================] - 7s 7s/step - loss: 0.5045 - accuracy: 0.7812 - val_loss: 0.6934 - val_accuracy: 0.4610\n",
            "Epoch 21/100\n",
            "1/1 [==============================] - 7s 7s/step - loss: 1.5018 - accuracy: 0.0000e+00 - val_loss: 0.6919 - val_accuracy: 0.4935\n",
            "Epoch 22/100\n",
            "1/1 [==============================] - 7s 7s/step - loss: 0.4610 - accuracy: 0.7188 - val_loss: 0.6909 - val_accuracy: 0.5130\n",
            "Epoch 23/100\n",
            "1/1 [==============================] - 7s 7s/step - loss: 0.4475 - accuracy: 0.7500 - val_loss: 0.6902 - val_accuracy: 0.5390\n",
            "Epoch 24/100\n",
            "1/1 [==============================] - 6s 6s/step - loss: 0.9320 - accuracy: 0.7500 - val_loss: 0.6900 - val_accuracy: 0.5390\n",
            "Epoch 25/100\n",
            "1/1 [==============================] - 7s 7s/step - loss: 0.4573 - accuracy: 0.8438 - val_loss: 0.6901 - val_accuracy: 0.5390\n",
            "Epoch 26/100\n",
            "1/1 [==============================] - 7s 7s/step - loss: 1.4738 - accuracy: 0.7812 - val_loss: 0.6901 - val_accuracy: 0.5390\n",
            "Epoch 27/100\n",
            "1/1 [==============================] - 6s 6s/step - loss: 0.7925 - accuracy: 0.8125 - val_loss: 0.6905 - val_accuracy: 0.5390\n",
            "Epoch 28/100\n",
            "1/1 [==============================] - 7s 7s/step - loss: 0.6051 - accuracy: 0.7188 - val_loss: 0.6911 - val_accuracy: 0.5390\n",
            "Epoch 29/100\n",
            "1/1 [==============================] - 6s 6s/step - loss: 0.7858 - accuracy: 0.8438 - val_loss: 0.6920 - val_accuracy: 0.6039\n",
            "Epoch 30/100\n",
            "1/1 [==============================] - 7s 7s/step - loss: 0.5080 - accuracy: 1.0000 - val_loss: 0.6913 - val_accuracy: 0.5390\n",
            "Epoch 31/100\n",
            "1/1 [==============================] - 6s 6s/step - loss: 0.5600 - accuracy: 0.7812 - val_loss: 0.6911 - val_accuracy: 0.5390\n",
            "Epoch 32/100\n",
            "1/1 [==============================] - 7s 7s/step - loss: 0.3322 - accuracy: 0.8125 - val_loss: 0.6913 - val_accuracy: 0.5390\n",
            "Epoch 33/100\n",
            "1/1 [==============================] - 7s 7s/step - loss: 0.3572 - accuracy: 0.8125 - val_loss: 0.6917 - val_accuracy: 0.5325\n",
            "Epoch 34/100\n",
            "1/1 [==============================] - 6s 6s/step - loss: 0.4929 - accuracy: 0.7812 - val_loss: 0.6921 - val_accuracy: 0.5195\n",
            "Epoch 35/100\n",
            "1/1 [==============================] - 7s 7s/step - loss: 0.6170 - accuracy: 0.8750 - val_loss: 0.6925 - val_accuracy: 0.5974\n",
            "Epoch 36/100\n",
            "1/1 [==============================] - 7s 7s/step - loss: 0.4783 - accuracy: 0.8125 - val_loss: 0.6930 - val_accuracy: 0.4610\n",
            "Epoch 37/100\n",
            "1/1 [==============================] - 6s 6s/step - loss: 0.4335 - accuracy: 0.8750 - val_loss: 0.6928 - val_accuracy: 0.5130\n",
            "Epoch 38/100\n",
            "1/1 [==============================] - 7s 7s/step - loss: 0.2729 - accuracy: 0.9062 - val_loss: 0.6932 - val_accuracy: 0.4610\n",
            "Epoch 39/100\n",
            "1/1 [==============================] - 7s 7s/step - loss: 0.5487 - accuracy: 0.7188 - val_loss: 0.6944 - val_accuracy: 0.4610\n",
            "Epoch 40/100\n",
            "1/1 [==============================] - 6s 6s/step - loss: 0.5815 - accuracy: 0.8125 - val_loss: 0.6950 - val_accuracy: 0.4610\n",
            "Epoch 41/100\n",
            "1/1 [==============================] - 7s 7s/step - loss: 0.4350 - accuracy: 0.8125 - val_loss: 0.6944 - val_accuracy: 0.4610\n",
            "Epoch 42/100\n",
            "1/1 [==============================] - 6s 6s/step - loss: 1.1540 - accuracy: 0.6562 - val_loss: 0.6932 - val_accuracy: 0.4610\n",
            "Epoch 43/100\n",
            "1/1 [==============================] - 7s 7s/step - loss: 0.5476 - accuracy: 0.8438 - val_loss: 0.6917 - val_accuracy: 0.5584\n",
            "Epoch 44/100\n",
            "1/1 [==============================] - 7s 7s/step - loss: 0.7122 - accuracy: 0.7500 - val_loss: 0.6912 - val_accuracy: 0.5390\n",
            "Epoch 45/100\n",
            "1/1 [==============================] - 6s 6s/step - loss: 1.0902 - accuracy: 0.8438 - val_loss: 0.6920 - val_accuracy: 0.6364\n",
            "Epoch 46/100\n",
            "1/1 [==============================] - 6s 6s/step - loss: 0.6159 - accuracy: 0.9375 - val_loss: 0.6931 - val_accuracy: 0.4610\n",
            "Epoch 47/100\n",
            "1/1 [==============================] - 6s 6s/step - loss: 0.1867 - accuracy: 0.9375 - val_loss: 0.6944 - val_accuracy: 0.4610\n",
            "Epoch 48/100\n",
            "1/1 [==============================] - 7s 7s/step - loss: 0.3053 - accuracy: 0.8438 - val_loss: 0.6958 - val_accuracy: 0.4610\n",
            "Epoch 49/100\n",
            "1/1 [==============================] - 6s 6s/step - loss: 0.0194 - accuracy: 1.0000 - val_loss: 0.6976 - val_accuracy: 0.4610\n",
            "Epoch 50/100\n",
            "1/1 [==============================] - 7s 7s/step - loss: 1.4474 - accuracy: 0.0000e+00 - val_loss: 0.7056 - val_accuracy: 0.4610\n",
            "Epoch 51/100\n",
            "1/1 [==============================] - 6s 6s/step - loss: 0.4329 - accuracy: 0.8438 - val_loss: 0.7158 - val_accuracy: 0.4610\n",
            "Epoch 52/100\n",
            "1/1 [==============================] - 7s 7s/step - loss: 0.9443 - accuracy: 0.6875 - val_loss: 0.7240 - val_accuracy: 0.4610\n",
            "Epoch 53/100\n",
            "1/1 [==============================] - 7s 7s/step - loss: 0.5888 - accuracy: 0.7188 - val_loss: 0.7268 - val_accuracy: 0.4610\n",
            "Epoch 54/100\n",
            "1/1 [==============================] - 6s 6s/step - loss: 0.7046 - accuracy: 0.7188 - val_loss: 0.7235 - val_accuracy: 0.4610\n",
            "Epoch 55/100\n",
            "1/1 [==============================] - 7s 7s/step - loss: 0.7329 - accuracy: 0.7812 - val_loss: 0.7188 - val_accuracy: 0.4610\n",
            "Epoch 56/100\n",
            "1/1 [==============================] - 6s 6s/step - loss: 0.5821 - accuracy: 0.7188 - val_loss: 0.7118 - val_accuracy: 0.4610\n",
            "Epoch 57/100\n",
            "1/1 [==============================] - 7s 7s/step - loss: 0.5940 - accuracy: 0.8125 - val_loss: 0.7042 - val_accuracy: 0.4610\n",
            "Epoch 58/100\n",
            "1/1 [==============================] - 6s 6s/step - loss: 0.1330 - accuracy: 1.0000 - val_loss: 0.6975 - val_accuracy: 0.4610\n",
            "Epoch 59/100\n",
            "1/1 [==============================] - 7s 7s/step - loss: 0.8768 - accuracy: 0.7188 - val_loss: 0.6951 - val_accuracy: 0.4610\n",
            "Epoch 60/100\n",
            "1/1 [==============================] - 6s 6s/step - loss: 0.7459 - accuracy: 0.7500 - val_loss: 0.6937 - val_accuracy: 0.4610\n",
            "Epoch 61/100\n",
            "1/1 [==============================] - 7s 7s/step - loss: 3.3505 - accuracy: 0.0000e+00 - val_loss: 0.7001 - val_accuracy: 0.4610\n",
            "Epoch 62/100\n",
            "1/1 [==============================] - 7s 7s/step - loss: 0.3120 - accuracy: 0.9062 - val_loss: 0.7097 - val_accuracy: 0.4610\n",
            "Epoch 63/100\n",
            "1/1 [==============================] - 6s 6s/step - loss: 0.4811 - accuracy: 0.7812 - val_loss: 0.7191 - val_accuracy: 0.4610\n",
            "Epoch 64/100\n",
            "1/1 [==============================] - 7s 7s/step - loss: 0.5276 - accuracy: 0.7188 - val_loss: 0.7280 - val_accuracy: 0.4610\n",
            "Epoch 65/100\n",
            "1/1 [==============================] - 7s 7s/step - loss: 0.0074 - accuracy: 1.0000 - val_loss: 0.7372 - val_accuracy: 0.4610\n",
            "Epoch 66/100\n",
            "1/1 [==============================] - 6s 6s/step - loss: 0.6194 - accuracy: 0.7188 - val_loss: 0.7419 - val_accuracy: 0.4610\n",
            "Epoch 67/100\n",
            "1/1 [==============================] - 7s 7s/step - loss: 0.5764 - accuracy: 0.7500 - val_loss: 0.7394 - val_accuracy: 0.4610\n",
            "Epoch 68/100\n",
            "1/1 [==============================] - 7s 7s/step - loss: 0.4671 - accuracy: 0.8125 - val_loss: 0.7313 - val_accuracy: 0.4610\n",
            "Epoch 69/100\n",
            "1/1 [==============================] - 7s 7s/step - loss: 0.9233 - accuracy: 0.6562 - val_loss: 0.7182 - val_accuracy: 0.4610\n",
            "Epoch 70/100\n",
            "1/1 [==============================] - 7s 7s/step - loss: 0.5188 - accuracy: 0.8125 - val_loss: 0.7098 - val_accuracy: 0.4610\n",
            "Epoch 71/100\n",
            "1/1 [==============================] - 7s 7s/step - loss: 0.6196 - accuracy: 0.7500 - val_loss: 0.7077 - val_accuracy: 0.4610\n",
            "Epoch 72/100\n",
            "1/1 [==============================] - 7s 7s/step - loss: 0.5317 - accuracy: 0.7500 - val_loss: 0.7106 - val_accuracy: 0.4610\n",
            "Epoch 73/100\n",
            "1/1 [==============================] - 7s 7s/step - loss: 2.6207 - accuracy: 0.0000e+00 - val_loss: 0.7324 - val_accuracy: 0.4610\n",
            "Epoch 74/100\n",
            "1/1 [==============================] - 6s 6s/step - loss: 0.5640 - accuracy: 0.7812 - val_loss: 0.7637 - val_accuracy: 0.4610\n",
            "Epoch 75/100\n",
            "1/1 [==============================] - 7s 7s/step - loss: 0.7345 - accuracy: 0.7188 - val_loss: 0.7950 - val_accuracy: 0.4610\n",
            "Epoch 76/100\n",
            "1/1 [==============================] - 6s 6s/step - loss: 0.6623 - accuracy: 0.7188 - val_loss: 0.8210 - val_accuracy: 0.4610\n",
            "Epoch 77/100\n",
            "1/1 [==============================] - 8s 8s/step - loss: 1.0614 - accuracy: 0.6250 - val_loss: 0.8291 - val_accuracy: 0.4610\n",
            "Epoch 78/100\n",
            "1/1 [==============================] - 6s 6s/step - loss: 0.7757 - accuracy: 0.7188 - val_loss: 0.8227 - val_accuracy: 0.4610\n",
            "Epoch 79/100\n",
            "1/1 [==============================] - 6s 6s/step - loss: 0.5791 - accuracy: 0.6562 - val_loss: 0.8090 - val_accuracy: 0.4610\n",
            "Epoch 80/100\n",
            "1/1 [==============================] - 7s 7s/step - loss: 0.7502 - accuracy: 0.8125 - val_loss: 0.7957 - val_accuracy: 0.4610\n",
            "Epoch 81/100\n",
            "1/1 [==============================] - 6s 6s/step - loss: 0.2089 - accuracy: 0.9375 - val_loss: 0.7824 - val_accuracy: 0.4610\n",
            "Epoch 82/100\n",
            "1/1 [==============================] - 7s 7s/step - loss: 0.4912 - accuracy: 0.8125 - val_loss: 0.7703 - val_accuracy: 0.4610\n",
            "1/1 [==============================] - 7s 7s/step - loss: 0.9270 - accuracy: 0.7812 - val_loss: 0.7646 - val_accuracy: 0.4610\n",
            "Epoch 84/100\n",
            "1/1 [==============================] - 6s 6s/step - loss: 0.2916 - accuracy: 0.8125 - val_loss: 0.7601 - val_accuracy: 0.4610\n",
            "Epoch 85/100\n",
            "1/1 [==============================] - 7s 7s/step - loss: 0.4611 - accuracy: 0.7812 - val_loss: 0.7656 - val_accuracy: 0.4610\n",
            "Epoch 86/100\n",
            "1/1 [==============================] - 6s 6s/step - loss: 0.4291 - accuracy: 0.8125 - val_loss: 0.7709 - val_accuracy: 0.4610\n",
            "Epoch 87/100\n",
            "1/1 [==============================] - 7s 7s/step - loss: 0.9114 - accuracy: 0.6875 - val_loss: 0.7852 - val_accuracy: 0.4610\n",
            "Epoch 88/100\n",
            "1/1 [==============================] - 6s 6s/step - loss: 0.2310 - accuracy: 0.9375 - val_loss: 0.8054 - val_accuracy: 0.4610\n",
            "Epoch 89/100\n",
            "1/1 [==============================] - 6s 6s/step - loss: 0.4963 - accuracy: 0.7812 - val_loss: 0.8307 - val_accuracy: 0.4610\n",
            "Epoch 90/100\n",
            "1/1 [==============================] - 7s 7s/step - loss: 0.4808 - accuracy: 0.8750 - val_loss: 0.8498 - val_accuracy: 0.4610\n",
            "Epoch 91/100\n",
            "1/1 [==============================] - 7s 7s/step - loss: 0.5041 - accuracy: 0.7812 - val_loss: 0.8618 - val_accuracy: 0.4610\n",
            "Epoch 92/100\n",
            "1/1 [==============================] - 6s 6s/step - loss: 0.8964 - accuracy: 0.6562 - val_loss: 0.8494 - val_accuracy: 0.4610\n",
            "Epoch 93/100\n",
            "1/1 [==============================] - 7s 7s/step - loss: 0.2124 - accuracy: 0.9375 - val_loss: 0.8343 - val_accuracy: 0.4610\n",
            "Epoch 94/100\n",
            "1/1 [==============================] - 6s 6s/step - loss: 0.7169 - accuracy: 0.8125 - val_loss: 0.8076 - val_accuracy: 0.4610\n",
            "Epoch 95/100\n",
            "1/1 [==============================] - 7s 7s/step - loss: 0.5688 - accuracy: 0.7500 - val_loss: 0.7802 - val_accuracy: 0.4610\n",
            "Epoch 96/100\n",
            "1/1 [==============================] - 6s 6s/step - loss: 0.3365 - accuracy: 0.8125 - val_loss: 0.7653 - val_accuracy: 0.4610\n",
            "Epoch 97/100\n",
            "1/1 [==============================] - 8s 8s/step - loss: 0.5666 - accuracy: 0.7500 - val_loss: 0.7643 - val_accuracy: 0.4610\n",
            "Epoch 98/100\n",
            "1/1 [==============================] - 6s 6s/step - loss: 0.9040 - accuracy: 0.7188 - val_loss: 0.7807 - val_accuracy: 0.4610\n",
            "Epoch 99/100\n",
            "1/1 [==============================] - 7s 7s/step - loss: 0.6095 - accuracy: 0.8750 - val_loss: 0.8114 - val_accuracy: 0.4610\n",
            "Epoch 100/100\n",
            "1/1 [==============================] - 7s 7s/step - loss: 0.5835 - accuracy: 0.8750 - val_loss: 0.8518 - val_accuracy: 0.4610\n"
          ]
        },
        {
          "output_type": "execute_result",
          "data": {
            "text/plain": [
              "<keras.callbacks.History at 0x7faa00331540>"
            ]
          },
          "metadata": {},
          "execution_count": 21
        }
      ]
    },
    {
      "cell_type": "code",
      "source": [
        "model.summary()"
      ],
      "metadata": {
        "id": "Ia5EoFZ1ohhj",
        "outputId": "d720c911-ce41-46ee-bee2-87550b3fc5ef",
        "colab": {
          "base_uri": "https://localhost:8080/"
        }
      },
      "execution_count": 25,
      "outputs": [
        {
          "output_type": "stream",
          "name": "stdout",
          "text": [
            "Model: \"model\"\n",
            "__________________________________________________________________________________________________\n",
            " Layer (type)                   Output Shape         Param #     Connected to                     \n",
            "==================================================================================================\n",
            " input_1 (InputLayer)           [(None, 64, 64, 3)]  0           []                               \n",
            "                                                                                                  \n",
            " conv1_pad (ZeroPadding2D)      (None, 70, 70, 3)    0           ['input_1[0][0]']                \n",
            "                                                                                                  \n",
            " conv1_conv (Conv2D)            (None, 32, 32, 64)   9472        ['conv1_pad[0][0]']              \n",
            "                                                                                                  \n",
            " conv1_bn (BatchNormalization)  (None, 32, 32, 64)   256         ['conv1_conv[0][0]']             \n",
            "                                                                                                  \n",
            " conv1_relu (Activation)        (None, 32, 32, 64)   0           ['conv1_bn[0][0]']               \n",
            "                                                                                                  \n",
            " pool1_pad (ZeroPadding2D)      (None, 34, 34, 64)   0           ['conv1_relu[0][0]']             \n",
            "                                                                                                  \n",
            " pool1_pool (MaxPooling2D)      (None, 16, 16, 64)   0           ['pool1_pad[0][0]']              \n",
            "                                                                                                  \n",
            " conv2_block1_1_conv (Conv2D)   (None, 16, 16, 64)   4160        ['pool1_pool[0][0]']             \n",
            "                                                                                                  \n",
            " conv2_block1_1_bn (BatchNormal  (None, 16, 16, 64)  256         ['conv2_block1_1_conv[0][0]']    \n",
            " ization)                                                                                         \n",
            "                                                                                                  \n",
            " conv2_block1_1_relu (Activatio  (None, 16, 16, 64)  0           ['conv2_block1_1_bn[0][0]']      \n",
            " n)                                                                                               \n",
            "                                                                                                  \n",
            " conv2_block1_2_conv (Conv2D)   (None, 16, 16, 64)   36928       ['conv2_block1_1_relu[0][0]']    \n",
            "                                                                                                  \n",
            " conv2_block1_2_bn (BatchNormal  (None, 16, 16, 64)  256         ['conv2_block1_2_conv[0][0]']    \n",
            " ization)                                                                                         \n",
            "                                                                                                  \n",
            " conv2_block1_2_relu (Activatio  (None, 16, 16, 64)  0           ['conv2_block1_2_bn[0][0]']      \n",
            " n)                                                                                               \n",
            "                                                                                                  \n",
            " conv2_block1_0_conv (Conv2D)   (None, 16, 16, 256)  16640       ['pool1_pool[0][0]']             \n",
            "                                                                                                  \n",
            " conv2_block1_3_conv (Conv2D)   (None, 16, 16, 256)  16640       ['conv2_block1_2_relu[0][0]']    \n",
            "                                                                                                  \n",
            " conv2_block1_0_bn (BatchNormal  (None, 16, 16, 256)  1024       ['conv2_block1_0_conv[0][0]']    \n",
            " ization)                                                                                         \n",
            "                                                                                                  \n",
            " conv2_block1_3_bn (BatchNormal  (None, 16, 16, 256)  1024       ['conv2_block1_3_conv[0][0]']    \n",
            " ization)                                                                                         \n",
            "                                                                                                  \n",
            " conv2_block1_add (Add)         (None, 16, 16, 256)  0           ['conv2_block1_0_bn[0][0]',      \n",
            "                                                                  'conv2_block1_3_bn[0][0]']      \n",
            "                                                                                                  \n",
            " conv2_block1_out (Activation)  (None, 16, 16, 256)  0           ['conv2_block1_add[0][0]']       \n",
            "                                                                                                  \n",
            " conv2_block2_1_conv (Conv2D)   (None, 16, 16, 64)   16448       ['conv2_block1_out[0][0]']       \n",
            "                                                                                                  \n",
            " conv2_block2_1_bn (BatchNormal  (None, 16, 16, 64)  256         ['conv2_block2_1_conv[0][0]']    \n",
            " ization)                                                                                         \n",
            "                                                                                                  \n",
            " conv2_block2_1_relu (Activatio  (None, 16, 16, 64)  0           ['conv2_block2_1_bn[0][0]']      \n",
            " n)                                                                                               \n",
            "                                                                                                  \n",
            " conv2_block2_2_conv (Conv2D)   (None, 16, 16, 64)   36928       ['conv2_block2_1_relu[0][0]']    \n",
            "                                                                                                  \n",
            " conv2_block2_2_bn (BatchNormal  (None, 16, 16, 64)  256         ['conv2_block2_2_conv[0][0]']    \n",
            " ization)                                                                                         \n",
            "                                                                                                  \n",
            " conv2_block2_2_relu (Activatio  (None, 16, 16, 64)  0           ['conv2_block2_2_bn[0][0]']      \n",
            " n)                                                                                               \n",
            "                                                                                                  \n",
            " conv2_block2_3_conv (Conv2D)   (None, 16, 16, 256)  16640       ['conv2_block2_2_relu[0][0]']    \n",
            "                                                                                                  \n",
            " conv2_block2_3_bn (BatchNormal  (None, 16, 16, 256)  1024       ['conv2_block2_3_conv[0][0]']    \n",
            " ization)                                                                                         \n",
            "                                                                                                  \n",
            " conv2_block2_add (Add)         (None, 16, 16, 256)  0           ['conv2_block1_out[0][0]',       \n",
            "                                                                  'conv2_block2_3_bn[0][0]']      \n",
            "                                                                                                  \n",
            " conv2_block2_out (Activation)  (None, 16, 16, 256)  0           ['conv2_block2_add[0][0]']       \n",
            "                                                                                                  \n",
            " conv2_block3_1_conv (Conv2D)   (None, 16, 16, 64)   16448       ['conv2_block2_out[0][0]']       \n",
            "                                                                                                  \n",
            " conv2_block3_1_bn (BatchNormal  (None, 16, 16, 64)  256         ['conv2_block3_1_conv[0][0]']    \n",
            " ization)                                                                                         \n",
            "                                                                                                  \n",
            " conv2_block3_1_relu (Activatio  (None, 16, 16, 64)  0           ['conv2_block3_1_bn[0][0]']      \n",
            " n)                                                                                               \n",
            "                                                                                                  \n",
            " conv2_block3_2_conv (Conv2D)   (None, 16, 16, 64)   36928       ['conv2_block3_1_relu[0][0]']    \n",
            "                                                                                                  \n",
            " conv2_block3_2_bn (BatchNormal  (None, 16, 16, 64)  256         ['conv2_block3_2_conv[0][0]']    \n",
            " ization)                                                                                         \n",
            "                                                                                                  \n",
            " conv2_block3_2_relu (Activatio  (None, 16, 16, 64)  0           ['conv2_block3_2_bn[0][0]']      \n",
            " n)                                                                                               \n",
            "                                                                                                  \n",
            " conv2_block3_3_conv (Conv2D)   (None, 16, 16, 256)  16640       ['conv2_block3_2_relu[0][0]']    \n",
            "                                                                                                  \n",
            " conv2_block3_3_bn (BatchNormal  (None, 16, 16, 256)  1024       ['conv2_block3_3_conv[0][0]']    \n",
            " ization)                                                                                         \n",
            "                                                                                                  \n",
            " conv2_block3_add (Add)         (None, 16, 16, 256)  0           ['conv2_block2_out[0][0]',       \n",
            "                                                                  'conv2_block3_3_bn[0][0]']      \n",
            "                                                                                                  \n",
            " conv2_block3_out (Activation)  (None, 16, 16, 256)  0           ['conv2_block3_add[0][0]']       \n",
            "                                                                                                  \n",
            " conv3_block1_1_conv (Conv2D)   (None, 8, 8, 128)    32896       ['conv2_block3_out[0][0]']       \n",
            "                                                                                                  \n",
            " conv3_block1_1_bn (BatchNormal  (None, 8, 8, 128)   512         ['conv3_block1_1_conv[0][0]']    \n",
            " ization)                                                                                         \n",
            "                                                                                                  \n",
            " conv3_block1_1_relu (Activatio  (None, 8, 8, 128)   0           ['conv3_block1_1_bn[0][0]']      \n",
            " n)                                                                                               \n",
            "                                                                                                  \n",
            " conv3_block1_2_conv (Conv2D)   (None, 8, 8, 128)    147584      ['conv3_block1_1_relu[0][0]']    \n",
            "                                                                                                  \n",
            " conv3_block1_2_bn (BatchNormal  (None, 8, 8, 128)   512         ['conv3_block1_2_conv[0][0]']    \n",
            " ization)                                                                                         \n",
            "                                                                                                  \n",
            " conv3_block1_2_relu (Activatio  (None, 8, 8, 128)   0           ['conv3_block1_2_bn[0][0]']      \n",
            " n)                                                                                               \n",
            "                                                                                                  \n",
            " conv3_block1_0_conv (Conv2D)   (None, 8, 8, 512)    131584      ['conv2_block3_out[0][0]']       \n",
            "                                                                                                  \n",
            " conv3_block1_3_conv (Conv2D)   (None, 8, 8, 512)    66048       ['conv3_block1_2_relu[0][0]']    \n",
            "                                                                                                  \n",
            " conv3_block1_0_bn (BatchNormal  (None, 8, 8, 512)   2048        ['conv3_block1_0_conv[0][0]']    \n",
            " ization)                                                                                         \n",
            "                                                                                                  \n",
            " conv3_block1_3_bn (BatchNormal  (None, 8, 8, 512)   2048        ['conv3_block1_3_conv[0][0]']    \n",
            " ization)                                                                                         \n",
            "                                                                                                  \n",
            " conv3_block1_add (Add)         (None, 8, 8, 512)    0           ['conv3_block1_0_bn[0][0]',      \n",
            "                                                                  'conv3_block1_3_bn[0][0]']      \n",
            "                                                                                                  \n",
            " conv3_block1_out (Activation)  (None, 8, 8, 512)    0           ['conv3_block1_add[0][0]']       \n",
            "                                                                                                  \n",
            " conv3_block2_1_conv (Conv2D)   (None, 8, 8, 128)    65664       ['conv3_block1_out[0][0]']       \n",
            "                                                                                                  \n",
            " conv3_block2_1_bn (BatchNormal  (None, 8, 8, 128)   512         ['conv3_block2_1_conv[0][0]']    \n",
            " ization)                                                                                         \n",
            "                                                                                                  \n",
            " conv3_block2_1_relu (Activatio  (None, 8, 8, 128)   0           ['conv3_block2_1_bn[0][0]']      \n",
            " n)                                                                                               \n",
            "                                                                                                  \n",
            " conv3_block2_2_conv (Conv2D)   (None, 8, 8, 128)    147584      ['conv3_block2_1_relu[0][0]']    \n",
            "                                                                                                  \n",
            " conv3_block2_2_bn (BatchNormal  (None, 8, 8, 128)   512         ['conv3_block2_2_conv[0][0]']    \n",
            " ization)                                                                                         \n",
            "                                                                                                  \n",
            " conv3_block2_2_relu (Activatio  (None, 8, 8, 128)   0           ['conv3_block2_2_bn[0][0]']      \n",
            " n)                                                                                               \n",
            "                                                                                                  \n",
            " conv3_block2_3_conv (Conv2D)   (None, 8, 8, 512)    66048       ['conv3_block2_2_relu[0][0]']    \n",
            "                                                                                                  \n",
            " conv3_block2_3_bn (BatchNormal  (None, 8, 8, 512)   2048        ['conv3_block2_3_conv[0][0]']    \n",
            " ization)                                                                                         \n",
            "                                                                                                  \n",
            " conv3_block2_add (Add)         (None, 8, 8, 512)    0           ['conv3_block1_out[0][0]',       \n",
            "                                                                  'conv3_block2_3_bn[0][0]']      \n",
            "                                                                                                  \n",
            " conv3_block2_out (Activation)  (None, 8, 8, 512)    0           ['conv3_block2_add[0][0]']       \n",
            "                                                                                                  \n",
            " conv3_block3_1_conv (Conv2D)   (None, 8, 8, 128)    65664       ['conv3_block2_out[0][0]']       \n",
            "                                                                                                  \n",
            " conv3_block3_1_bn (BatchNormal  (None, 8, 8, 128)   512         ['conv3_block3_1_conv[0][0]']    \n",
            " ization)                                                                                         \n",
            "                                                                                                  \n",
            " conv3_block3_1_relu (Activatio  (None, 8, 8, 128)   0           ['conv3_block3_1_bn[0][0]']      \n",
            " n)                                                                                               \n",
            "                                                                                                  \n",
            " conv3_block3_2_conv (Conv2D)   (None, 8, 8, 128)    147584      ['conv3_block3_1_relu[0][0]']    \n",
            "                                                                                                  \n",
            " conv3_block3_2_bn (BatchNormal  (None, 8, 8, 128)   512         ['conv3_block3_2_conv[0][0]']    \n",
            " ization)                                                                                         \n",
            "                                                                                                  \n",
            " conv3_block3_2_relu (Activatio  (None, 8, 8, 128)   0           ['conv3_block3_2_bn[0][0]']      \n",
            " n)                                                                                               \n",
            "                                                                                                  \n",
            " conv3_block3_3_conv (Conv2D)   (None, 8, 8, 512)    66048       ['conv3_block3_2_relu[0][0]']    \n",
            "                                                                                                  \n",
            " conv3_block3_3_bn (BatchNormal  (None, 8, 8, 512)   2048        ['conv3_block3_3_conv[0][0]']    \n",
            " ization)                                                                                         \n",
            "                                                                                                  \n",
            " conv3_block3_add (Add)         (None, 8, 8, 512)    0           ['conv3_block2_out[0][0]',       \n",
            "                                                                  'conv3_block3_3_bn[0][0]']      \n",
            "                                                                                                  \n",
            " conv3_block3_out (Activation)  (None, 8, 8, 512)    0           ['conv3_block3_add[0][0]']       \n",
            "                                                                                                  \n",
            " conv3_block4_1_conv (Conv2D)   (None, 8, 8, 128)    65664       ['conv3_block3_out[0][0]']       \n",
            "                                                                                                  \n",
            " conv3_block4_1_bn (BatchNormal  (None, 8, 8, 128)   512         ['conv3_block4_1_conv[0][0]']    \n",
            " ization)                                                                                         \n",
            "                                                                                                  \n",
            " conv3_block4_1_relu (Activatio  (None, 8, 8, 128)   0           ['conv3_block4_1_bn[0][0]']      \n",
            " n)                                                                                               \n",
            "                                                                                                  \n",
            " conv3_block4_2_conv (Conv2D)   (None, 8, 8, 128)    147584      ['conv3_block4_1_relu[0][0]']    \n",
            "                                                                                                  \n",
            " conv3_block4_2_bn (BatchNormal  (None, 8, 8, 128)   512         ['conv3_block4_2_conv[0][0]']    \n",
            " ization)                                                                                         \n",
            "                                                                                                  \n",
            " conv3_block4_2_relu (Activatio  (None, 8, 8, 128)   0           ['conv3_block4_2_bn[0][0]']      \n",
            " n)                                                                                               \n",
            "                                                                                                  \n",
            " conv3_block4_3_conv (Conv2D)   (None, 8, 8, 512)    66048       ['conv3_block4_2_relu[0][0]']    \n",
            "                                                                                                  \n",
            " conv3_block4_3_bn (BatchNormal  (None, 8, 8, 512)   2048        ['conv3_block4_3_conv[0][0]']    \n",
            " ization)                                                                                         \n",
            "                                                                                                  \n",
            " conv3_block4_add (Add)         (None, 8, 8, 512)    0           ['conv3_block3_out[0][0]',       \n",
            "                                                                  'conv3_block4_3_bn[0][0]']      \n",
            "                                                                                                  \n",
            " conv3_block4_out (Activation)  (None, 8, 8, 512)    0           ['conv3_block4_add[0][0]']       \n",
            "                                                                                                  \n",
            " conv4_block1_1_conv (Conv2D)   (None, 4, 4, 256)    131328      ['conv3_block4_out[0][0]']       \n",
            "                                                                                                  \n",
            " conv4_block1_1_bn (BatchNormal  (None, 4, 4, 256)   1024        ['conv4_block1_1_conv[0][0]']    \n",
            " ization)                                                                                         \n",
            "                                                                                                  \n",
            " conv4_block1_1_relu (Activatio  (None, 4, 4, 256)   0           ['conv4_block1_1_bn[0][0]']      \n",
            " n)                                                                                               \n",
            "                                                                                                  \n",
            " conv4_block1_2_conv (Conv2D)   (None, 4, 4, 256)    590080      ['conv4_block1_1_relu[0][0]']    \n",
            "                                                                                                  \n",
            " conv4_block1_2_bn (BatchNormal  (None, 4, 4, 256)   1024        ['conv4_block1_2_conv[0][0]']    \n",
            " ization)                                                                                         \n",
            "                                                                                                  \n",
            " conv4_block1_2_relu (Activatio  (None, 4, 4, 256)   0           ['conv4_block1_2_bn[0][0]']      \n",
            " n)                                                                                               \n",
            "                                                                                                  \n",
            " conv4_block1_0_conv (Conv2D)   (None, 4, 4, 1024)   525312      ['conv3_block4_out[0][0]']       \n",
            "                                                                                                  \n",
            " conv4_block1_3_conv (Conv2D)   (None, 4, 4, 1024)   263168      ['conv4_block1_2_relu[0][0]']    \n",
            "                                                                                                  \n",
            " conv4_block1_0_bn (BatchNormal  (None, 4, 4, 1024)  4096        ['conv4_block1_0_conv[0][0]']    \n",
            " ization)                                                                                         \n",
            "                                                                                                  \n",
            " conv4_block1_3_bn (BatchNormal  (None, 4, 4, 1024)  4096        ['conv4_block1_3_conv[0][0]']    \n",
            " ization)                                                                                         \n",
            "                                                                                                  \n",
            " conv4_block1_add (Add)         (None, 4, 4, 1024)   0           ['conv4_block1_0_bn[0][0]',      \n",
            "                                                                  'conv4_block1_3_bn[0][0]']      \n",
            "                                                                                                  \n",
            " conv4_block1_out (Activation)  (None, 4, 4, 1024)   0           ['conv4_block1_add[0][0]']       \n",
            "                                                                                                  \n",
            " conv4_block2_1_conv (Conv2D)   (None, 4, 4, 256)    262400      ['conv4_block1_out[0][0]']       \n",
            "                                                                                                  \n",
            " conv4_block2_1_bn (BatchNormal  (None, 4, 4, 256)   1024        ['conv4_block2_1_conv[0][0]']    \n",
            " ization)                                                                                         \n",
            "                                                                                                  \n",
            " conv4_block2_1_relu (Activatio  (None, 4, 4, 256)   0           ['conv4_block2_1_bn[0][0]']      \n",
            " n)                                                                                               \n",
            "                                                                                                  \n",
            " conv4_block2_2_conv (Conv2D)   (None, 4, 4, 256)    590080      ['conv4_block2_1_relu[0][0]']    \n",
            "                                                                                                  \n",
            " conv4_block2_2_bn (BatchNormal  (None, 4, 4, 256)   1024        ['conv4_block2_2_conv[0][0]']    \n",
            " ization)                                                                                         \n",
            "                                                                                                  \n",
            " conv4_block2_2_relu (Activatio  (None, 4, 4, 256)   0           ['conv4_block2_2_bn[0][0]']      \n",
            " n)                                                                                               \n",
            "                                                                                                  \n",
            " conv4_block2_3_conv (Conv2D)   (None, 4, 4, 1024)   263168      ['conv4_block2_2_relu[0][0]']    \n",
            "                                                                                                  \n",
            " conv4_block2_3_bn (BatchNormal  (None, 4, 4, 1024)  4096        ['conv4_block2_3_conv[0][0]']    \n",
            " ization)                                                                                         \n",
            "                                                                                                  \n",
            " conv4_block2_add (Add)         (None, 4, 4, 1024)   0           ['conv4_block1_out[0][0]',       \n",
            "                                                                  'conv4_block2_3_bn[0][0]']      \n",
            "                                                                                                  \n",
            " conv4_block2_out (Activation)  (None, 4, 4, 1024)   0           ['conv4_block2_add[0][0]']       \n",
            "                                                                                                  \n",
            " conv4_block3_1_conv (Conv2D)   (None, 4, 4, 256)    262400      ['conv4_block2_out[0][0]']       \n",
            "                                                                                                  \n",
            " conv4_block3_1_bn (BatchNormal  (None, 4, 4, 256)   1024        ['conv4_block3_1_conv[0][0]']    \n",
            " ization)                                                                                         \n",
            "                                                                                                  \n",
            " conv4_block3_1_relu (Activatio  (None, 4, 4, 256)   0           ['conv4_block3_1_bn[0][0]']      \n",
            " n)                                                                                               \n",
            "                                                                                                  \n",
            " conv4_block3_2_conv (Conv2D)   (None, 4, 4, 256)    590080      ['conv4_block3_1_relu[0][0]']    \n",
            "                                                                                                  \n",
            " conv4_block3_2_bn (BatchNormal  (None, 4, 4, 256)   1024        ['conv4_block3_2_conv[0][0]']    \n",
            " ization)                                                                                         \n",
            "                                                                                                  \n",
            " conv4_block3_2_relu (Activatio  (None, 4, 4, 256)   0           ['conv4_block3_2_bn[0][0]']      \n",
            " n)                                                                                               \n",
            "                                                                                                  \n",
            " conv4_block3_3_conv (Conv2D)   (None, 4, 4, 1024)   263168      ['conv4_block3_2_relu[0][0]']    \n",
            "                                                                                                  \n",
            " conv4_block3_3_bn (BatchNormal  (None, 4, 4, 1024)  4096        ['conv4_block3_3_conv[0][0]']    \n",
            " ization)                                                                                         \n",
            "                                                                                                  \n",
            " conv4_block3_add (Add)         (None, 4, 4, 1024)   0           ['conv4_block2_out[0][0]',       \n",
            "                                                                  'conv4_block3_3_bn[0][0]']      \n",
            "                                                                                                  \n",
            " conv4_block3_out (Activation)  (None, 4, 4, 1024)   0           ['conv4_block3_add[0][0]']       \n",
            "                                                                                                  \n",
            " conv4_block4_1_conv (Conv2D)   (None, 4, 4, 256)    262400      ['conv4_block3_out[0][0]']       \n",
            "                                                                                                  \n",
            " conv4_block4_1_bn (BatchNormal  (None, 4, 4, 256)   1024        ['conv4_block4_1_conv[0][0]']    \n",
            " ization)                                                                                         \n",
            "                                                                                                  \n",
            " conv4_block4_1_relu (Activatio  (None, 4, 4, 256)   0           ['conv4_block4_1_bn[0][0]']      \n",
            " n)                                                                                               \n",
            "                                                                                                  \n",
            " conv4_block4_2_conv (Conv2D)   (None, 4, 4, 256)    590080      ['conv4_block4_1_relu[0][0]']    \n",
            "                                                                                                  \n",
            " conv4_block4_2_bn (BatchNormal  (None, 4, 4, 256)   1024        ['conv4_block4_2_conv[0][0]']    \n",
            " ization)                                                                                         \n",
            "                                                                                                  \n",
            " conv4_block4_2_relu (Activatio  (None, 4, 4, 256)   0           ['conv4_block4_2_bn[0][0]']      \n",
            " n)                                                                                               \n",
            "                                                                                                  \n",
            " conv4_block4_3_conv (Conv2D)   (None, 4, 4, 1024)   263168      ['conv4_block4_2_relu[0][0]']    \n",
            "                                                                                                  \n",
            " conv4_block4_3_bn (BatchNormal  (None, 4, 4, 1024)  4096        ['conv4_block4_3_conv[0][0]']    \n",
            " ization)                                                                                         \n",
            "                                                                                                  \n",
            " conv4_block4_add (Add)         (None, 4, 4, 1024)   0           ['conv4_block3_out[0][0]',       \n",
            "                                                                  'conv4_block4_3_bn[0][0]']      \n",
            "                                                                                                  \n",
            " conv4_block4_out (Activation)  (None, 4, 4, 1024)   0           ['conv4_block4_add[0][0]']       \n",
            "                                                                                                  \n",
            " conv4_block5_1_conv (Conv2D)   (None, 4, 4, 256)    262400      ['conv4_block4_out[0][0]']       \n",
            "                                                                                                  \n",
            " conv4_block5_1_bn (BatchNormal  (None, 4, 4, 256)   1024        ['conv4_block5_1_conv[0][0]']    \n",
            " ization)                                                                                         \n",
            "                                                                                                  \n",
            " conv4_block5_1_relu (Activatio  (None, 4, 4, 256)   0           ['conv4_block5_1_bn[0][0]']      \n",
            " n)                                                                                               \n",
            "                                                                                                  \n",
            " conv4_block5_2_conv (Conv2D)   (None, 4, 4, 256)    590080      ['conv4_block5_1_relu[0][0]']    \n",
            "                                                                                                  \n",
            " conv4_block5_2_bn (BatchNormal  (None, 4, 4, 256)   1024        ['conv4_block5_2_conv[0][0]']    \n",
            " ization)                                                                                         \n",
            "                                                                                                  \n",
            " conv4_block5_2_relu (Activatio  (None, 4, 4, 256)   0           ['conv4_block5_2_bn[0][0]']      \n",
            " n)                                                                                               \n",
            "                                                                                                  \n",
            " conv4_block5_3_conv (Conv2D)   (None, 4, 4, 1024)   263168      ['conv4_block5_2_relu[0][0]']    \n",
            "                                                                                                  \n",
            " conv4_block5_3_bn (BatchNormal  (None, 4, 4, 1024)  4096        ['conv4_block5_3_conv[0][0]']    \n",
            " ization)                                                                                         \n",
            "                                                                                                  \n",
            " conv4_block5_add (Add)         (None, 4, 4, 1024)   0           ['conv4_block4_out[0][0]',       \n",
            "                                                                  'conv4_block5_3_bn[0][0]']      \n",
            "                                                                                                  \n",
            " conv4_block5_out (Activation)  (None, 4, 4, 1024)   0           ['conv4_block5_add[0][0]']       \n",
            "                                                                                                  \n",
            " conv4_block6_1_conv (Conv2D)   (None, 4, 4, 256)    262400      ['conv4_block5_out[0][0]']       \n",
            "                                                                                                  \n",
            " conv4_block6_1_bn (BatchNormal  (None, 4, 4, 256)   1024        ['conv4_block6_1_conv[0][0]']    \n",
            " ization)                                                                                         \n",
            "                                                                                                  \n",
            " conv4_block6_1_relu (Activatio  (None, 4, 4, 256)   0           ['conv4_block6_1_bn[0][0]']      \n",
            " n)                                                                                               \n",
            "                                                                                                  \n",
            " conv4_block6_2_conv (Conv2D)   (None, 4, 4, 256)    590080      ['conv4_block6_1_relu[0][0]']    \n",
            "                                                                                                  \n",
            " conv4_block6_2_bn (BatchNormal  (None, 4, 4, 256)   1024        ['conv4_block6_2_conv[0][0]']    \n",
            " ization)                                                                                         \n",
            "                                                                                                  \n",
            " conv4_block6_2_relu (Activatio  (None, 4, 4, 256)   0           ['conv4_block6_2_bn[0][0]']      \n",
            " n)                                                                                               \n",
            "                                                                                                  \n",
            " conv4_block6_3_conv (Conv2D)   (None, 4, 4, 1024)   263168      ['conv4_block6_2_relu[0][0]']    \n",
            "                                                                                                  \n",
            " conv4_block6_3_bn (BatchNormal  (None, 4, 4, 1024)  4096        ['conv4_block6_3_conv[0][0]']    \n",
            " ization)                                                                                         \n",
            "                                                                                                  \n",
            " conv4_block6_add (Add)         (None, 4, 4, 1024)   0           ['conv4_block5_out[0][0]',       \n",
            "                                                                  'conv4_block6_3_bn[0][0]']      \n",
            "                                                                                                  \n",
            " conv4_block6_out (Activation)  (None, 4, 4, 1024)   0           ['conv4_block6_add[0][0]']       \n",
            "                                                                                                  \n",
            " conv5_block1_1_conv (Conv2D)   (None, 2, 2, 512)    524800      ['conv4_block6_out[0][0]']       \n",
            "                                                                                                  \n",
            " conv5_block1_1_bn (BatchNormal  (None, 2, 2, 512)   2048        ['conv5_block1_1_conv[0][0]']    \n",
            " ization)                                                                                         \n",
            "                                                                                                  \n",
            " conv5_block1_1_relu (Activatio  (None, 2, 2, 512)   0           ['conv5_block1_1_bn[0][0]']      \n",
            " n)                                                                                               \n",
            "                                                                                                  \n",
            " conv5_block1_2_conv (Conv2D)   (None, 2, 2, 512)    2359808     ['conv5_block1_1_relu[0][0]']    \n",
            "                                                                                                  \n",
            " conv5_block1_2_bn (BatchNormal  (None, 2, 2, 512)   2048        ['conv5_block1_2_conv[0][0]']    \n",
            " ization)                                                                                         \n",
            "                                                                                                  \n",
            " conv5_block1_2_relu (Activatio  (None, 2, 2, 512)   0           ['conv5_block1_2_bn[0][0]']      \n",
            " n)                                                                                               \n",
            "                                                                                                  \n",
            " conv5_block1_0_conv (Conv2D)   (None, 2, 2, 2048)   2099200     ['conv4_block6_out[0][0]']       \n",
            "                                                                                                  \n",
            " conv5_block1_3_conv (Conv2D)   (None, 2, 2, 2048)   1050624     ['conv5_block1_2_relu[0][0]']    \n",
            "                                                                                                  \n",
            " conv5_block1_0_bn (BatchNormal  (None, 2, 2, 2048)  8192        ['conv5_block1_0_conv[0][0]']    \n",
            " ization)                                                                                         \n",
            "                                                                                                  \n",
            " conv5_block1_3_bn (BatchNormal  (None, 2, 2, 2048)  8192        ['conv5_block1_3_conv[0][0]']    \n",
            " ization)                                                                                         \n",
            "                                                                                                  \n",
            " conv5_block1_add (Add)         (None, 2, 2, 2048)   0           ['conv5_block1_0_bn[0][0]',      \n",
            "                                                                  'conv5_block1_3_bn[0][0]']      \n",
            "                                                                                                  \n",
            " conv5_block1_out (Activation)  (None, 2, 2, 2048)   0           ['conv5_block1_add[0][0]']       \n",
            "                                                                                                  \n",
            " conv5_block2_1_conv (Conv2D)   (None, 2, 2, 512)    1049088     ['conv5_block1_out[0][0]']       \n",
            "                                                                                                  \n",
            " conv5_block2_1_bn (BatchNormal  (None, 2, 2, 512)   2048        ['conv5_block2_1_conv[0][0]']    \n",
            " ization)                                                                                         \n",
            "                                                                                                  \n",
            " conv5_block2_1_relu (Activatio  (None, 2, 2, 512)   0           ['conv5_block2_1_bn[0][0]']      \n",
            " n)                                                                                               \n",
            "                                                                                                  \n",
            " conv5_block2_2_conv (Conv2D)   (None, 2, 2, 512)    2359808     ['conv5_block2_1_relu[0][0]']    \n",
            "                                                                                                  \n",
            " conv5_block2_2_bn (BatchNormal  (None, 2, 2, 512)   2048        ['conv5_block2_2_conv[0][0]']    \n",
            " ization)                                                                                         \n",
            "                                                                                                  \n",
            " conv5_block2_2_relu (Activatio  (None, 2, 2, 512)   0           ['conv5_block2_2_bn[0][0]']      \n",
            " n)                                                                                               \n",
            "                                                                                                  \n",
            " conv5_block2_3_conv (Conv2D)   (None, 2, 2, 2048)   1050624     ['conv5_block2_2_relu[0][0]']    \n",
            "                                                                                                  \n",
            " conv5_block2_3_bn (BatchNormal  (None, 2, 2, 2048)  8192        ['conv5_block2_3_conv[0][0]']    \n",
            " ization)                                                                                         \n",
            "                                                                                                  \n",
            " conv5_block2_add (Add)         (None, 2, 2, 2048)   0           ['conv5_block1_out[0][0]',       \n",
            "                                                                  'conv5_block2_3_bn[0][0]']      \n",
            "                                                                                                  \n",
            " conv5_block2_out (Activation)  (None, 2, 2, 2048)   0           ['conv5_block2_add[0][0]']       \n",
            "                                                                                                  \n",
            " conv5_block3_1_conv (Conv2D)   (None, 2, 2, 512)    1049088     ['conv5_block2_out[0][0]']       \n",
            "                                                                                                  \n",
            " conv5_block3_1_bn (BatchNormal  (None, 2, 2, 512)   2048        ['conv5_block3_1_conv[0][0]']    \n",
            " ization)                                                                                         \n",
            "                                                                                                  \n",
            " conv5_block3_1_relu (Activatio  (None, 2, 2, 512)   0           ['conv5_block3_1_bn[0][0]']      \n",
            " n)                                                                                               \n",
            "                                                                                                  \n",
            " conv5_block3_2_conv (Conv2D)   (None, 2, 2, 512)    2359808     ['conv5_block3_1_relu[0][0]']    \n",
            "                                                                                                  \n",
            " conv5_block3_2_bn (BatchNormal  (None, 2, 2, 512)   2048        ['conv5_block3_2_conv[0][0]']    \n",
            " ization)                                                                                         \n",
            "                                                                                                  \n",
            " conv5_block3_2_relu (Activatio  (None, 2, 2, 512)   0           ['conv5_block3_2_bn[0][0]']      \n",
            " n)                                                                                               \n",
            "                                                                                                  \n",
            " conv5_block3_3_conv (Conv2D)   (None, 2, 2, 2048)   1050624     ['conv5_block3_2_relu[0][0]']    \n",
            "                                                                                                  \n",
            " conv5_block3_3_bn (BatchNormal  (None, 2, 2, 2048)  8192        ['conv5_block3_3_conv[0][0]']    \n",
            " ization)                                                                                         \n",
            "                                                                                                  \n",
            " conv5_block3_add (Add)         (None, 2, 2, 2048)   0           ['conv5_block2_out[0][0]',       \n",
            "                                                                  'conv5_block3_3_bn[0][0]']      \n",
            "                                                                                                  \n",
            " conv5_block3_out (Activation)  (None, 2, 2, 2048)   0           ['conv5_block3_add[0][0]']       \n",
            "                                                                                                  \n",
            " flatten (Flatten)              (None, 8192)         0           ['conv5_block3_out[0][0]']       \n",
            "                                                                                                  \n",
            " dense (Dense)                  (None, 1)            8193        ['flatten[0][0]']                \n",
            "                                                                                                  \n",
            "==================================================================================================\n",
            "Total params: 23,595,905\n",
            "Trainable params: 23,542,785\n",
            "Non-trainable params: 53,120\n",
            "__________________________________________________________________________________________________\n"
          ]
        }
      ]
    },
    {
      "cell_type": "code",
      "source": [
        "pred = new_model.evaluate(x_test, y_test)"
      ],
      "metadata": {
        "colab": {
          "base_uri": "https://localhost:8080/"
        },
        "id": "JtVpbIO-V2da",
        "outputId": "9411755a-f1e2-4695-dd6d-ec550c3a4607"
      },
      "execution_count": 26,
      "outputs": [
        {
          "output_type": "stream",
          "name": "stdout",
          "text": [
            "5/5 [==============================] - 0s 23ms/step - loss: 0.8627 - accuracy: 0.4504\n"
          ]
        }
      ]
    },
    {
      "cell_type": "code",
      "source": [
        "!tensorboard dev upload --logdir logs "
      ],
      "metadata": {
        "colab": {
          "base_uri": "https://localhost:8080/"
        },
        "id": "deyT4ayMd2fz",
        "outputId": "1ba5aca0-e7a4-4d9e-eae5-2b88e46fc22f"
      },
      "execution_count": 22,
      "outputs": [
        {
          "output_type": "stream",
          "name": "stdout",
          "text": [
            "2023-05-24 16:39:05.859158: W tensorflow/compiler/tf2tensorrt/utils/py_utils.cc:38] TF-TRT Warning: Could not find TensorRT\n",
            "\n",
            "***** TensorBoard Uploader *****\n",
            "\n",
            "This will upload your TensorBoard logs to https://tensorboard.dev/ from\n",
            "the following directory:\n",
            "\n",
            "logs\n",
            "\n",
            "This TensorBoard will be visible to everyone. Do not upload sensitive\n",
            "data.\n",
            "\n",
            "Your use of this service is subject to Google's Terms of Service\n",
            "<https://policies.google.com/terms> and Privacy Policy\n",
            "<https://policies.google.com/privacy>, and TensorBoard.dev's Terms of Service\n",
            "<https://tensorboard.dev/policy/terms/>.\n",
            "\n",
            "This notice will not be shown again while you are logged into the uploader.\n",
            "To log out, run `tensorboard dev auth revoke`.\n",
            "\n",
            "Continue? (yes/NO) yes\n",
            "\n",
            "To sign in with the TensorBoard uploader:\n",
            "\n",
            "1. On your computer or phone, visit:\n",
            "\n",
            "   https://www.google.com/device\n",
            "\n",
            "2. Sign in with your Google account, then enter:\n",
            "\n",
            "   ZBM-YBV-JNB\n",
            "\n",
            "\n",
            "Upload started and will continue reading any new data as it's added to the logdir.\n",
            "\n",
            "To stop uploading, press Ctrl-C.\n",
            "\n",
            "New experiment created. View your TensorBoard at: https://tensorboard.dev/experiment/rim5jC5xTVKqiAsnQZixug/\n",
            "\n",
            "\u001b[1m[2023-05-24T16:39:42]\u001b[0m Started scanning logdir.\n",
            "\u001b[1m[2023-05-24T16:40:31]\u001b[0m Total uploaded: 600 scalars, 32000 tensors (22.5 MB), 1 binary objects (695.3 kB)\n",
            "\n",
            "\n",
            "Interrupted. View your TensorBoard at https://tensorboard.dev/experiment/rim5jC5xTVKqiAsnQZixug/\n",
            "Traceback (most recent call last):\n",
            "  File \"/usr/local/bin/tensorboard\", line 8, in <module>\n",
            "    sys.exit(run_main())\n",
            "  File \"/usr/local/lib/python3.10/dist-packages/tensorboard/main.py\", line 46, in run_main\n",
            "    app.run(tensorboard.main, flags_parser=tensorboard.configure)\n",
            "  File \"/usr/local/lib/python3.10/dist-packages/absl/app.py\", line 308, in run\n",
            "    _run_main(main, args)\n",
            "  File \"/usr/local/lib/python3.10/dist-packages/absl/app.py\", line 254, in _run_main\n",
            "    sys.exit(main(argv))\n",
            "  File \"/usr/local/lib/python3.10/dist-packages/tensorboard/program.py\", line 276, in main\n",
            "    return runner(self.flags) or 0\n",
            "  File \"/usr/local/lib/python3.10/dist-packages/tensorboard/uploader/uploader_subcommand.py\", line 691, in run\n",
            "    return _run(flags, self._experiment_url_callback)\n",
            "  File \"/usr/local/lib/python3.10/dist-packages/tensorboard/uploader/uploader_subcommand.py\", line 123, in _run\n",
            "    with channel:\n",
            "  File \"/usr/local/lib/python3.10/dist-packages/grpc/_channel.py\", line 1746, in __exit__\n",
            "    self._close()\n",
            "  File \"/usr/local/lib/python3.10/dist-packages/grpc/_channel.py\", line 1732, in _close\n",
            "    self._channel.close(cygrpc.StatusCode.cancelled, 'Channel closed!')\n",
            "  File \"src/python/grpcio/grpc/_cython/_cygrpc/channel.pyx.pxi\", line 513, in grpc._cython.cygrpc.Channel.close\n",
            "  File \"src/python/grpcio/grpc/_cython/_cygrpc/channel.pyx.pxi\", line 399, in grpc._cython.cygrpc._close\n",
            "  File \"src/python/grpcio/grpc/_cython/_cygrpc/channel.pyx.pxi\", line 429, in grpc._cython.cygrpc._close\n",
            "  File \"/usr/lib/python3.10/threading.py\", line 389, in notify_all\n",
            "    def notify_all(self):\n",
            "KeyboardInterrupt\n",
            "^C\n"
          ]
        }
      ]
    },
    {
      "cell_type": "code",
      "source": [
        "y_test_predicted=[]\n",
        "for i in range(len(x_test)):\n",
        "  res_test_imag = image.img_to_array(x_test[i])\n",
        "  res_test_imag = np.expand_dims(res_test_imag, axis = 0)\n",
        "  y_test_predicted.append(new_model.predict(res_test_imag,verbose=None))\n",
        "y_test_predicted=np.array(y_test_predicted)\n",
        "     \n",
        "\n",
        "%matplotlib inline\n",
        "import matplotlib.pyplot as plt\n",
        "fig = plt.figure(figsize=(20.0,10.0))\n",
        "x_axis = len(x_test)\n",
        "y_test_predicted_flattened=y_test_predicted.ravel()\n",
        "y_test_flattened=y_test.ravel()\n",
        "plt.plot(y_test_predicted_flattened,marker='o',color='red')\n",
        "plt.plot(y_test_flattened,marker='o',color='green');\n",
        "plt.xlabel('number of images from test dataset')\n",
        "plt.ylabel(\"value indicating true or false(green->actual value, red->predicted value by model)\")\n",
        "#green->actual value\n",
        "#red->predicted value by model"
      ],
      "metadata": {
        "id": "h8b-oPrTotKQ",
        "outputId": "840083b0-cdcb-46cd-9efc-e331307ee885",
        "colab": {
          "base_uri": "https://localhost:8080/",
          "height": 434
        }
      },
      "execution_count": 27,
      "outputs": [
        {
          "output_type": "execute_result",
          "data": {
            "text/plain": [
              "Text(0, 0.5, 'value indicating true or false(green->actual value, red->predicted value by model)')"
            ]
          },
          "metadata": {},
          "execution_count": 27
        },
        {
          "output_type": "display_data",
          "data": {
            "text/plain": [
              "<Figure size 2000x1000 with 1 Axes>"
            ],
            "image/png": "[encoded data removed]"
          },
          "metadata": {}
        }
      ]
    }
  ],
  "metadata": {
    "colab": {
      "provenance": [],
      "include_colab_link": true
    },
    "kernelspec": {
      "display_name": "Python 3",
      "name": "python3"
    },
    "accelerator": "GPU",
    "gpuClass": "standard"
  },
  "nbformat": 4,
  "nbformat_minor": 0
}