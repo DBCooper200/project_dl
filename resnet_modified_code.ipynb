{
  "cells": [
    {
      "cell_type": "markdown",
      "metadata": {
        "id": "view-in-github",
        "colab_type": "text"
      },
      "source": [
        "<a href=\"https://colab.research.google.com/github/DBCooper200/project_dl/blob/main/resnet_modified_code.ipynb\" target=\"_parent\"><img src=\"https://colab.research.google.com/assets/colab-badge.svg\" alt=\"Open In Colab\"/></a>"
      ]
    },
    {
      "cell_type": "code",
      "execution_count": 2,
      "metadata": {
        "colab": {
          "base_uri": "https://localhost:8080/"
        },
        "id": "n5Fy2zx9Cadm",
        "outputId": "fdb9e6ae-3ab7-4663-e09a-36f80db941e6"
      },
      "outputs": [
        {
          "output_type": "stream",
          "name": "stdout",
          "text": [
            "-rw-r--r-- 1 root root 67 May 23 17:30 kaggle.json\n"
          ]
        }
      ],
      "source": [
        "# Let's make sure the kaggle.json file is present.\n",
        "!ls -lha kaggle.json"
      ]
    },
    {
      "cell_type": "code",
      "source": [
        "\n",
        "from google.colab import drive\n",
        "drive.mount('/content/drive')"
      ],
      "metadata": {
        "colab": {
          "base_uri": "https://localhost:8080/"
        },
        "id": "qLtR-mfenxR4",
        "outputId": "4ca9d0a1-9210-4c0e-bc13-a5710ff4388f"
      },
      "execution_count": 3,
      "outputs": [
        {
          "output_type": "stream",
          "name": "stdout",
          "text": [
            "Mounted at /content/drive\n"
          ]
        }
      ]
    },
    {
      "cell_type": "code",
      "execution_count": 4,
      "metadata": {
        "id": "fq-NW9y-Cumx"
      },
      "outputs": [],
      "source": [
        "# Next, install the Kaggle API client.\n",
        "!pip install -q kaggle"
      ]
    },
    {
      "cell_type": "code",
      "execution_count": 5,
      "metadata": {
        "id": "IfmTvpajCusO"
      },
      "outputs": [],
      "source": [
        "# The Kaggle API client expects this file to be in ~/.kaggle,\n",
        "# so move it there.\n",
        "!mkdir -p ~/.kaggle\n",
        "!cp kaggle.json ~/.kaggle/\n",
        "\n",
        "# This permissions change avoids a warning on Kaggle tool startup.\n",
        "!chmod 600 ~/.kaggle/kaggle.json"
      ]
    },
    {
      "cell_type": "code",
      "execution_count": 6,
      "metadata": {
        "colab": {
          "base_uri": "https://localhost:8080/"
        },
        "id": "O6ddBcGoCu5r",
        "outputId": "0ca7ef78-a829-4c9f-d468-563f1f09fe63"
      },
      "outputs": [
        {
          "output_type": "stream",
          "name": "stdout",
          "text": [
            "Downloading glaucomadataset.zip to /content\n",
            "100% 2.53G/2.54G [00:26<00:00, 196MB/s]\n",
            "100% 2.54G/2.54G [00:26<00:00, 103MB/s]\n"
          ]
        }
      ],
      "source": [
        "!kaggle datasets download -d himanshuagarwal1998/glaucomadataset"
      ]
    },
    {
      "cell_type": "code",
      "execution_count": 7,
      "metadata": {
        "id": "PL6UuhLRIqAT"
      },
      "outputs": [],
      "source": [
        "!unzip -q /content/glaucomadataset.zip"
      ]
    },
    {
      "cell_type": "code",
      "execution_count": 8,
      "metadata": {
        "id": "SFPNY8oo9tre"
      },
      "outputs": [],
      "source": [
        "!mkdir 'Data_set'"
      ]
    },
    {
      "cell_type": "code",
      "execution_count": 9,
      "metadata": {
        "colab": {
          "base_uri": "https://localhost:8080/",
          "height": 36
        },
        "id": "fIqPFpSja2Oe",
        "outputId": "e5dccad3-0564-4854-ed0c-0009d0ae22c5"
      },
      "outputs": [
        {
          "output_type": "execute_result",
          "data": {
            "text/plain": [
              "'/content/Data_set/Non Glaucoma'"
            ],
            "application/vnd.google.colaboratory.intrinsic+json": {
              "type": "string"
            }
          },
          "metadata": {},
          "execution_count": 9
        }
      ],
      "source": [
        "import shutil, sys\n",
        "shutil.move(\"/content/Non Glaucoma\", \"/content/Data_set\")"
      ]
    },
    {
      "cell_type": "code",
      "execution_count": 10,
      "metadata": {
        "colab": {
          "base_uri": "https://localhost:8080/",
          "height": 36
        },
        "id": "h4rcWqciAGey",
        "outputId": "06603cd9-fb62-48b2-faa4-2c1c00fcbbed"
      },
      "outputs": [
        {
          "output_type": "execute_result",
          "data": {
            "text/plain": [
              "'/content/Data_set/Glaucoma'"
            ],
            "application/vnd.google.colaboratory.intrinsic+json": {
              "type": "string"
            }
          },
          "metadata": {},
          "execution_count": 10
        }
      ],
      "source": [
        "shutil.move(\"/content/Glaucoma\", \"/content/Data_set\")"
      ]
    },
    {
      "cell_type": "code",
      "execution_count": 11,
      "metadata": {
        "id": "6uInZfkzm7f6",
        "colab": {
          "base_uri": "https://localhost:8080/",
          "height": 54
        },
        "outputId": "381d1e45-b424-497d-beb2-daeee4158689"
      },
      "outputs": [
        {
          "output_type": "execute_result",
          "data": {
            "text/plain": [
              "'FAST_RUN = False\\nIMAGE_WIDTH=128\\nIMAGE_HEIGHT=128\\nIMAGE_SIZE=(IMAGE_WIDTH, IMAGE_HEIGHT)\\nIMAGE_CHANNELS=3\\n'"
            ],
            "application/vnd.google.colaboratory.intrinsic+json": {
              "type": "string"
            }
          },
          "metadata": {},
          "execution_count": 11
        }
      ],
      "source": [
        "'''FAST_RUN = False\n",
        "IMAGE_WIDTH=128\n",
        "IMAGE_HEIGHT=128\n",
        "IMAGE_SIZE=(IMAGE_WIDTH, IMAGE_HEIGHT)\n",
        "IMAGE_CHANNELS=3\n",
        "'''"
      ]
    },
    {
      "cell_type": "code",
      "execution_count": 12,
      "metadata": {
        "id": "HsSydybym7lS"
      },
      "outputs": [],
      "source": [
        "import tensorflow\n",
        "import keras\n",
        "from keras.models import Sequential\n",
        "from keras.layers import Conv2D\n",
        "from keras.layers import MaxPooling2D\n",
        "from keras.layers import Flatten\n",
        "from keras.layers import Dense\n",
        "from tensorflow.keras.preprocessing import image\n",
        "import os\n",
        "import cv2\n",
        "import numpy as np\n",
        "from tqdm import tqdm\n",
        "import warnings\n",
        "warnings.filterwarnings('ignore')\n",
        "import warnings\n",
        "warnings.filterwarnings('ignore')"
      ]
    },
    {
      "cell_type": "code",
      "source": [
        "path = ['/content/Data_set/Non Glaucoma', '/content/Data_set/Glaucoma']\n",
        "images = []\n",
        "labels = []\n",
        "for n,i in enumerate(path):\n",
        "    for j in tqdm(os.listdir(i)):\n",
        "        img_path = os.path.join(i,j)\n",
        "        img = cv2.imread(img_path)\n",
        "        img = cv2.resize(img, (64,64))\n",
        "        images.append(img)\n",
        "        labels.append(n)\n",
        "images = np.array(images)/255\n",
        "labels = np.array(labels)"
      ],
      "metadata": {
        "colab": {
          "base_uri": "https://localhost:8080/"
        },
        "id": "Yfl6PfG_KX59",
        "outputId": "8f8f53b7-ebc7-42c6-df20-279aa6ecef5e"
      },
      "execution_count": 13,
      "outputs": [
        {
          "output_type": "stream",
          "name": "stderr",
          "text": [
            "100%|██████████| 511/511 [00:48<00:00, 10.53it/s]\n",
            "100%|██████████| 511/511 [00:10<00:00, 47.53it/s]\n"
          ]
        }
      ]
    },
    {
      "cell_type": "code",
      "source": [
        "for n in enumerate(path):\n",
        "  print(n)\n",
        "\n",
        "#the labels assigned are \n",
        "# 0 for non glaucomic images\n",
        "# 1 for glaucomic images"
      ],
      "metadata": {
        "colab": {
          "base_uri": "https://localhost:8080/"
        },
        "id": "xtlP5DBELUiG",
        "outputId": "adaf0487-e3c2-4f48-f95d-2a39369cc4b0"
      },
      "execution_count": 14,
      "outputs": [
        {
          "output_type": "stream",
          "name": "stdout",
          "text": [
            "(0, '/content/Data_set/Non Glaucoma')\n",
            "(1, '/content/Data_set/Glaucoma')\n"
          ]
        }
      ]
    },
    {
      "cell_type": "code",
      "source": [
        "from sklearn.utils import shuffle\n",
        "from sklearn.model_selection import train_test_split\n",
        "\n",
        "images, labels = shuffle(images, labels, random_state=32)\n",
        "x_train, x_valid, y_train, y_valid = train_test_split(images, labels, test_size=0.15, random_state=44)\n",
        "x_train, x_test, y_train, y_test = train_test_split(x_train, y_train, test_size=0.15, random_state=40)"
      ],
      "metadata": {
        "id": "tKGiNtJwLYY3"
      },
      "execution_count": 15,
      "outputs": []
    },
    {
      "cell_type": "code",
      "source": [
        "\n",
        "from keras.preprocessing.image import ImageDataGenerator\n",
        "datagen = ImageDataGenerator(zoom_range=0.2, horizontal_flip=True, vertical_flip=True,\n",
        "                            fill_mode='constant', cval=0.)\n",
        "train_gen = datagen.flow(x_train, y_train, batch_size=32)\n",
        "#Using TensorFlow backend.\n",
        "\n",
        "#for test set\n",
        "test_gen = datagen.flow(x_test, y_test, batch_size = 32)"
      ],
      "metadata": {
        "id": "imMvY6vnM_v8"
      },
      "execution_count": 16,
      "outputs": []
    },
    {
      "cell_type": "code",
      "execution_count": 17,
      "metadata": {
        "id": "2KnmzOlmrPWb"
      },
      "outputs": [],
      "source": [
        "HEIGHT = 64\n",
        "WIDTH = 64\n",
        "BATCH_SIZE = 32"
      ]
    },
    {
      "cell_type": "code",
      "execution_count": 18,
      "metadata": {
        "id": "p04NnVR5rbGu"
      },
      "outputs": [],
      "source": [
        "import tensorflow as tf\n",
        "from tensorflow.keras import Sequential, layers, Model\n",
        "from tensorflow.keras.applications.resnet50 import ResNet50\n",
        "'''\n",
        "from tensorflow.keras.applications.vgg16 import VGG16\n",
        "from tensorflow.keras.applications.xception import Xception\n",
        "from tensorflow.keras.applications.resnet import ResNet101\n",
        "from tensorflow.keras.applications.inception_v3 import InceptionV3\n",
        "from tensorflow.keras.applications.mobilenet_v2 import MobileNetV2\n",
        "from tensorflow.keras.applications.efficientnet import EfficientNetB7\n",
        "'''\n",
        "from sklearn.metrics import classification_report\n",
        "import plotly.express as px\n",
        "import pandas as pd"
      ]
    },
    {
      "cell_type": "code",
      "execution_count": 19,
      "metadata": {
        "id": "_NEUyo-XOq_i"
      },
      "outputs": [],
      "source": [
        "IMAGE_SIZE = (64,64)"
      ]
    },
    {
      "cell_type": "code",
      "execution_count": 20,
      "metadata": {
        "id": "LtUwq5oyOKS-"
      },
      "outputs": [],
      "source": [
        "resnet =ResNet50(weights= None, include_top=False, input_shape= (HEIGHT,WIDTH,3))\n",
        "#vgg = VGG16(input_shape=IMAGE_SIZE+(3,), weights='imagenet', include_top=False)\n",
        "#xception = Xception(input_shape=IMAGE_SIZE+(3,), weights='imagenet', include_top=False)\n",
        "#resnet101 = ResNet101(input_shape=IMAGE_SIZE+(3,), weights='imagenet', include_top=False)\n",
        "#inception = InceptionV3(input_shape=IMAGE_SIZE+(3,), weights='imagenet', include_top=False)\n",
        "#mobilenet = MobileNetV2(input_shape=IMAGE_SIZE+(3,), weights='imagenet', include_top=False)\n",
        "#efficientnet = EfficientNetB7(input_shape=IMAGE_SIZE+(3,), weights='imagenet', include_top=False)"
      ]
    },
    {
      "cell_type": "code",
      "execution_count": 34,
      "metadata": {
        "id": "Viwn3iH5PdvC"
      },
      "outputs": [],
      "source": [
        "from keras.optimizers import SGD, Adam\n",
        "from keras.layers import Dropout,Dense, GlobalAveragePooling2D\n",
        "x = x = layers.Flatten()(resnet.output)\n",
        "predictions = Dense(1,activation= 'softmax')(x)\n",
        "model = Model(inputs = resnet.input, outputs = predictions)\n",
        "adam=keras.optimizers.Adam(\n",
        "   learning_rate = 0.0001\n",
        ")\n",
        "model.compile(optimizer= adam, loss='binary_crossentropy', metrics=['accuracy'])"
      ]
    },
    {
      "cell_type": "code",
      "source": [
        "tb_callback = tensorflow.keras.callbacks.TensorBoard(log_dir=\"logs/\", histogram_freq=1)\n",
        "model.fit_generator(train_gen, epochs=100, steps_per_epoch=1,verbose=1, validation_data=(x_valid,y_valid),callbacks=[tb_callback])"
      ],
      "metadata": {
        "id": "EkBMsAG8roWm",
        "outputId": "f67de52e-78d9-4498-bfea-1ad00d26c8a8",
        "colab": {
          "base_uri": "https://localhost:8080/"
        }
      },
      "execution_count": 35,
      "outputs": [
        {
          "output_type": "stream",
          "name": "stdout",
          "text": [
            "Epoch 1/100\n",
            "1/1 [==============================] - 14s 14s/step - loss: 1.6152 - accuracy: 0.4062 - val_loss: 2.0280 - val_accuracy: 0.5390\n",
            "Epoch 2/100\n",
            "1/1 [==============================] - 6s 6s/step - loss: 0.7517 - accuracy: 0.4375 - val_loss: 3.1303 - val_accuracy: 0.5390\n",
            "Epoch 3/100\n",
            "1/1 [==============================] - 6s 6s/step - loss: 0.5473 - accuracy: 0.4688 - val_loss: 3.6495 - val_accuracy: 0.5390\n",
            "Epoch 4/100\n",
            "1/1 [==============================] - 7s 7s/step - loss: 0.4948 - accuracy: 0.6250 - val_loss: 3.2342 - val_accuracy: 0.5390\n",
            "Epoch 5/100\n",
            "1/1 [==============================] - 7s 7s/step - loss: 0.5036 - accuracy: 0.6875 - val_loss: 2.7868 - val_accuracy: 0.5390\n",
            "Epoch 6/100\n",
            "1/1 [==============================] - 6s 6s/step - loss: 0.3369 - accuracy: 0.4375 - val_loss: 2.5816 - val_accuracy: 0.5390\n",
            "Epoch 7/100\n",
            "1/1 [==============================] - 7s 7s/step - loss: 0.3671 - accuracy: 0.3750 - val_loss: 2.5946 - val_accuracy: 0.5390\n",
            "Epoch 8/100\n",
            "1/1 [==============================] - 7s 7s/step - loss: 0.2986 - accuracy: 0.4062 - val_loss: 2.6016 - val_accuracy: 0.5390\n",
            "Epoch 9/100\n",
            "1/1 [==============================] - 7s 7s/step - loss: 0.3009 - accuracy: 0.5000 - val_loss: 2.5626 - val_accuracy: 0.5390\n",
            "Epoch 10/100\n",
            "1/1 [==============================] - 7s 7s/step - loss: 0.3203 - accuracy: 0.4062 - val_loss: 2.5378 - val_accuracy: 0.5390\n",
            "Epoch 11/100\n",
            "1/1 [==============================] - 7s 7s/step - loss: 0.4352 - accuracy: 0.5000 - val_loss: 2.5686 - val_accuracy: 0.5390\n",
            "Epoch 12/100\n",
            "1/1 [==============================] - 6s 6s/step - loss: 0.4307 - accuracy: 0.5938 - val_loss: 2.6209 - val_accuracy: 0.5390\n",
            "Epoch 13/100\n",
            "1/1 [==============================] - 6s 6s/step - loss: 0.2898 - accuracy: 0.5312 - val_loss: 2.5892 - val_accuracy: 0.5390\n",
            "Epoch 14/100\n",
            "1/1 [==============================] - 6s 6s/step - loss: 0.2429 - accuracy: 0.6875 - val_loss: 2.6401 - val_accuracy: 0.5390\n",
            "Epoch 15/100\n",
            "1/1 [==============================] - 7s 7s/step - loss: 0.3538 - accuracy: 0.5000 - val_loss: 2.6826 - val_accuracy: 0.5390\n",
            "Epoch 16/100\n",
            "1/1 [==============================] - 6s 6s/step - loss: 0.0902 - accuracy: 0.4688 - val_loss: 2.6438 - val_accuracy: 0.5390\n",
            "Epoch 17/100\n",
            "1/1 [==============================] - 8s 8s/step - loss: 0.1417 - accuracy: 0.6250 - val_loss: 2.6689 - val_accuracy: 0.5390\n",
            "Epoch 18/100\n",
            "1/1 [==============================] - 6s 6s/step - loss: 0.2397 - accuracy: 0.5625 - val_loss: 2.6739 - val_accuracy: 0.5390\n",
            "Epoch 19/100\n",
            "1/1 [==============================] - 8s 8s/step - loss: 0.5021 - accuracy: 0.3125 - val_loss: 2.6238 - val_accuracy: 0.5390\n",
            "Epoch 20/100\n",
            "1/1 [==============================] - 6s 6s/step - loss: 4.1185 - accuracy: 0.5312 - val_loss: 2.5720 - val_accuracy: 0.5390\n",
            "Epoch 21/100\n",
            "1/1 [==============================] - 7s 7s/step - loss: 3.0141 - accuracy: 0.7188 - val_loss: 2.6478 - val_accuracy: 0.5390\n",
            "Epoch 22/100\n",
            "1/1 [==============================] - 6s 6s/step - loss: 0.2821 - accuracy: 0.4062 - val_loss: 2.6557 - val_accuracy: 0.5390\n",
            "Epoch 23/100\n",
            "1/1 [==============================] - 7s 7s/step - loss: 0.1559 - accuracy: 0.3750 - val_loss: 2.6601 - val_accuracy: 0.5390\n",
            "Epoch 24/100\n",
            "1/1 [==============================] - 7s 7s/step - loss: 0.1391 - accuracy: 0.5312 - val_loss: 2.6732 - val_accuracy: 0.5390\n",
            "Epoch 25/100\n",
            "1/1 [==============================] - 7s 7s/step - loss: 0.2356 - accuracy: 0.5312 - val_loss: 2.7081 - val_accuracy: 0.5390\n",
            "Epoch 26/100\n",
            "1/1 [==============================] - 7s 7s/step - loss: 0.2295 - accuracy: 0.4688 - val_loss: 2.6378 - val_accuracy: 0.5390\n",
            "Epoch 27/100\n",
            "1/1 [==============================] - 8s 8s/step - loss: 0.1074 - accuracy: 0.5938 - val_loss: 2.6117 - val_accuracy: 0.5390\n",
            "Epoch 28/100\n",
            "1/1 [==============================] - 6s 6s/step - loss: 0.2461 - accuracy: 0.3750 - val_loss: 2.5813 - val_accuracy: 0.5390\n",
            "Epoch 29/100\n",
            "1/1 [==============================] - 6s 6s/step - loss: 0.2809 - accuracy: 0.6250 - val_loss: 2.6493 - val_accuracy: 0.5390\n",
            "Epoch 30/100\n",
            "1/1 [==============================] - 7s 7s/step - loss: 1.6353e-04 - accuracy: 0.0000e+00 - val_loss: 2.7213 - val_accuracy: 0.5390\n",
            "Epoch 31/100\n",
            "1/1 [==============================] - 6s 6s/step - loss: 0.1758 - accuracy: 0.3750 - val_loss: 2.7553 - val_accuracy: 0.5390\n",
            "Epoch 32/100\n",
            "1/1 [==============================] - 6s 6s/step - loss: 4.5337 - accuracy: 1.0000 - val_loss: 2.7973 - val_accuracy: 0.5390\n",
            "Epoch 33/100\n",
            "1/1 [==============================] - 8s 8s/step - loss: 0.7352 - accuracy: 0.5938 - val_loss: 2.7432 - val_accuracy: 0.5390\n",
            "Epoch 34/100\n",
            "1/1 [==============================] - 6s 6s/step - loss: 0.8073 - accuracy: 0.3125 - val_loss: 2.6285 - val_accuracy: 0.5390\n",
            "Epoch 35/100\n",
            "1/1 [==============================] - 7s 7s/step - loss: 0.3305 - accuracy: 0.4688 - val_loss: 2.5457 - val_accuracy: 0.5390\n",
            "Epoch 36/100\n",
            "1/1 [==============================] - 7s 7s/step - loss: 0.1671 - accuracy: 0.5625 - val_loss: 2.4633 - val_accuracy: 0.5390\n",
            "Epoch 37/100\n",
            "1/1 [==============================] - 6s 6s/step - loss: 0.3055 - accuracy: 0.5625 - val_loss: 2.4148 - val_accuracy: 0.5390\n",
            "Epoch 38/100\n",
            "1/1 [==============================] - 6s 6s/step - loss: 0.5822 - accuracy: 0.3750 - val_loss: 2.3612 - val_accuracy: 0.5390\n",
            "Epoch 39/100\n",
            "1/1 [==============================] - 8s 8s/step - loss: 0.4545 - accuracy: 0.5000 - val_loss: 2.3451 - val_accuracy: 0.5390\n",
            "Epoch 40/100\n",
            "1/1 [==============================] - 7s 7s/step - loss: 0.2889 - accuracy: 0.5000 - val_loss: 2.3323 - val_accuracy: 0.5390\n",
            "Epoch 41/100\n",
            "1/1 [==============================] - 7s 7s/step - loss: 0.4728 - accuracy: 0.4375 - val_loss: 2.3205 - val_accuracy: 0.5390\n",
            "Epoch 42/100\n",
            "1/1 [==============================] - 7s 7s/step - loss: 0.3335 - accuracy: 0.4688 - val_loss: 2.3201 - val_accuracy: 0.5390\n",
            "Epoch 43/100\n",
            "1/1 [==============================] - 6s 6s/step - loss: 0.1894 - accuracy: 0.5625 - val_loss: 2.3361 - val_accuracy: 0.5390\n",
            "Epoch 44/100\n",
            "1/1 [==============================] - 7s 7s/step - loss: 0.2543 - accuracy: 0.5312 - val_loss: 2.3299 - val_accuracy: 0.5390\n",
            "Epoch 45/100\n",
            "1/1 [==============================] - 8s 8s/step - loss: 0.2455 - accuracy: 0.4688 - val_loss: 2.3331 - val_accuracy: 0.5390\n",
            "Epoch 46/100\n",
            "1/1 [==============================] - 6s 6s/step - loss: 0.1177 - accuracy: 0.4062 - val_loss: 2.3254 - val_accuracy: 0.5390\n",
            "Epoch 47/100\n",
            "1/1 [==============================] - 7s 7s/step - loss: 0.4314 - accuracy: 0.4062 - val_loss: 2.3213 - val_accuracy: 0.5390\n",
            "Epoch 48/100\n",
            "1/1 [==============================] - 6s 6s/step - loss: 0.2760 - accuracy: 0.4062 - val_loss: 2.3142 - val_accuracy: 0.5390\n",
            "Epoch 49/100\n",
            "1/1 [==============================] - 7s 7s/step - loss: 0.1548 - accuracy: 0.5000 - val_loss: 2.3162 - val_accuracy: 0.5390\n",
            "Epoch 50/100\n",
            "1/1 [==============================] - 7s 7s/step - loss: 0.2197 - accuracy: 0.5000 - val_loss: 2.3138 - val_accuracy: 0.5390\n",
            "Epoch 51/100\n",
            "1/1 [==============================] - 7s 7s/step - loss: 0.2149 - accuracy: 0.5625 - val_loss: 2.3156 - val_accuracy: 0.5390\n",
            "Epoch 52/100\n",
            "1/1 [==============================] - 7s 7s/step - loss: 0.2103 - accuracy: 0.5312 - val_loss: 2.3100 - val_accuracy: 0.5390\n",
            "Epoch 53/100\n",
            "1/1 [==============================] - 6s 6s/step - loss: 0.1808 - accuracy: 0.5312 - val_loss: 2.2988 - val_accuracy: 0.5390\n",
            "Epoch 54/100\n",
            "1/1 [==============================] - 7s 7s/step - loss: 0.1015 - accuracy: 0.5938 - val_loss: 2.2983 - val_accuracy: 0.5390\n",
            "Epoch 55/100\n",
            "1/1 [==============================] - 6s 6s/step - loss: 0.1945 - accuracy: 0.4062 - val_loss: 2.2875 - val_accuracy: 0.5390\n",
            "Epoch 56/100\n",
            "1/1 [==============================] - 7s 7s/step - loss: 0.1561 - accuracy: 0.5938 - val_loss: 2.2880 - val_accuracy: 0.5390\n",
            "Epoch 57/100\n",
            "1/1 [==============================] - 6s 6s/step - loss: 0.1836 - accuracy: 0.6562 - val_loss: 2.2769 - val_accuracy: 0.5390\n",
            "Epoch 58/100\n",
            "1/1 [==============================] - 6s 6s/step - loss: 0.2234 - accuracy: 0.3750 - val_loss: 2.2612 - val_accuracy: 0.5390\n",
            "Epoch 59/100\n",
            "1/1 [==============================] - 7s 7s/step - loss: 0.1882 - accuracy: 0.4688 - val_loss: 2.2613 - val_accuracy: 0.5390\n",
            "Epoch 60/100\n",
            "1/1 [==============================] - 6s 6s/step - loss: 0.2461 - accuracy: 0.5000 - val_loss: 2.2757 - val_accuracy: 0.5390\n",
            "Epoch 61/100\n",
            "1/1 [==============================] - 7s 7s/step - loss: 0.1136 - accuracy: 0.4062 - val_loss: 2.2898 - val_accuracy: 0.5390\n",
            "Epoch 62/100\n",
            "1/1 [==============================] - 7s 7s/step - loss: 0.2025 - accuracy: 0.4062 - val_loss: 2.3046 - val_accuracy: 0.5390\n",
            "Epoch 63/100\n",
            "1/1 [==============================] - 6s 6s/step - loss: 0.1879 - accuracy: 0.5938 - val_loss: 2.3134 - val_accuracy: 0.5390\n",
            "Epoch 64/100\n",
            "1/1 [==============================] - 7s 7s/step - loss: 0.2828 - accuracy: 0.6562 - val_loss: 2.3217 - val_accuracy: 0.5390\n",
            "Epoch 65/100\n",
            "1/1 [==============================] - 6s 6s/step - loss: 0.1259 - accuracy: 0.4688 - val_loss: 2.3269 - val_accuracy: 0.5390\n",
            "Epoch 66/100\n",
            "1/1 [==============================] - 6s 6s/step - loss: 0.1367 - accuracy: 0.5312 - val_loss: 2.3333 - val_accuracy: 0.5390\n",
            "Epoch 67/100\n",
            "1/1 [==============================] - 7s 7s/step - loss: 0.1136 - accuracy: 0.4375 - val_loss: 2.3333 - val_accuracy: 0.5390\n",
            "Epoch 68/100\n",
            "1/1 [==============================] - 6s 6s/step - loss: 0.3095 - accuracy: 0.4062 - val_loss: 2.3358 - val_accuracy: 0.5390\n",
            "Epoch 69/100\n",
            "1/1 [==============================] - 7s 7s/step - loss: 0.3216 - accuracy: 0.4375 - val_loss: 2.3381 - val_accuracy: 0.5390\n",
            "Epoch 70/100\n",
            "1/1 [==============================] - 9s 9s/step - loss: 0.0890 - accuracy: 0.4688 - val_loss: 2.3314 - val_accuracy: 0.5390\n",
            "Epoch 71/100\n",
            "1/1 [==============================] - 6s 6s/step - loss: 0.1000 - accuracy: 0.5625 - val_loss: 2.3298 - val_accuracy: 0.5390\n",
            "Epoch 72/100\n",
            "1/1 [==============================] - 6s 6s/step - loss: 0.1727 - accuracy: 0.4688 - val_loss: 2.3271 - val_accuracy: 0.5390\n",
            "Epoch 73/100\n",
            "1/1 [==============================] - 8s 8s/step - loss: 0.2314 - accuracy: 0.4062 - val_loss: 2.3271 - val_accuracy: 0.5390\n",
            "Epoch 74/100\n",
            "1/1 [==============================] - 7s 7s/step - loss: 0.0740 - accuracy: 0.4375 - val_loss: 2.3247 - val_accuracy: 0.5390\n",
            "Epoch 75/100\n",
            "1/1 [==============================] - 7s 7s/step - loss: 0.0973 - accuracy: 0.5000 - val_loss: 2.3265 - val_accuracy: 0.5390\n",
            "Epoch 76/100\n",
            "1/1 [==============================] - 6s 6s/step - loss: 1.3678 - accuracy: 0.5000 - val_loss: 2.3292 - val_accuracy: 0.5390\n",
            "Epoch 77/100\n",
            "1/1 [==============================] - 7s 7s/step - loss: 0.1001 - accuracy: 0.4688 - val_loss: 2.3229 - val_accuracy: 0.5390\n",
            "Epoch 78/100\n",
            "1/1 [==============================] - 7s 7s/step - loss: 0.2801 - accuracy: 0.5312 - val_loss: 2.3415 - val_accuracy: 0.5390\n",
            "Epoch 79/100\n",
            "1/1 [==============================] - 6s 6s/step - loss: 0.1057 - accuracy: 0.0000e+00 - val_loss: 2.3146 - val_accuracy: 0.5390\n",
            "Epoch 80/100\n",
            "1/1 [==============================] - 7s 7s/step - loss: 0.1900 - accuracy: 0.3750 - val_loss: 2.2758 - val_accuracy: 0.5390\n",
            "Epoch 81/100\n",
            "1/1 [==============================] - 7s 7s/step - loss: 0.2004 - accuracy: 0.5938 - val_loss: 2.2457 - val_accuracy: 0.5390\n",
            "Epoch 82/100\n",
            "1/1 [==============================] - 7s 7s/step - loss: 0.1103 - accuracy: 0.5312 - val_loss: 2.2128 - val_accuracy: 0.5390\n",
            "Epoch 83/100\n",
            "1/1 [==============================] - 7s 7s/step - loss: 0.0980 - accuracy: 0.3438 - val_loss: 2.1697 - val_accuracy: 0.5390\n",
            "Epoch 84/100\n",
            "1/1 [==============================] - 7s 7s/step - loss: 0.1057 - accuracy: 0.5625 - val_loss: 2.1338 - val_accuracy: 0.5390\n",
            "Epoch 85/100\n",
            "1/1 [==============================] - 7s 7s/step - loss: 0.1122 - accuracy: 0.4688 - val_loss: 2.0972 - val_accuracy: 0.5390\n",
            "Epoch 86/100\n",
            "1/1 [==============================] - 7s 7s/step - loss: 0.0401 - accuracy: 0.5000 - val_loss: 2.0670 - val_accuracy: 0.5390\n",
            "Epoch 87/100\n",
            "1/1 [==============================] - 8s 8s/step - loss: 0.1719 - accuracy: 0.5938 - val_loss: 1.9913 - val_accuracy: 0.5390\n",
            "Epoch 88/100\n",
            "1/1 [==============================] - 7s 7s/step - loss: 0.1333 - accuracy: 0.5000 - val_loss: 1.9217 - val_accuracy: 0.5390\n",
            "Epoch 89/100\n",
            "1/1 [==============================] - 8s 8s/step - loss: 0.1207 - accuracy: 0.4688 - val_loss: 1.8531 - val_accuracy: 0.5390\n",
            "Epoch 90/100\n",
            "1/1 [==============================] - 7s 7s/step - loss: 0.2361 - accuracy: 0.4688 - val_loss: 1.7943 - val_accuracy: 0.5390\n",
            "Epoch 91/100\n",
            "1/1 [==============================] - 8s 8s/step - loss: 12.1849 - accuracy: 0.0000e+00 - val_loss: 1.8656 - val_accuracy: 0.5390\n",
            "Epoch 92/100\n",
            "1/1 [==============================] - 8s 8s/step - loss: 0.3785 - accuracy: 0.5000 - val_loss: 1.8841 - val_accuracy: 0.5390\n",
            "Epoch 93/100\n",
            "1/1 [==============================] - 7s 7s/step - loss: 0.1019 - accuracy: 0.4688 - val_loss: 1.9114 - val_accuracy: 0.5390\n",
            "Epoch 94/100\n",
            "1/1 [==============================] - 8s 8s/step - loss: 0.1246 - accuracy: 0.4688 - val_loss: 1.9148 - val_accuracy: 0.5390\n",
            "Epoch 95/100\n",
            "1/1 [==============================] - 6s 6s/step - loss: 5.0606 - accuracy: 1.0000 - val_loss: 1.9585 - val_accuracy: 0.5390\n",
            "Epoch 96/100\n",
            "1/1 [==============================] - 8s 8s/step - loss: 0.4849 - accuracy: 0.5312 - val_loss: 1.7988 - val_accuracy: 0.5390\n",
            "Epoch 97/100\n",
            "1/1 [==============================] - 7s 7s/step - loss: 0.2391 - accuracy: 0.4375 - val_loss: 1.6728 - val_accuracy: 0.5390\n",
            "Epoch 98/100\n",
            "1/1 [==============================] - 7s 7s/step - loss: 0.1233 - accuracy: 0.4062 - val_loss: 1.5712 - val_accuracy: 0.5390\n",
            "Epoch 99/100\n",
            "1/1 [==============================] - 7s 7s/step - loss: 0.2438 - accuracy: 0.5625 - val_loss: 1.4883 - val_accuracy: 0.5390\n",
            "Epoch 100/100\n",
            "1/1 [==============================] - 7s 7s/step - loss: 0.0731 - accuracy: 0.5000 - val_loss: 1.4175 - val_accuracy: 0.5390\n"
          ]
        },
        {
          "output_type": "execute_result",
          "data": {
            "text/plain": [
              "<keras.callbacks.History at 0x7ff69420a290>"
            ]
          },
          "metadata": {},
          "execution_count": 35
        }
      ]
    },
    {
      "cell_type": "code",
      "source": [
        "!tensorboard dev upload --logdir logs "
      ],
      "metadata": {
        "colab": {
          "base_uri": "https://localhost:8080/"
        },
        "id": "deyT4ayMd2fz",
        "outputId": "c073169b-c150-4789-c140-a48dc0006cf3"
      },
      "execution_count": null,
      "outputs": [
        {
          "output_type": "stream",
          "name": "stdout",
          "text": [
            "2023-05-21 18:09:31.798056: W tensorflow/compiler/tf2tensorrt/utils/py_utils.cc:38] TF-TRT Warning: Could not find TensorRT\n",
            "\n",
            "***** TensorBoard Uploader *****\n",
            "\n",
            "This will upload your TensorBoard logs to https://tensorboard.dev/ from\n",
            "the following directory:\n",
            "\n",
            "logs\n",
            "\n",
            "This TensorBoard will be visible to everyone. Do not upload sensitive\n",
            "data.\n",
            "\n",
            "Your use of this service is subject to Google's Terms of Service\n",
            "<https://policies.google.com/terms> and Privacy Policy\n",
            "<https://policies.google.com/privacy>, and TensorBoard.dev's Terms of Service\n",
            "<https://tensorboard.dev/policy/terms/>.\n",
            "\n",
            "This notice will not be shown again while you are logged into the uploader.\n",
            "To log out, run `tensorboard dev auth revoke`.\n",
            "\n",
            "Continue? (yes/NO) yes\n",
            "\n",
            "To sign in with the TensorBoard uploader:\n",
            "\n",
            "1. On your computer or phone, visit:\n",
            "\n",
            "   https://www.google.com/device\n",
            "\n",
            "2. Sign in with your Google account, then enter:\n",
            "\n",
            "   YNT-YRJ-FCC\n",
            "\n",
            "\n",
            "Upload started and will continue reading any new data as it's added to the logdir.\n",
            "\n",
            "To stop uploading, press Ctrl-C.\n",
            "\n",
            "New experiment created. View your TensorBoard at: https://tensorboard.dev/experiment/1h6iBetEQcmEFM1HKGJkpg/\n",
            "\n",
            "\u001b[1m[2023-05-21T18:10:12]\u001b[0m Started scanning logdir.\n",
            "\u001b[1m[2023-05-21T18:11:01]\u001b[0m Total uploaded: 600 scalars, 32000 tensors (22.5 MB), 1 binary objects (1.5 MB)\n"
          ]
        }
      ]
    },
    {
      "cell_type": "code",
      "source": [
        "model.save('path_to_my_model.h5')\n",
        "\n",
        "new_model = keras.models.load_model('path_to_my_model.h5')"
      ],
      "metadata": {
        "id": "W1HSccGXA8xa"
      },
      "execution_count": 36,
      "outputs": []
    },
    {
      "cell_type": "code",
      "source": [
        "pred = new_model.evaluate(x_test, y_test)"
      ],
      "metadata": {
        "colab": {
          "base_uri": "https://localhost:8080/"
        },
        "id": "JtVpbIO-V2da",
        "outputId": "2894a025-c348-4dd1-a2d8-c73592d626d6"
      },
      "execution_count": 37,
      "outputs": [
        {
          "output_type": "stream",
          "name": "stdout",
          "text": [
            "5/5 [==============================] - 2s 146ms/step - loss: 1.4298 - accuracy: 0.5496\n"
          ]
        }
      ]
    },
    {
      "cell_type": "code",
      "source": [],
      "metadata": {
        "id": "y0-yzi901Gs3"
      },
      "execution_count": null,
      "outputs": []
    }
  ],
  "metadata": {
    "colab": {
      "provenance": [],
      "include_colab_link": true
    },
    "kernelspec": {
      "display_name": "Python 3",
      "name": "python3"
    },
    "accelerator": "GPU",
    "gpuClass": "standard"
  },
  "nbformat": 4,
  "nbformat_minor": 0
}