{
  "nbformat": 4,
  "nbformat_minor": 0,
  "metadata": {
    "colab": {
      "provenance": [],
      "authorship_tag": "ABX9TyOWC9oAOWxg6iwTXaCUjS2e",
      "include_colab_link": true
    },
    "kernelspec": {
      "name": "python3",
      "display_name": "Python 3"
    },
    "language_info": {
      "name": "python"
    }
  },
  "cells": [
    {
      "cell_type": "markdown",
      "metadata": {
        "id": "view-in-github",
        "colab_type": "text"
      },
      "source": [
        "<a href=\"https://colab.research.google.com/github/DBCooper200/project_dl/blob/main/vgg.ipynb\" target=\"_parent\"><img src=\"https://colab.research.google.com/assets/colab-badge.svg\" alt=\"Open In Colab\"/></a>"
      ]
    },
    {
      "cell_type": "code",
      "execution_count": 1,
      "metadata": {
        "id": "JqmC1_RGUFEO"
      },
      "outputs": [],
      "source": [
        "from tkinter import messagebox\n",
        "from tkinter import *\n",
        "from tkinter import simpledialog\n",
        "import tkinter\n",
        "from tkinter import filedialog\n",
        "import matplotlib.pyplot as plt\n",
        "from tkinter.filedialog import askopenfilename\n",
        "import numpy as np"
      ]
    },
    {
      "cell_type": "code",
      "source": [
        "from sklearn.metrics import confusion_matrix\n",
        "from sklearn.metrics import accuracy_score\n",
        "from sklearn.metrics import precision_score\n",
        "from sklearn.metrics import recall_score\n",
        "from sklearn.metrics import f1_score\n",
        "import seaborn as sns\n",
        "import webbrowser\n",
        "from sklearn.metrics import roc_curve\n",
        "from sklearn import metrics\n",
        "import pandas as pd\n"
      ],
      "metadata": {
        "id": "rQvSUesQVWIN"
      },
      "execution_count": 2,
      "outputs": []
    },
    {
      "cell_type": "code",
      "source": [
        "!unzip /content/Monkeypox.zip -d /content/data/monkeypox_uz"
      ],
      "metadata": {
        "colab": {
          "base_uri": "https://localhost:8080/"
        },
        "id": "GFVswFKJZBk-",
        "outputId": "63f95d84-9c3d-4907-db15-4462c42f0544"
      },
      "execution_count": 3,
      "outputs": [
        {
          "output_type": "stream",
          "name": "stdout",
          "text": [
            "Archive:  /content/Monkeypox.zip\n",
            " extracting: /content/data/monkeypox_uz/aug_0_557.jpg  \n",
            " extracting: /content/data/monkeypox_uz/aug_0_1118.jpg  \n",
            " extracting: /content/data/monkeypox_uz/aug_0_1148.jpg  \n",
            " extracting: /content/data/monkeypox_uz/aug_0_4451.jpg  \n",
            " extracting: /content/data/monkeypox_uz/aug_0_8556.jpg  \n",
            " extracting: /content/data/monkeypox_uz/aug_0_8963.jpg  \n",
            " extracting: /content/data/monkeypox_uz/aug_1_1163.jpg  \n",
            " extracting: /content/data/monkeypox_uz/aug_1_4772.jpg  \n",
            " extracting: /content/data/monkeypox_uz/aug_1_7387.jpg  \n",
            " extracting: /content/data/monkeypox_uz/aug_1_7622.jpg  \n",
            " extracting: /content/data/monkeypox_uz/aug_1_9750.jpg  \n",
            " extracting: /content/data/monkeypox_uz/aug_10_581.jpg  \n",
            " extracting: /content/data/monkeypox_uz/aug_10_881.jpg  \n",
            " extracting: /content/data/monkeypox_uz/aug_10_2910.jpg  \n",
            " extracting: /content/data/monkeypox_uz/aug_10_4459.jpg  \n",
            " extracting: /content/data/monkeypox_uz/aug_10_7315.jpg  \n",
            " extracting: /content/data/monkeypox_uz/aug_11_419.jpg  \n",
            " extracting: /content/data/monkeypox_uz/aug_11_4203.jpg  \n",
            " extracting: /content/data/monkeypox_uz/aug_11_4292.jpg  \n",
            " extracting: /content/data/monkeypox_uz/aug_11_5202.jpg  \n",
            " extracting: /content/data/monkeypox_uz/aug_11_6191.jpg  \n"
          ]
        }
      ]
    },
    {
      "cell_type": "code",
      "source": [
        "!unzip /content/Normal.zip -d /content/data/normal_uz"
      ],
      "metadata": {
        "colab": {
          "base_uri": "https://localhost:8080/"
        },
        "id": "krXG1159dj4w",
        "outputId": "226b6d11-4bec-4cc6-d673-85a22108d795"
      },
      "execution_count": 4,
      "outputs": [
        {
          "output_type": "stream",
          "name": "stdout",
          "text": [
            "Archive:  /content/Normal.zip\n",
            " extracting: /content/data/normal_uz/aug_0_1381.jpg  \n",
            " extracting: /content/data/normal_uz/aug_0_1455.jpg  \n",
            " extracting: /content/data/normal_uz/aug_0_1948.jpg  \n",
            " extracting: /content/data/normal_uz/aug_0_2560.jpg  \n",
            " extracting: /content/data/normal_uz/aug_0_2751.jpg  \n",
            " extracting: /content/data/normal_uz/aug_0_3102.jpg  \n",
            " extracting: /content/data/normal_uz/aug_0_3465.jpg  \n",
            " extracting: /content/data/normal_uz/aug_0_3936.jpg  \n",
            " extracting: /content/data/normal_uz/aug_0_3951.jpg  \n",
            " extracting: /content/data/normal_uz/aug_0_5405.jpg  \n",
            " extracting: /content/data/normal_uz/aug_0_7172.jpg  \n",
            " extracting: /content/data/normal_uz/aug_0_7455.jpg  \n",
            " extracting: /content/data/normal_uz/aug_0_8504.jpg  \n",
            " extracting: /content/data/normal_uz/aug_1_426.jpg  \n",
            " extracting: /content/data/normal_uz/aug_1_662.jpg  \n",
            " extracting: /content/data/normal_uz/aug_1_1021.jpg  \n",
            " extracting: /content/data/normal_uz/aug_1_1863.jpg  \n",
            " extracting: /content/data/normal_uz/aug_1_2647.jpg  \n",
            " extracting: /content/data/normal_uz/aug_1_2933.jpg  \n",
            " extracting: /content/data/normal_uz/aug_1_3208.jpg  \n",
            " extracting: /content/data/normal_uz/aug_1_3490.jpg  \n"
          ]
        }
      ]
    },
    {
      "cell_type": "code",
      "source": [
        "import tensorflow \n",
        "import keras\n",
        "from keras.models import Sequential\n",
        "from keras.layers import Conv2D\n",
        "from keras.layers import MaxPooling2D\n",
        "from keras.layers import Flatten\n",
        "from keras.layers import Dense\n",
        "import matplotlib.pyplot as plt\n",
        "from keras.preprocessing import image\n",
        "import os\n",
        "import cv2\n",
        "import numpy as np\n",
        "from tqdm import tqdm\n",
        "import warnings\n",
        "warnings.filterwarnings('ignore')"
      ],
      "metadata": {
        "id": "TeJ8t79cewaI"
      },
      "execution_count": 5,
      "outputs": []
    },
    {
      "cell_type": "code",
      "source": [
        "path = ['/content/data/monkeypox_uz/', '/content/data/normal_uz/']\n",
        "images = []\n",
        "labels = []\n",
        "for n,i in enumerate(path):\n",
        "  c=0\n",
        "  for j in tqdm(os.listdir(i)):\n",
        "    c=c+1\n",
        "    img_path = os.path.join(i,j)\n",
        "    img = cv2.imread(img_path)\n",
        "    print(img_path)\n",
        "    #img = cv2.resize(img, (32,32),cv2.INTER_AREA)\n",
        "    '''\n",
        "    try:\n",
        "      img = cv2.resize(img, (32, 32), interpolation=cv2.INTER_AREA)\n",
        "    except:\n",
        "      break;\n",
        "    '''\n",
        "    img = cv2.resize(img, (32,32)) #resize image\n",
        "    im2arr = np.array(img)\n",
        "    im2arr = im2arr.reshape(32,32,3) #resize as colour image\n",
        "    labels.append(n)\n",
        "    images.append(img)\n",
        "images = np.array(images)/255\n",
        "labels = np.array(labels)"
      ],
      "metadata": {
        "colab": {
          "base_uri": "https://localhost:8080/"
        },
        "id": "uLncXe_bd5aI",
        "outputId": "494f3afb-025e-46e2-e9e6-53f8a15035af"
      },
      "execution_count": 31,
      "outputs": [
        {
          "output_type": "stream",
          "name": "stderr",
          "text": [
            "100%|██████████| 21/21 [00:00<00:00, 1085.72it/s]\n"
          ]
        },
        {
          "output_type": "stream",
          "name": "stdout",
          "text": [
            "/content/data/monkeypox_uz/aug_11_6191.jpg\n",
            "/content/data/monkeypox_uz/aug_10_581.jpg\n",
            "/content/data/monkeypox_uz/aug_1_1163.jpg\n",
            "/content/data/monkeypox_uz/aug_1_7622.jpg\n",
            "/content/data/monkeypox_uz/aug_10_4459.jpg\n",
            "/content/data/monkeypox_uz/aug_0_4451.jpg\n",
            "/content/data/monkeypox_uz/aug_0_557.jpg\n",
            "/content/data/monkeypox_uz/aug_11_5202.jpg\n",
            "/content/data/monkeypox_uz/aug_0_8556.jpg\n",
            "/content/data/monkeypox_uz/aug_11_4292.jpg\n",
            "/content/data/monkeypox_uz/aug_10_7315.jpg\n",
            "/content/data/monkeypox_uz/aug_1_9750.jpg\n",
            "/content/data/monkeypox_uz/aug_0_1118.jpg\n",
            "/content/data/monkeypox_uz/aug_1_7387.jpg\n",
            "/content/data/monkeypox_uz/aug_0_1148.jpg\n",
            "/content/data/monkeypox_uz/aug_10_2910.jpg\n",
            "/content/data/monkeypox_uz/aug_0_8963.jpg\n",
            "/content/data/monkeypox_uz/aug_10_881.jpg\n",
            "/content/data/monkeypox_uz/aug_11_419.jpg\n",
            "/content/data/monkeypox_uz/aug_1_4772.jpg\n",
            "/content/data/monkeypox_uz/aug_11_4203.jpg\n"
          ]
        },
        {
          "output_type": "stream",
          "name": "stderr",
          "text": [
            "100%|██████████| 21/21 [00:00<00:00, 879.19it/s]"
          ]
        },
        {
          "output_type": "stream",
          "name": "stdout",
          "text": [
            "/content/data/normal_uz/aug_0_2751.jpg\n",
            "/content/data/normal_uz/aug_1_2647.jpg\n",
            "/content/data/normal_uz/aug_1_1863.jpg\n",
            "/content/data/normal_uz/aug_0_1381.jpg\n",
            "/content/data/normal_uz/aug_0_2560.jpg\n",
            "/content/data/normal_uz/aug_0_5405.jpg\n",
            "/content/data/normal_uz/aug_1_2933.jpg\n",
            "/content/data/normal_uz/aug_0_3951.jpg\n",
            "/content/data/normal_uz/aug_0_7172.jpg\n",
            "/content/data/normal_uz/aug_1_1021.jpg\n",
            "/content/data/normal_uz/aug_1_662.jpg\n",
            "/content/data/normal_uz/aug_1_3208.jpg\n",
            "/content/data/normal_uz/aug_0_7455.jpg\n",
            "/content/data/normal_uz/aug_0_1455.jpg\n",
            "/content/data/normal_uz/aug_0_3465.jpg\n",
            "/content/data/normal_uz/aug_1_3490.jpg\n",
            "/content/data/normal_uz/aug_0_3102.jpg\n",
            "/content/data/normal_uz/aug_1_426.jpg\n",
            "/content/data/normal_uz/aug_0_1948.jpg\n",
            "/content/data/normal_uz/aug_0_8504.jpg\n",
            "/content/data/normal_uz/aug_0_3936.jpg\n"
          ]
        },
        {
          "output_type": "stream",
          "name": "stderr",
          "text": [
            "\n"
          ]
        }
      ]
    },
    {
      "cell_type": "code",
      "source": [
        "'''\n",
        "for n,i in enumerate(path):\n",
        "    for j in tqdm(os.listdir(i)):\n",
        "      print(\"***\")\n",
        "      print(j)\n",
        "      print(\"***\")\n",
        "      break\n",
        "'''"
      ],
      "metadata": {
        "id": "kzwyVhXa1Tze"
      },
      "execution_count": null,
      "outputs": []
    },
    {
      "cell_type": "code",
      "source": [
        "from sklearn.utils import shuffle\n",
        "from sklearn.model_selection import train_test_split\n",
        "\n",
        "images, labels = shuffle(images, labels, random_state=32)\n",
        "x_train, x_valid, y_train, y_valid = train_test_split(images, labels, test_size=0.15, random_state=44)\n",
        "x_train, x_test, y_train, y_test = train_test_split(x_train, y_train, test_size=0.15, random_state=40)"
      ],
      "metadata": {
        "id": "XpkRDzRf1g1F"
      },
      "execution_count": 34,
      "outputs": []
    },
    {
      "cell_type": "code",
      "source": [
        "from keras.applications import VGG16\n",
        "vgg16 = VGG16(input_shape=(x_train.shape[1], x_train.shape[2], x_train.shape[3]), include_top=False, weights=\"imagenet\")\n",
        "vgg16.trainable = False\n",
        "\n",
        "#defining transfer learning model object\n",
        "vgg = Sequential()\n",
        "#adding VGG16 to tranfer learning model\n",
        "vgg.add(vgg16)\n",
        "#defining new layers for transfer learning model with 32 layers to filter images\n",
        "vgg.add(Conv2D(32, 1, 1, input_shape = (x_train.shape[1], x_train.shape[2], x_train.shape[3]), activation = 'relu'))\n",
        "#max pooling collect all filtered data from VGG\n",
        "vgg.add(MaxPooling2D(pool_size = (1,1)))\n",
        "#another layer to refilter image data\n",
        "vgg.add(Conv2D(32, 1, 1, activation = 'relu'))\n",
        "vgg.add(MaxPooling2D(pool_size = (1, 1)))\n",
        "vgg.add(Flatten())\n",
        "vgg.add(Dense(units = 256, activation = 'relu')) #defining output layer\n",
        "vgg.add(Dense(units = 1, activation = 'softmax'))\n",
        "vgg.compile(optimizer = 'adam', loss = 'categorical_crossentropy', metrics = ['accuracy']) #compiling the model\n"
      ],
      "metadata": {
        "id": "wD_ez2MzVZYa"
      },
      "execution_count": 74,
      "outputs": []
    },
    {
      "cell_type": "code",
      "source": [
        "tb_callback = tensorflow.keras.callbacks.TensorBoard(log_dir=\"logs/\", histogram_freq=1)\n",
        "hist = vgg.fit(x_train, y_train, batch_size=16, callbacks=[tb_callback], epochs=10, shuffle=True, verbose=True, validation_data=(x_test, y_test)) #start training model"
      ],
      "metadata": {
        "colab": {
          "base_uri": "https://localhost:8080/"
        },
        "id": "HBZ6c_S-e1qe",
        "outputId": "be608b5e-68fd-47e2-e239-d46f52bb8523"
      },
      "execution_count": 72,
      "outputs": [
        {
          "output_type": "stream",
          "name": "stdout",
          "text": [
            "Epoch 1/10\n",
            "2/2 [==============================] - 5s 4s/step - loss: 0.6961 - accuracy: 0.5172 - val_loss: 0.6398 - val_accuracy: 0.5000\n",
            "Epoch 2/10\n",
            "2/2 [==============================] - 4s 4s/step - loss: 0.6259 - accuracy: 0.5172 - val_loss: 0.5908 - val_accuracy: 0.5000\n",
            "Epoch 3/10\n",
            "2/2 [==============================] - 5s 4s/step - loss: 0.5745 - accuracy: 0.5172 - val_loss: 0.5436 - val_accuracy: 0.5000\n",
            "Epoch 4/10\n",
            "2/2 [==============================] - 4s 4s/step - loss: 0.5158 - accuracy: 0.5172 - val_loss: 0.5014 - val_accuracy: 0.5000\n",
            "Epoch 5/10\n",
            "2/2 [==============================] - 5s 4s/step - loss: 0.4562 - accuracy: 0.5172 - val_loss: 0.4620 - val_accuracy: 0.5000\n",
            "Epoch 6/10\n",
            "2/2 [==============================] - 6s 6s/step - loss: 0.4037 - accuracy: 0.5172 - val_loss: 0.4223 - val_accuracy: 0.5000\n",
            "Epoch 7/10\n",
            "2/2 [==============================] - 4s 4s/step - loss: 0.3515 - accuracy: 0.5172 - val_loss: 0.3800 - val_accuracy: 0.5000\n",
            "Epoch 8/10\n",
            "2/2 [==============================] - 5s 4s/step - loss: 0.2976 - accuracy: 0.5172 - val_loss: 0.3276 - val_accuracy: 0.5000\n",
            "Epoch 9/10\n",
            "2/2 [==============================] - 4s 4s/step - loss: 0.2451 - accuracy: 0.5172 - val_loss: 0.2651 - val_accuracy: 0.5000\n",
            "Epoch 10/10\n",
            "2/2 [==============================] - 4s 4s/step - loss: 0.1891 - accuracy: 0.5172 - val_loss: 0.2061 - val_accuracy: 0.5000\n"
          ]
        }
      ]
    },
    {
      "cell_type": "code",
      "source": [
        "#shows loss and accuracy on test data\n",
        "pred = vgg.evaluate(x_test, y_test)"
      ],
      "metadata": {
        "colab": {
          "base_uri": "https://localhost:8080/"
        },
        "id": "Bu6ksoEZdwcU",
        "outputId": "b0dbcaac-8b60-4b7a-90c7-1cd8608eb6cb"
      },
      "execution_count": 73,
      "outputs": [
        {
          "output_type": "stream",
          "name": "stdout",
          "text": [
            "1/1 [==============================] - 0s 157ms/step - loss: 0.2061 - accuracy: 0.5000\n"
          ]
        }
      ]
    },
    {
      "cell_type": "code",
      "source": [
        "print(vgg.summary())"
      ],
      "metadata": {
        "colab": {
          "base_uri": "https://localhost:8080/"
        },
        "id": "Cb-YCDmfeOqS",
        "outputId": "3c05e6ad-8375-4f19-9885-6a72f6876f99"
      },
      "execution_count": 75,
      "outputs": [
        {
          "output_type": "stream",
          "name": "stdout",
          "text": [
            "Model: \"sequential_14\"\n",
            "_________________________________________________________________\n",
            " Layer (type)                Output Shape              Param #   \n",
            "=================================================================\n",
            " vgg16 (Functional)          (None, 1, 1, 512)         14714688  \n",
            "                                                                 \n",
            " conv2d_22 (Conv2D)          (None, 1, 1, 32)          16416     \n",
            "                                                                 \n",
            " max_pooling2d_22 (MaxPoolin  (None, 1, 1, 32)         0         \n",
            " g2D)                                                            \n",
            "                                                                 \n",
            " conv2d_23 (Conv2D)          (None, 1, 1, 32)          1056      \n",
            "                                                                 \n",
            " max_pooling2d_23 (MaxPoolin  (None, 1, 1, 32)         0         \n",
            " g2D)                                                            \n",
            "                                                                 \n",
            " flatten_12 (Flatten)        (None, 32)                0         \n",
            "                                                                 \n",
            " dense_21 (Dense)            (None, 256)               8448      \n",
            "                                                                 \n",
            " dense_22 (Dense)            (None, 1)                 257       \n",
            "                                                                 \n",
            "=================================================================\n",
            "Total params: 14,740,865\n",
            "Trainable params: 26,177\n",
            "Non-trainable params: 14,714,688\n",
            "_________________________________________________________________\n",
            "None\n"
          ]
        }
      ]
    },
    {
      "cell_type": "code",
      "source": [
        "!tensorboard dev upload --logdir logs "
      ],
      "metadata": {
        "colab": {
          "base_uri": "https://localhost:8080/"
        },
        "id": "xmPXdPDbgTuu",
        "outputId": "8bc838c5-93d8-4765-afcf-31ed01773b54"
      },
      "execution_count": null,
      "outputs": [
        {
          "output_type": "stream",
          "name": "stdout",
          "text": [
            "2023-06-12 12:17:41.681289: W tensorflow/compiler/tf2tensorrt/utils/py_utils.cc:38] TF-TRT Warning: Could not find TensorRT\n",
            "\n",
            "***** TensorBoard Uploader *****\n",
            "\n",
            "This will upload your TensorBoard logs to https://tensorboard.dev/ from\n",
            "the following directory:\n",
            "\n",
            "logs\n",
            "\n",
            "This TensorBoard will be visible to everyone. Do not upload sensitive\n",
            "data.\n",
            "\n",
            "Your use of this service is subject to Google's Terms of Service\n",
            "<https://policies.google.com/terms> and Privacy Policy\n",
            "<https://policies.google.com/privacy>, and TensorBoard.dev's Terms of Service\n",
            "<https://tensorboard.dev/policy/terms/>.\n",
            "\n",
            "This notice will not be shown again while you are logged into the uploader.\n",
            "To log out, run `tensorboard dev auth revoke`.\n",
            "\n",
            "Continue? (yes/NO) yes\n",
            "\n",
            "To sign in with the TensorBoard uploader:\n",
            "\n",
            "1. On your computer or phone, visit:\n",
            "\n",
            "   https://www.google.com/device\n",
            "\n",
            "2. Sign in with your Google account, then enter:\n",
            "\n",
            "   JDTZ-QFMN\n",
            "\n",
            "\n",
            "Upload started and will continue reading any new data as it's added to the logdir.\n",
            "\n",
            "To stop uploading, press Ctrl-C.\n",
            "\n",
            "New experiment created. View your TensorBoard at: https://tensorboard.dev/experiment/flDIytA9TwuaOF4cQmQZcQ/\n",
            "\n",
            "\u001b[1m[2023-06-12T12:18:41]\u001b[0m Started scanning logdir.\n",
            "E0612 12:18:43.267445 139956104939328 uploader.py:1122] Attempted to re-upload existing blob.  Skipping.\n",
            "E0612 12:18:44.271834 139956104939328 uploader.py:1122] Attempted to re-upload existing blob.  Skipping.\n",
            "E0612 12:18:45.259261 139956104939328 uploader.py:1122] Attempted to re-upload existing blob.  Skipping.\n",
            "E0612 12:18:46.268009 139956104939328 uploader.py:1122] Attempted to re-upload existing blob.  Skipping.\n",
            "E0612 12:18:47.264634 139956104939328 uploader.py:1122] Attempted to re-upload existing blob.  Skipping.\n",
            "E0612 12:18:48.270285 139956104939328 uploader.py:1122] Attempted to re-upload existing blob.  Skipping.\n",
            "E0612 12:18:49.264540 139956104939328 uploader.py:1122] Attempted to re-upload existing blob.  Skipping.\n",
            "\u001b[1m[2023-06-12T12:18:50]\u001b[0m Total uploaded: 402 scalars, 2200 tensors (1.5 MB), 1 binary objects (105.2 kB)\n",
            "\u001b[90mTotal skipped: 7 binary objects (740.7 kB)\n"
          ]
        }
      ]
    },
    {
      "cell_type": "code",
      "source": [],
      "metadata": {
        "id": "urcNVudzhhWr"
      },
      "execution_count": null,
      "outputs": []
    }
  ]
}